{
  "nbformat": 4,
  "nbformat_minor": 5,
  "metadata": {
    "kernelspec": {
      "name": "python3",
      "display_name": "Python 3"
    },
    "colab": {
      "name": "proyectofinal02a-nn-secuencial.ipynb",
      "provenance": [],
      "collapsed_sections": [],
      "toc_visible": true
    },
    "language_info": {
      "name": "python"
    },
    "accelerator": "GPU",
    "widgets": {
      "application/vnd.jupyter.widget-state+json": {
        "2c41d6d899824dba8db881d2c12f0093": {
          "model_module": "@jupyter-widgets/controls",
          "model_name": "HBoxModel",
          "state": {
            "_view_name": "HBoxView",
            "_dom_classes": [],
            "_model_name": "HBoxModel",
            "_view_module": "@jupyter-widgets/controls",
            "_model_module_version": "1.5.0",
            "_view_count": null,
            "_view_module_version": "1.5.0",
            "box_style": "",
            "layout": "IPY_MODEL_03a0a616611540abb3dfba39a510717e",
            "_model_module": "@jupyter-widgets/controls",
            "children": [
              "IPY_MODEL_0f1c3f93ee604a9287d850b8e8ebbbec",
              "IPY_MODEL_8d6158cd7940480fbca51b4a0acc09d0"
            ]
          }
        },
        "03a0a616611540abb3dfba39a510717e": {
          "model_module": "@jupyter-widgets/base",
          "model_name": "LayoutModel",
          "state": {
            "_view_name": "LayoutView",
            "grid_template_rows": null,
            "right": null,
            "justify_content": null,
            "_view_module": "@jupyter-widgets/base",
            "overflow": null,
            "_model_module_version": "1.2.0",
            "_view_count": null,
            "flex_flow": null,
            "width": null,
            "min_width": null,
            "border": null,
            "align_items": null,
            "bottom": null,
            "_model_module": "@jupyter-widgets/base",
            "top": null,
            "grid_column": null,
            "overflow_y": null,
            "overflow_x": null,
            "grid_auto_flow": null,
            "grid_area": null,
            "grid_template_columns": null,
            "flex": null,
            "_model_name": "LayoutModel",
            "justify_items": null,
            "grid_row": null,
            "max_height": null,
            "align_content": null,
            "visibility": null,
            "align_self": null,
            "height": null,
            "min_height": null,
            "padding": null,
            "grid_auto_rows": null,
            "grid_gap": null,
            "max_width": null,
            "order": null,
            "_view_module_version": "1.2.0",
            "grid_template_areas": null,
            "object_position": null,
            "object_fit": null,
            "grid_auto_columns": null,
            "margin": null,
            "display": null,
            "left": null
          }
        },
        "0f1c3f93ee604a9287d850b8e8ebbbec": {
          "model_module": "@jupyter-widgets/controls",
          "model_name": "FloatProgressModel",
          "state": {
            "_view_name": "ProgressView",
            "style": "IPY_MODEL_f21054087f7d45f8811069d95949a52a",
            "_dom_classes": [],
            "description": "100%",
            "_model_name": "FloatProgressModel",
            "bar_style": "success",
            "max": 100,
            "_view_module": "@jupyter-widgets/controls",
            "_model_module_version": "1.5.0",
            "value": 100,
            "_view_count": null,
            "_view_module_version": "1.5.0",
            "orientation": "horizontal",
            "min": 0,
            "description_tooltip": null,
            "_model_module": "@jupyter-widgets/controls",
            "layout": "IPY_MODEL_a77e5bdcbf7142ccbc37d2543357d0d8"
          }
        },
        "8d6158cd7940480fbca51b4a0acc09d0": {
          "model_module": "@jupyter-widgets/controls",
          "model_name": "HTMLModel",
          "state": {
            "_view_name": "HTMLView",
            "style": "IPY_MODEL_9d6804317b5640ae80675c421180c290",
            "_dom_classes": [],
            "description": "",
            "_model_name": "HTMLModel",
            "placeholder": "​",
            "_view_module": "@jupyter-widgets/controls",
            "_model_module_version": "1.5.0",
            "value": " 100/100 [09:48&lt;00:00,  5.88s/epoch, loss=6.29e-5, mse=6.29e-5, mae=0.00532, mean_squared_logarithmic_error=4.01e-5, val_loss=0.0106, val_mse=0.0106, val_mae=0.0639, val_mean_squared_logarithmic_error=0.00481]",
            "_view_count": null,
            "_view_module_version": "1.5.0",
            "description_tooltip": null,
            "_model_module": "@jupyter-widgets/controls",
            "layout": "IPY_MODEL_3394ca3fcb004a20974c9d1a9aaa124a"
          }
        },
        "f21054087f7d45f8811069d95949a52a": {
          "model_module": "@jupyter-widgets/controls",
          "model_name": "ProgressStyleModel",
          "state": {
            "_view_name": "StyleView",
            "_model_name": "ProgressStyleModel",
            "description_width": "initial",
            "_view_module": "@jupyter-widgets/base",
            "_model_module_version": "1.5.0",
            "_view_count": null,
            "_view_module_version": "1.2.0",
            "bar_color": null,
            "_model_module": "@jupyter-widgets/controls"
          }
        },
        "a77e5bdcbf7142ccbc37d2543357d0d8": {
          "model_module": "@jupyter-widgets/base",
          "model_name": "LayoutModel",
          "state": {
            "_view_name": "LayoutView",
            "grid_template_rows": null,
            "right": null,
            "justify_content": null,
            "_view_module": "@jupyter-widgets/base",
            "overflow": null,
            "_model_module_version": "1.2.0",
            "_view_count": null,
            "flex_flow": null,
            "width": null,
            "min_width": null,
            "border": null,
            "align_items": null,
            "bottom": null,
            "_model_module": "@jupyter-widgets/base",
            "top": null,
            "grid_column": null,
            "overflow_y": null,
            "overflow_x": null,
            "grid_auto_flow": null,
            "grid_area": null,
            "grid_template_columns": null,
            "flex": null,
            "_model_name": "LayoutModel",
            "justify_items": null,
            "grid_row": null,
            "max_height": null,
            "align_content": null,
            "visibility": null,
            "align_self": null,
            "height": null,
            "min_height": null,
            "padding": null,
            "grid_auto_rows": null,
            "grid_gap": null,
            "max_width": null,
            "order": null,
            "_view_module_version": "1.2.0",
            "grid_template_areas": null,
            "object_position": null,
            "object_fit": null,
            "grid_auto_columns": null,
            "margin": null,
            "display": null,
            "left": null
          }
        },
        "9d6804317b5640ae80675c421180c290": {
          "model_module": "@jupyter-widgets/controls",
          "model_name": "DescriptionStyleModel",
          "state": {
            "_view_name": "StyleView",
            "_model_name": "DescriptionStyleModel",
            "description_width": "",
            "_view_module": "@jupyter-widgets/base",
            "_model_module_version": "1.5.0",
            "_view_count": null,
            "_view_module_version": "1.2.0",
            "_model_module": "@jupyter-widgets/controls"
          }
        },
        "3394ca3fcb004a20974c9d1a9aaa124a": {
          "model_module": "@jupyter-widgets/base",
          "model_name": "LayoutModel",
          "state": {
            "_view_name": "LayoutView",
            "grid_template_rows": null,
            "right": null,
            "justify_content": null,
            "_view_module": "@jupyter-widgets/base",
            "overflow": null,
            "_model_module_version": "1.2.0",
            "_view_count": null,
            "flex_flow": null,
            "width": null,
            "min_width": null,
            "border": null,
            "align_items": null,
            "bottom": null,
            "_model_module": "@jupyter-widgets/base",
            "top": null,
            "grid_column": null,
            "overflow_y": null,
            "overflow_x": null,
            "grid_auto_flow": null,
            "grid_area": null,
            "grid_template_columns": null,
            "flex": null,
            "_model_name": "LayoutModel",
            "justify_items": null,
            "grid_row": null,
            "max_height": null,
            "align_content": null,
            "visibility": null,
            "align_self": null,
            "height": null,
            "min_height": null,
            "padding": null,
            "grid_auto_rows": null,
            "grid_gap": null,
            "max_width": null,
            "order": null,
            "_view_module_version": "1.2.0",
            "grid_template_areas": null,
            "object_position": null,
            "object_fit": null,
            "grid_auto_columns": null,
            "margin": null,
            "display": null,
            "left": null
          }
        },
        "a707fb6d82504eb996e08c9b734defab": {
          "model_module": "@jupyter-widgets/controls",
          "model_name": "HBoxModel",
          "state": {
            "_view_name": "HBoxView",
            "_dom_classes": [],
            "_model_name": "HBoxModel",
            "_view_module": "@jupyter-widgets/controls",
            "_model_module_version": "1.5.0",
            "_view_count": null,
            "_view_module_version": "1.5.0",
            "box_style": "",
            "layout": "IPY_MODEL_a8fc2b39bf2e48cc9a8f1cf1b95ea51a",
            "_model_module": "@jupyter-widgets/controls",
            "children": [
              "IPY_MODEL_1a8dede717eb47319f50b9ff527a54bc",
              "IPY_MODEL_c98fb0560c424e9dbdaf82d17e95eaa0"
            ]
          }
        },
        "a8fc2b39bf2e48cc9a8f1cf1b95ea51a": {
          "model_module": "@jupyter-widgets/base",
          "model_name": "LayoutModel",
          "state": {
            "_view_name": "LayoutView",
            "grid_template_rows": null,
            "right": null,
            "justify_content": null,
            "_view_module": "@jupyter-widgets/base",
            "overflow": null,
            "_model_module_version": "1.2.0",
            "_view_count": null,
            "flex_flow": null,
            "width": null,
            "min_width": null,
            "border": null,
            "align_items": null,
            "bottom": null,
            "_model_module": "@jupyter-widgets/base",
            "top": null,
            "grid_column": null,
            "overflow_y": null,
            "overflow_x": null,
            "grid_auto_flow": null,
            "grid_area": null,
            "grid_template_columns": null,
            "flex": null,
            "_model_name": "LayoutModel",
            "justify_items": null,
            "grid_row": null,
            "max_height": null,
            "align_content": null,
            "visibility": null,
            "align_self": null,
            "height": null,
            "min_height": null,
            "padding": null,
            "grid_auto_rows": null,
            "grid_gap": null,
            "max_width": null,
            "order": null,
            "_view_module_version": "1.2.0",
            "grid_template_areas": null,
            "object_position": null,
            "object_fit": null,
            "grid_auto_columns": null,
            "margin": null,
            "display": null,
            "left": null
          }
        },
        "1a8dede717eb47319f50b9ff527a54bc": {
          "model_module": "@jupyter-widgets/controls",
          "model_name": "FloatProgressModel",
          "state": {
            "_view_name": "ProgressView",
            "style": "IPY_MODEL_f22735e8459543a48444ff06ea878638",
            "_dom_classes": [],
            "description": "100%",
            "_model_name": "FloatProgressModel",
            "bar_style": "info",
            "max": 500,
            "_view_module": "@jupyter-widgets/controls",
            "_model_module_version": "1.5.0",
            "value": 500,
            "_view_count": null,
            "_view_module_version": "1.5.0",
            "orientation": "horizontal",
            "min": 0,
            "description_tooltip": null,
            "_model_module": "@jupyter-widgets/controls",
            "layout": "IPY_MODEL_d880194178d14283968c5ec7b666780e"
          }
        },
        "c98fb0560c424e9dbdaf82d17e95eaa0": {
          "model_module": "@jupyter-widgets/controls",
          "model_name": "HTMLModel",
          "state": {
            "_view_name": "HTMLView",
            "style": "IPY_MODEL_1f622faa5a634628bdf1cdff5c338091",
            "_dom_classes": [],
            "description": "",
            "_model_name": "HTMLModel",
            "placeholder": "​",
            "_view_module": "@jupyter-widgets/controls",
            "_model_module_version": "1.5.0",
            "value": " 500/500 [00:04&lt;00:00, 163batch/s, loss=6.29e-5, mse=6.29e-5, mae=0.00532, mean_squared_logarithmic_error=4.01e-5]",
            "_view_count": null,
            "_view_module_version": "1.5.0",
            "description_tooltip": null,
            "_model_module": "@jupyter-widgets/controls",
            "layout": "IPY_MODEL_c69fd9521c914c729e272846c945830a"
          }
        },
        "f22735e8459543a48444ff06ea878638": {
          "model_module": "@jupyter-widgets/controls",
          "model_name": "ProgressStyleModel",
          "state": {
            "_view_name": "StyleView",
            "_model_name": "ProgressStyleModel",
            "description_width": "initial",
            "_view_module": "@jupyter-widgets/base",
            "_model_module_version": "1.5.0",
            "_view_count": null,
            "_view_module_version": "1.2.0",
            "bar_color": null,
            "_model_module": "@jupyter-widgets/controls"
          }
        },
        "d880194178d14283968c5ec7b666780e": {
          "model_module": "@jupyter-widgets/base",
          "model_name": "LayoutModel",
          "state": {
            "_view_name": "LayoutView",
            "grid_template_rows": null,
            "right": null,
            "justify_content": null,
            "_view_module": "@jupyter-widgets/base",
            "overflow": null,
            "_model_module_version": "1.2.0",
            "_view_count": null,
            "flex_flow": null,
            "width": null,
            "min_width": null,
            "border": null,
            "align_items": null,
            "bottom": null,
            "_model_module": "@jupyter-widgets/base",
            "top": null,
            "grid_column": null,
            "overflow_y": null,
            "overflow_x": null,
            "grid_auto_flow": null,
            "grid_area": null,
            "grid_template_columns": null,
            "flex": null,
            "_model_name": "LayoutModel",
            "justify_items": null,
            "grid_row": null,
            "max_height": null,
            "align_content": null,
            "visibility": null,
            "align_self": null,
            "height": null,
            "min_height": null,
            "padding": null,
            "grid_auto_rows": null,
            "grid_gap": null,
            "max_width": null,
            "order": null,
            "_view_module_version": "1.2.0",
            "grid_template_areas": null,
            "object_position": null,
            "object_fit": null,
            "grid_auto_columns": null,
            "margin": null,
            "display": null,
            "left": null
          }
        },
        "1f622faa5a634628bdf1cdff5c338091": {
          "model_module": "@jupyter-widgets/controls",
          "model_name": "DescriptionStyleModel",
          "state": {
            "_view_name": "StyleView",
            "_model_name": "DescriptionStyleModel",
            "description_width": "",
            "_view_module": "@jupyter-widgets/base",
            "_model_module_version": "1.5.0",
            "_view_count": null,
            "_view_module_version": "1.2.0",
            "_model_module": "@jupyter-widgets/controls"
          }
        },
        "c69fd9521c914c729e272846c945830a": {
          "model_module": "@jupyter-widgets/base",
          "model_name": "LayoutModel",
          "state": {
            "_view_name": "LayoutView",
            "grid_template_rows": null,
            "right": null,
            "justify_content": null,
            "_view_module": "@jupyter-widgets/base",
            "overflow": null,
            "_model_module_version": "1.2.0",
            "_view_count": null,
            "flex_flow": null,
            "width": null,
            "min_width": null,
            "border": null,
            "align_items": null,
            "bottom": null,
            "_model_module": "@jupyter-widgets/base",
            "top": null,
            "grid_column": null,
            "overflow_y": null,
            "overflow_x": null,
            "grid_auto_flow": null,
            "grid_area": null,
            "grid_template_columns": null,
            "flex": null,
            "_model_name": "LayoutModel",
            "justify_items": null,
            "grid_row": null,
            "max_height": null,
            "align_content": null,
            "visibility": null,
            "align_self": null,
            "height": null,
            "min_height": null,
            "padding": null,
            "grid_auto_rows": null,
            "grid_gap": null,
            "max_width": null,
            "order": null,
            "_view_module_version": "1.2.0",
            "grid_template_areas": null,
            "object_position": null,
            "object_fit": null,
            "grid_auto_columns": null,
            "margin": null,
            "display": null,
            "left": null
          }
        },
        "960eaf7c659641a3990c24d75679000c": {
          "model_module": "@jupyter-widgets/controls",
          "model_name": "HBoxModel",
          "state": {
            "_view_name": "HBoxView",
            "_dom_classes": [],
            "_model_name": "HBoxModel",
            "_view_module": "@jupyter-widgets/controls",
            "_model_module_version": "1.5.0",
            "_view_count": null,
            "_view_module_version": "1.5.0",
            "box_style": "",
            "layout": "IPY_MODEL_3e04818964674a4098c1e27108883d7a",
            "_model_module": "@jupyter-widgets/controls",
            "children": [
              "IPY_MODEL_1a2e2060d66b4aa287892286f935a649",
              "IPY_MODEL_b921643fa0894d22806de95188f251ab"
            ]
          }
        },
        "3e04818964674a4098c1e27108883d7a": {
          "model_module": "@jupyter-widgets/base",
          "model_name": "LayoutModel",
          "state": {
            "_view_name": "LayoutView",
            "grid_template_rows": null,
            "right": null,
            "justify_content": null,
            "_view_module": "@jupyter-widgets/base",
            "overflow": null,
            "_model_module_version": "1.2.0",
            "_view_count": null,
            "flex_flow": null,
            "width": null,
            "min_width": null,
            "border": null,
            "align_items": null,
            "bottom": null,
            "_model_module": "@jupyter-widgets/base",
            "top": null,
            "grid_column": null,
            "overflow_y": null,
            "overflow_x": null,
            "grid_auto_flow": null,
            "grid_area": null,
            "grid_template_columns": null,
            "flex": null,
            "_model_name": "LayoutModel",
            "justify_items": null,
            "grid_row": null,
            "max_height": null,
            "align_content": null,
            "visibility": null,
            "align_self": null,
            "height": null,
            "min_height": null,
            "padding": null,
            "grid_auto_rows": null,
            "grid_gap": null,
            "max_width": null,
            "order": null,
            "_view_module_version": "1.2.0",
            "grid_template_areas": null,
            "object_position": null,
            "object_fit": null,
            "grid_auto_columns": null,
            "margin": null,
            "display": null,
            "left": null
          }
        },
        "1a2e2060d66b4aa287892286f935a649": {
          "model_module": "@jupyter-widgets/controls",
          "model_name": "FloatProgressModel",
          "state": {
            "_view_name": "ProgressView",
            "style": "IPY_MODEL_7d7cda0f036847699043c40fb78725e9",
            "_dom_classes": [],
            "description": "100%",
            "_model_name": "FloatProgressModel",
            "bar_style": "success",
            "max": 100,
            "_view_module": "@jupyter-widgets/controls",
            "_model_module_version": "1.5.0",
            "value": 100,
            "_view_count": null,
            "_view_module_version": "1.5.0",
            "orientation": "horizontal",
            "min": 0,
            "description_tooltip": null,
            "_model_module": "@jupyter-widgets/controls",
            "layout": "IPY_MODEL_6141bacee0d24d338ca4d72dffecdd18"
          }
        },
        "b921643fa0894d22806de95188f251ab": {
          "model_module": "@jupyter-widgets/controls",
          "model_name": "HTMLModel",
          "state": {
            "_view_name": "HTMLView",
            "style": "IPY_MODEL_a8d8c5601d9f490598822d4ea101ffbd",
            "_dom_classes": [],
            "description": "",
            "_model_name": "HTMLModel",
            "placeholder": "​",
            "_view_module": "@jupyter-widgets/controls",
            "_model_module_version": "1.5.0",
            "value": " 100/100 [03:20&lt;00:00,  2.01s/epoch, loss=0.00119, mse=0.00119, mae=0.0253, mean_squared_logarithmic_error=0.000724, val_loss=0.109, val_mse=0.109, val_mae=0.271, val_mean_squared_logarithmic_error=0.0533]",
            "_view_count": null,
            "_view_module_version": "1.5.0",
            "description_tooltip": null,
            "_model_module": "@jupyter-widgets/controls",
            "layout": "IPY_MODEL_779a15e442f0408f83e8ef455c646bd6"
          }
        },
        "7d7cda0f036847699043c40fb78725e9": {
          "model_module": "@jupyter-widgets/controls",
          "model_name": "ProgressStyleModel",
          "state": {
            "_view_name": "StyleView",
            "_model_name": "ProgressStyleModel",
            "description_width": "initial",
            "_view_module": "@jupyter-widgets/base",
            "_model_module_version": "1.5.0",
            "_view_count": null,
            "_view_module_version": "1.2.0",
            "bar_color": null,
            "_model_module": "@jupyter-widgets/controls"
          }
        },
        "6141bacee0d24d338ca4d72dffecdd18": {
          "model_module": "@jupyter-widgets/base",
          "model_name": "LayoutModel",
          "state": {
            "_view_name": "LayoutView",
            "grid_template_rows": null,
            "right": null,
            "justify_content": null,
            "_view_module": "@jupyter-widgets/base",
            "overflow": null,
            "_model_module_version": "1.2.0",
            "_view_count": null,
            "flex_flow": null,
            "width": null,
            "min_width": null,
            "border": null,
            "align_items": null,
            "bottom": null,
            "_model_module": "@jupyter-widgets/base",
            "top": null,
            "grid_column": null,
            "overflow_y": null,
            "overflow_x": null,
            "grid_auto_flow": null,
            "grid_area": null,
            "grid_template_columns": null,
            "flex": null,
            "_model_name": "LayoutModel",
            "justify_items": null,
            "grid_row": null,
            "max_height": null,
            "align_content": null,
            "visibility": null,
            "align_self": null,
            "height": null,
            "min_height": null,
            "padding": null,
            "grid_auto_rows": null,
            "grid_gap": null,
            "max_width": null,
            "order": null,
            "_view_module_version": "1.2.0",
            "grid_template_areas": null,
            "object_position": null,
            "object_fit": null,
            "grid_auto_columns": null,
            "margin": null,
            "display": null,
            "left": null
          }
        },
        "a8d8c5601d9f490598822d4ea101ffbd": {
          "model_module": "@jupyter-widgets/controls",
          "model_name": "DescriptionStyleModel",
          "state": {
            "_view_name": "StyleView",
            "_model_name": "DescriptionStyleModel",
            "description_width": "",
            "_view_module": "@jupyter-widgets/base",
            "_model_module_version": "1.5.0",
            "_view_count": null,
            "_view_module_version": "1.2.0",
            "_model_module": "@jupyter-widgets/controls"
          }
        },
        "779a15e442f0408f83e8ef455c646bd6": {
          "model_module": "@jupyter-widgets/base",
          "model_name": "LayoutModel",
          "state": {
            "_view_name": "LayoutView",
            "grid_template_rows": null,
            "right": null,
            "justify_content": null,
            "_view_module": "@jupyter-widgets/base",
            "overflow": null,
            "_model_module_version": "1.2.0",
            "_view_count": null,
            "flex_flow": null,
            "width": null,
            "min_width": null,
            "border": null,
            "align_items": null,
            "bottom": null,
            "_model_module": "@jupyter-widgets/base",
            "top": null,
            "grid_column": null,
            "overflow_y": null,
            "overflow_x": null,
            "grid_auto_flow": null,
            "grid_area": null,
            "grid_template_columns": null,
            "flex": null,
            "_model_name": "LayoutModel",
            "justify_items": null,
            "grid_row": null,
            "max_height": null,
            "align_content": null,
            "visibility": null,
            "align_self": null,
            "height": null,
            "min_height": null,
            "padding": null,
            "grid_auto_rows": null,
            "grid_gap": null,
            "max_width": null,
            "order": null,
            "_view_module_version": "1.2.0",
            "grid_template_areas": null,
            "object_position": null,
            "object_fit": null,
            "grid_auto_columns": null,
            "margin": null,
            "display": null,
            "left": null
          }
        },
        "b5c248f3c1fd426698caa684641ae10a": {
          "model_module": "@jupyter-widgets/controls",
          "model_name": "HBoxModel",
          "state": {
            "_view_name": "HBoxView",
            "_dom_classes": [],
            "_model_name": "HBoxModel",
            "_view_module": "@jupyter-widgets/controls",
            "_model_module_version": "1.5.0",
            "_view_count": null,
            "_view_module_version": "1.5.0",
            "box_style": "",
            "layout": "IPY_MODEL_c41300ced6cf4331b1fa38d982f4ad1b",
            "_model_module": "@jupyter-widgets/controls",
            "children": [
              "IPY_MODEL_11b7c30449144d26bf3189adddae83f5",
              "IPY_MODEL_8aedde5323fa44f7864dabb4c873b480"
            ]
          }
        },
        "c41300ced6cf4331b1fa38d982f4ad1b": {
          "model_module": "@jupyter-widgets/base",
          "model_name": "LayoutModel",
          "state": {
            "_view_name": "LayoutView",
            "grid_template_rows": null,
            "right": null,
            "justify_content": null,
            "_view_module": "@jupyter-widgets/base",
            "overflow": null,
            "_model_module_version": "1.2.0",
            "_view_count": null,
            "flex_flow": null,
            "width": null,
            "min_width": null,
            "border": null,
            "align_items": null,
            "bottom": null,
            "_model_module": "@jupyter-widgets/base",
            "top": null,
            "grid_column": null,
            "overflow_y": null,
            "overflow_x": null,
            "grid_auto_flow": null,
            "grid_area": null,
            "grid_template_columns": null,
            "flex": null,
            "_model_name": "LayoutModel",
            "justify_items": null,
            "grid_row": null,
            "max_height": null,
            "align_content": null,
            "visibility": null,
            "align_self": null,
            "height": null,
            "min_height": null,
            "padding": null,
            "grid_auto_rows": null,
            "grid_gap": null,
            "max_width": null,
            "order": null,
            "_view_module_version": "1.2.0",
            "grid_template_areas": null,
            "object_position": null,
            "object_fit": null,
            "grid_auto_columns": null,
            "margin": null,
            "display": null,
            "left": null
          }
        },
        "11b7c30449144d26bf3189adddae83f5": {
          "model_module": "@jupyter-widgets/controls",
          "model_name": "FloatProgressModel",
          "state": {
            "_view_name": "ProgressView",
            "style": "IPY_MODEL_c524dfb4edd44a3592e8fdcb74c7c5c5",
            "_dom_classes": [],
            "description": "100%",
            "_model_name": "FloatProgressModel",
            "bar_style": "info",
            "max": 100,
            "_view_module": "@jupyter-widgets/controls",
            "_model_module_version": "1.5.0",
            "value": 100,
            "_view_count": null,
            "_view_module_version": "1.5.0",
            "orientation": "horizontal",
            "min": 0,
            "description_tooltip": null,
            "_model_module": "@jupyter-widgets/controls",
            "layout": "IPY_MODEL_5ad6badb55d84d00904da9cda0f22a07"
          }
        },
        "8aedde5323fa44f7864dabb4c873b480": {
          "model_module": "@jupyter-widgets/controls",
          "model_name": "HTMLModel",
          "state": {
            "_view_name": "HTMLView",
            "style": "IPY_MODEL_e2a71f7d559247009665879a2e200578",
            "_dom_classes": [],
            "description": "",
            "_model_name": "HTMLModel",
            "placeholder": "​",
            "_view_module": "@jupyter-widgets/controls",
            "_model_module_version": "1.5.0",
            "value": " 100/100 [00:01&lt;00:00, 172batch/s, loss=0.00119, mse=0.00119, mae=0.0253, mean_squared_logarithmic_error=0.000724]",
            "_view_count": null,
            "_view_module_version": "1.5.0",
            "description_tooltip": null,
            "_model_module": "@jupyter-widgets/controls",
            "layout": "IPY_MODEL_2261ddf91fa845c09aea7f44e3db481c"
          }
        },
        "c524dfb4edd44a3592e8fdcb74c7c5c5": {
          "model_module": "@jupyter-widgets/controls",
          "model_name": "ProgressStyleModel",
          "state": {
            "_view_name": "StyleView",
            "_model_name": "ProgressStyleModel",
            "description_width": "initial",
            "_view_module": "@jupyter-widgets/base",
            "_model_module_version": "1.5.0",
            "_view_count": null,
            "_view_module_version": "1.2.0",
            "bar_color": null,
            "_model_module": "@jupyter-widgets/controls"
          }
        },
        "5ad6badb55d84d00904da9cda0f22a07": {
          "model_module": "@jupyter-widgets/base",
          "model_name": "LayoutModel",
          "state": {
            "_view_name": "LayoutView",
            "grid_template_rows": null,
            "right": null,
            "justify_content": null,
            "_view_module": "@jupyter-widgets/base",
            "overflow": null,
            "_model_module_version": "1.2.0",
            "_view_count": null,
            "flex_flow": null,
            "width": null,
            "min_width": null,
            "border": null,
            "align_items": null,
            "bottom": null,
            "_model_module": "@jupyter-widgets/base",
            "top": null,
            "grid_column": null,
            "overflow_y": null,
            "overflow_x": null,
            "grid_auto_flow": null,
            "grid_area": null,
            "grid_template_columns": null,
            "flex": null,
            "_model_name": "LayoutModel",
            "justify_items": null,
            "grid_row": null,
            "max_height": null,
            "align_content": null,
            "visibility": null,
            "align_self": null,
            "height": null,
            "min_height": null,
            "padding": null,
            "grid_auto_rows": null,
            "grid_gap": null,
            "max_width": null,
            "order": null,
            "_view_module_version": "1.2.0",
            "grid_template_areas": null,
            "object_position": null,
            "object_fit": null,
            "grid_auto_columns": null,
            "margin": null,
            "display": null,
            "left": null
          }
        },
        "e2a71f7d559247009665879a2e200578": {
          "model_module": "@jupyter-widgets/controls",
          "model_name": "DescriptionStyleModel",
          "state": {
            "_view_name": "StyleView",
            "_model_name": "DescriptionStyleModel",
            "description_width": "",
            "_view_module": "@jupyter-widgets/base",
            "_model_module_version": "1.5.0",
            "_view_count": null,
            "_view_module_version": "1.2.0",
            "_model_module": "@jupyter-widgets/controls"
          }
        },
        "2261ddf91fa845c09aea7f44e3db481c": {
          "model_module": "@jupyter-widgets/base",
          "model_name": "LayoutModel",
          "state": {
            "_view_name": "LayoutView",
            "grid_template_rows": null,
            "right": null,
            "justify_content": null,
            "_view_module": "@jupyter-widgets/base",
            "overflow": null,
            "_model_module_version": "1.2.0",
            "_view_count": null,
            "flex_flow": null,
            "width": null,
            "min_width": null,
            "border": null,
            "align_items": null,
            "bottom": null,
            "_model_module": "@jupyter-widgets/base",
            "top": null,
            "grid_column": null,
            "overflow_y": null,
            "overflow_x": null,
            "grid_auto_flow": null,
            "grid_area": null,
            "grid_template_columns": null,
            "flex": null,
            "_model_name": "LayoutModel",
            "justify_items": null,
            "grid_row": null,
            "max_height": null,
            "align_content": null,
            "visibility": null,
            "align_self": null,
            "height": null,
            "min_height": null,
            "padding": null,
            "grid_auto_rows": null,
            "grid_gap": null,
            "max_width": null,
            "order": null,
            "_view_module_version": "1.2.0",
            "grid_template_areas": null,
            "object_position": null,
            "object_fit": null,
            "grid_auto_columns": null,
            "margin": null,
            "display": null,
            "left": null
          }
        }
      }
    }
  },
  "cells": [
    {
      "cell_type": "markdown",
      "metadata": {
        "id": "rocky-hamilton"
      },
      "source": [
        "# Proyecto Final: Redes Neuronales. Datos del Sensor: como Secuencia.\n",
        "\n",
        "Tenemos ya los datos sin faltantes con las imputaciones que se han realizado en preparación para tomar estos datos como secuenciales.\n",
        "\n",
        "Estos datos son una serie de tiempo de:"
      ],
      "id": "rocky-hamilton"
    },
    {
      "cell_type": "code",
      "metadata": {
        "colab": {
          "base_uri": "https://localhost:8080/",
          "height": 293
        },
        "id": "9VOukrjiOy66",
        "outputId": "f1a61664-8960-422b-d2c3-eede4169f76b"
      },
      "source": [
        "import re, os, sys, shelve, time, dill\n",
        "from pickle import PicklingError\n",
        "from dill import Pickler, Unpickler\n",
        "shelve.Pickler = Pickler\n",
        "shelve.Unpickler = Unpickler\n",
        "from IPython.display import display, Markdown, Math, clear_output, Image\n",
        "import pandas as pd\n",
        "import numpy as np\n",
        "import matplotlib.pyplot as plt\n",
        "from plotnine import *\n",
        "from tqdm.keras import TqdmCallback\n",
        "from tqdm.notebook import tqdm\n",
        "import tensorflow as tf\n",
        "from tensorflow.keras.models import Sequential\n",
        "from tensorflow.keras.layers import Embedding, LSTM, Dense, Dropout, \\\n",
        "  SimpleRNN, Input\n",
        "from tensorflow.keras.regularizers import l1, l2\n",
        "from tensorflow.keras.utils import plot_model\n",
        "from sklearn.model_selection import train_test_split\n",
        "from sklearn.preprocessing import MinMaxScaler\n",
        "tf.get_logger().setLevel('ERROR')\n",
        "\n",
        "try:\n",
        "  from google.colab import drive\n",
        "  drive.mount('/content/drive', force_remount=False)\n",
        "  from google.colab import files\n",
        "except:\n",
        "  ;\n",
        "\n",
        "base_url = \"\"\n",
        "# File Loaders\n",
        "try:\n",
        "    base_url = \"drive/MyDrive/Colab Notebooks/proyecto-final\"\n",
        "    uploaded = os.path.join(base_url, \"data/air-imputated.pickle.gz\")\n",
        "    if(not os.path.isfile(uploaded)):\n",
        "        from google.colab import files\n",
        "        uploaded = files.upload()\n",
        "except:\n",
        "    uploaded = \"air-imputated.pickle.gz\"\n",
        "\n",
        "def render_mpl_table(data, col_width=3.0, row_height=0.625, font_size=14,\n",
        "                     header_color='#40466e', row_colors=['#f1f1f2', 'w'], edge_color='w',\n",
        "                     bbox=[0, 0, 1, 1], header_columns=0,\n",
        "                     ax=None, **kwargs):\n",
        "    \"\"\"\n",
        "    Taken from https://stackoverflow.com/a/39358722/7323086\n",
        "    \"\"\"\n",
        "    if ax is None:\n",
        "        size = (np.array(data.shape[::-1]) + np.array([0, 1])) * np.array([col_width, row_height])\n",
        "        fig, ax = plt.subplots(figsize=size)\n",
        "        ax.axis('off')\n",
        "\n",
        "    mpl_table = ax.table(cellText=data.values, bbox=bbox, colLabels=data.columns, **kwargs)\n",
        "\n",
        "    mpl_table.auto_set_font_size(False)\n",
        "    mpl_table.set_fontsize(font_size)\n",
        "\n",
        "    for k, cell in  six.iteritems(mpl_table._cells):\n",
        "        cell.set_edgecolor(edge_color)\n",
        "        if k[0] == 0 or k[1] < header_columns:\n",
        "            cell.set_text_props(weight='bold', color='w', size=font_size*1.05)\n",
        "            cell.set_facecolor(header_color)\n",
        "        else:\n",
        "            cell.set_facecolor(row_colors[k[0]%len(row_colors) ])\n",
        "    plt.show()\n",
        "\n",
        "#df.dropna(inplace=True)\n",
        "clear_output()\n",
        "###########################################\n",
        "# Restaura todos los objetos del ambiente #\n",
        "###########################################\n",
        "def load_h5_models(shelvepath = \"drive/MyDrive/Colab Notebooks/proyecto-final/models/\"):\n",
        "  \"\"\"With this function we try to load the models on the environment (global \n",
        "  vars). Whenever possible we use Pickle/Dill within a shelve. Otherwise, for\n",
        "  tensorflow models.\n",
        "  \"\"\"\n",
        "  h5files = [re.sub(\"\\.h5\", \"\", h5file) for h5file in os.listdir(shelvepath) \\\n",
        "             if h5file.endswith('.h5')]\n",
        "  for h5file in h5files:\n",
        "    h5file_ = os.path.join(shelvepath, h5file + \".h5\")\n",
        "    print(f\"Loading {h5file_} file...\", end=\" \")\n",
        "    try:\n",
        "      globals()[h5file] = tf.keras.models.load_model(h5file_,\n",
        "                                                     custom_objects={\n",
        "                                                         #'KerasLayer': hub.KerasLayer, \n",
        "                                                         #'AdamWeightDecay': optimization.AdamWeightDecay\n",
        "                                                         })\n",
        "      print(\"Done!\")\n",
        "    except Exception as e:\n",
        "      print(\"Failed!\", e)\n",
        "      raise(e)\n",
        "  \n",
        "  shelvefile = [shelve for shelve in os.listdir(shelvepath) \\\n",
        "             if shelve.endswith('.out.db')][0]\n",
        "  shelvefile = os.path.join(shelvepath, shelvefile)\n",
        "\n",
        "  print(f\"Loading {shelvefile} file...\", end=\" \")\n",
        "\n",
        "  shelvefile = re.sub(\"\\.db$\", \"\", shelvefile)\n",
        "  try:\n",
        "    my_shelf = shelve.open(shelvefile)\n",
        "    keys = []\n",
        "    for key in tqdm(my_shelf):\n",
        "      try:\n",
        "        globals()[key] = my_shelf[key]\n",
        "      except Exception as e:\n",
        "        if(key != \"stopwords\"): \n",
        "          keys.append(key)\n",
        "        else:\n",
        "          raise(e)\n",
        "    my_shelf.close()\n",
        "    print(\"Done!\")\n",
        "    keys = \", \".join(keys)\n",
        "    if (len(keys) > 0): print(f\"(Vars not loaded: {keys})\")\n",
        "  except Exception as e:\n",
        "    print(\"Failed!\\n\", e)\n",
        "  finally:\n",
        "    my_shelf.close()\n",
        "  clear_output()\n",
        "\n",
        "def performance_plot(history, a=None, b=None, \n",
        "                    metrics=[\"accuracy\", \"val_accuracy\"],\n",
        "                    plot_validation=True,\n",
        "                    title=\"Gráficas de Desempeño.\"):\n",
        "  \"\"\"\n",
        "  Prints performance plot from a, to b on a history dict.\n",
        "  \n",
        "  Inputs:\n",
        "  history: dict containing \"loss\" and \"accuracy\" keys\n",
        "  a: epoch start\n",
        "  b. last epoch\n",
        "  metrics: plot these metrics (train and validation). Always 2.\n",
        "  plot_validation: boolean indicating if validation data should be plotted.\n",
        "  a: from this epoch\n",
        "  b: to this epoch    \n",
        "  \"\"\"\n",
        "  if a is None:\n",
        "      a = 0\n",
        "  if b is None:\n",
        "      b = len(history['loss'])\n",
        "  a = np.min((a,b))\n",
        "  b = np.max((a,b))\n",
        "\n",
        "  imgrows = (len(metrics) + 1) / 2\n",
        "  imgrows = np.round(imgrows, 0)\n",
        "  imgrows = int(imgrows)\n",
        "  #print(imgrows)\n",
        "\n",
        "  # Plot loss\n",
        "  plt.figure(figsize=(14, 5\n",
        "                      *imgrows))\n",
        "  plt.suptitle(title)\n",
        "  plt.subplot(imgrows, 2, 1)\n",
        "  plt.title('Loss')\n",
        "  plt.plot(history['loss'][a:b], label='Training', linewidth=2)\n",
        "  if plot_validation:\n",
        "    plt.plot(history['val_loss'][a:b], label='Validation', linewidth=2)\n",
        "  plt.legend()\n",
        "  plt.xlabel('Epoch')\n",
        "  plt.ylabel(f'Loss')\n",
        "  quantiles = np.quantile(range(a, b), \n",
        "                          [.2, .4, .6, .8]).round(0).astype(int)\n",
        "  quantiles = np.insert(quantiles, 0, [a])\n",
        "  quantiles += 1\n",
        "  quantiles = np.append(quantiles, [b-1])\n",
        "  plt.xticks(ticks=quantiles-a,\n",
        "              labels=quantiles)\n",
        "  plt.grid(True)\n",
        "\n",
        "  # Plot accuracy\n",
        "  for i, metric in enumerate(metrics): \n",
        "    #print(f\"metric: {metric}, i: {i}\")\n",
        "    #print(f\"mean metric: {np.mean(history[metric])}\")\n",
        "    plt.subplot(imgrows, 2, i+2)\n",
        "    plt.title(metric)\n",
        "    plt.plot(history[metric][a:b], label='Training', \n",
        "              linewidth=2)\n",
        "    if plot_validation:\n",
        "      plt.plot(history[\"val_\" + metric][a:b], \n",
        "                label='Validation', linewidth=2)\n",
        "    plt.legend()\n",
        "    plt.xlabel('Epoch')\n",
        "    plt.ylabel(metric)\n",
        "    #plt.xlim(a, b)\n",
        "    #print(range(0, b-a))\n",
        "    plt.xticks(ticks=quantiles-a, \n",
        "                labels=quantiles)\n",
        "    plt.grid(True)\n",
        "\n",
        "  plt.show()\n",
        "\n",
        "#render_mpl_table(df.head().applymap(shorten), col_width=5)\n",
        "\n",
        "airdata = pd.read_pickle(uploaded)\n",
        "airdata.head()"
      ],
      "id": "9VOukrjiOy66",
      "execution_count": 1,
      "outputs": [
        {
          "output_type": "execute_result",
          "data": {
            "text/html": [
              "<div>\n",
              "<style scoped>\n",
              "    .dataframe tbody tr th:only-of-type {\n",
              "        vertical-align: middle;\n",
              "    }\n",
              "\n",
              "    .dataframe tbody tr th {\n",
              "        vertical-align: top;\n",
              "    }\n",
              "\n",
              "    .dataframe thead th {\n",
              "        text-align: right;\n",
              "    }\n",
              "</style>\n",
              "<table border=\"1\" class=\"dataframe\">\n",
              "  <thead>\n",
              "    <tr style=\"text-align: right;\">\n",
              "      <th></th>\n",
              "      <th>temperature</th>\n",
              "      <th>pressure</th>\n",
              "      <th>humidity</th>\n",
              "      <th>gasResistance</th>\n",
              "      <th>IAQ</th>\n",
              "      <th>iaqAccuracy</th>\n",
              "      <th>datetime</th>\n",
              "      <th>year</th>\n",
              "      <th>month</th>\n",
              "      <th>day</th>\n",
              "      <th>hour</th>\n",
              "      <th>minute</th>\n",
              "      <th>datetime-1</th>\n",
              "      <th>delta</th>\n",
              "      <th>imputated</th>\n",
              "    </tr>\n",
              "  </thead>\n",
              "  <tbody>\n",
              "    <tr>\n",
              "      <th>0</th>\n",
              "      <td>21.51</td>\n",
              "      <td>777.41</td>\n",
              "      <td>44.04</td>\n",
              "      <td>152149.0</td>\n",
              "      <td>34.7</td>\n",
              "      <td>1</td>\n",
              "      <td>2021-02-12 06:05:35.846304417</td>\n",
              "      <td>2021</td>\n",
              "      <td>2</td>\n",
              "      <td>12</td>\n",
              "      <td>6</td>\n",
              "      <td>5</td>\n",
              "      <td>NaT</td>\n",
              "      <td>NaN</td>\n",
              "      <td>False</td>\n",
              "    </tr>\n",
              "    <tr>\n",
              "      <th>1</th>\n",
              "      <td>21.51</td>\n",
              "      <td>777.41</td>\n",
              "      <td>43.98</td>\n",
              "      <td>152841.0</td>\n",
              "      <td>33.6</td>\n",
              "      <td>1</td>\n",
              "      <td>2021-02-12 06:05:38.837326527</td>\n",
              "      <td>2021</td>\n",
              "      <td>2</td>\n",
              "      <td>12</td>\n",
              "      <td>6</td>\n",
              "      <td>5</td>\n",
              "      <td>2021-02-12 06:05:35.846304417</td>\n",
              "      <td>2.0</td>\n",
              "      <td>False</td>\n",
              "    </tr>\n",
              "    <tr>\n",
              "      <th>2</th>\n",
              "      <td>21.54</td>\n",
              "      <td>777.41</td>\n",
              "      <td>43.73</td>\n",
              "      <td>153259.0</td>\n",
              "      <td>31.5</td>\n",
              "      <td>1</td>\n",
              "      <td>2021-02-12 06:05:47.812360048</td>\n",
              "      <td>2021</td>\n",
              "      <td>2</td>\n",
              "      <td>12</td>\n",
              "      <td>6</td>\n",
              "      <td>5</td>\n",
              "      <td>2021-02-12 06:05:38.837326527</td>\n",
              "      <td>8.0</td>\n",
              "      <td>False</td>\n",
              "    </tr>\n",
              "    <tr>\n",
              "      <th>3</th>\n",
              "      <td>21.53</td>\n",
              "      <td>777.41</td>\n",
              "      <td>43.70</td>\n",
              "      <td>152841.0</td>\n",
              "      <td>31.5</td>\n",
              "      <td>1</td>\n",
              "      <td>2021-02-12 06:05:50.803695202</td>\n",
              "      <td>2021</td>\n",
              "      <td>2</td>\n",
              "      <td>12</td>\n",
              "      <td>6</td>\n",
              "      <td>5</td>\n",
              "      <td>2021-02-12 06:05:47.812360048</td>\n",
              "      <td>2.0</td>\n",
              "      <td>False</td>\n",
              "    </tr>\n",
              "    <tr>\n",
              "      <th>4</th>\n",
              "      <td>21.52</td>\n",
              "      <td>777.41</td>\n",
              "      <td>43.70</td>\n",
              "      <td>153399.0</td>\n",
              "      <td>30.2</td>\n",
              "      <td>1</td>\n",
              "      <td>2021-02-12 06:05:53.795462847</td>\n",
              "      <td>2021</td>\n",
              "      <td>2</td>\n",
              "      <td>12</td>\n",
              "      <td>6</td>\n",
              "      <td>5</td>\n",
              "      <td>2021-02-12 06:05:50.803695202</td>\n",
              "      <td>2.0</td>\n",
              "      <td>False</td>\n",
              "    </tr>\n",
              "  </tbody>\n",
              "</table>\n",
              "</div>"
            ],
            "text/plain": [
              "   temperature  pressure  ...  delta  imputated\n",
              "0        21.51    777.41  ...    NaN      False\n",
              "1        21.51    777.41  ...    2.0      False\n",
              "2        21.54    777.41  ...    8.0      False\n",
              "3        21.53    777.41  ...    2.0      False\n",
              "4        21.52    777.41  ...    2.0      False\n",
              "\n",
              "[5 rows x 15 columns]"
            ]
          },
          "metadata": {
            "tags": []
          },
          "execution_count": 1
        }
      ]
    },
    {
      "cell_type": "code",
      "metadata": {
        "id": "loved-desktop",
        "colab": {
          "base_uri": "https://localhost:8080/",
          "height": 46
        },
        "outputId": "e3581080-d568-415e-c849-ac1f7c09f1bf"
      },
      "source": [
        "Markdown(f\"Estso datos son una serie de tiempo de \\\n",
        "{(airdata['datetime'].tail(1).iloc[0] - airdata['datetime'].head(1).iloc[0]).days}\\\n",
        " días. Con {airdata.shape[0]:3,} observaciones.\")"
      ],
      "id": "loved-desktop",
      "execution_count": 2,
      "outputs": [
        {
          "output_type": "execute_result",
          "data": {
            "text/markdown": "Estso datos son una serie de tiempo de 71 días. Con 2,068,354 observaciones.",
            "text/plain": [
              "<IPython.core.display.Markdown object>"
            ]
          },
          "metadata": {
            "tags": []
          },
          "execution_count": 2
        }
      ]
    },
    {
      "cell_type": "code",
      "metadata": {
        "id": "universal-content",
        "colab": {
          "base_uri": "https://localhost:8080/",
          "height": 46
        },
        "outputId": "19d2c16c-73e4-4798-c9fc-adcabb5b1ed0"
      },
      "source": [
        "Markdown(f\"Dichas observaciones fueron \\\n",
        "{airdata['datetime'].head(1).iloc[0]} \\\n",
        "al {airdata['datetime'].tail(1).iloc[0]}.\")"
      ],
      "id": "universal-content",
      "execution_count": 3,
      "outputs": [
        {
          "output_type": "execute_result",
          "data": {
            "text/markdown": "Dichas observaciones fueron 2021-02-12 06:05:35.846304417 al 2021-04-24 22:16:20.885603666.",
            "text/plain": [
              "<IPython.core.display.Markdown object>"
            ]
          },
          "metadata": {
            "tags": []
          },
          "execution_count": 3
        }
      ]
    },
    {
      "cell_type": "code",
      "metadata": {
        "id": "dTpft-N7VezB"
      },
      "source": [
        "#load_h5_models()"
      ],
      "id": "dTpft-N7VezB",
      "execution_count": 4,
      "outputs": []
    },
    {
      "cell_type": "markdown",
      "metadata": {
        "id": "5omJSgfBYO2a"
      },
      "source": [
        "## Preparación de los Datos\n",
        "\n",
        "Excluimos las columnas del modelo dado que presentan:\n",
        "* Data leakage: \"IAQ\", \"gasResistance\", dado que son la misma variable, \n",
        "  transformada; así mismo iaqAccuracy es una variable de la calidad\n",
        "  de la respuesta.\n",
        "* Replicabilidad: no se va a repetir la fecha y vamos a buscar predicciones a futuro. Por ende excluimos datetime, year.\n",
        "* Utilidad: consideramos las siguientes columnas que no son útiles en esta fase: datetime-1, imputated.\n",
        "\n",
        "\n",
        "### Separación de Sets Entrenamiento, Pruebas\n",
        "\n",
        "Separamos los sets  de entrenamiento  y pruebas para evaluar los modelos que realizamos."
      ],
      "id": "5omJSgfBYO2a"
    },
    {
      "cell_type": "code",
      "metadata": {
        "colab": {
          "base_uri": "https://localhost:8080/",
          "height": 70
        },
        "id": "9Pl3EV-xW4wL",
        "outputId": "ac7ee2c5-9eab-4351-a833-bc987985bd31"
      },
      "source": [
        "excluded_columns = [\"iaqAccuracy\", \"datetime\", \"datetime-1\", \"delta\", \n",
        "                    \"imputated\", \"year\"]\n",
        "train, test = train_test_split(airdata[[x \n",
        "                                        for x in airdata.columns \n",
        "                                        if x not in excluded_columns]], \n",
        "                               train_size=0.8, random_state=175904, shuffle=False)\n",
        "display(Markdown(f\"* Observaciones en el set de entrenamiento: \\\n",
        "{train.shape[0]:3,} ({100*train.shape[0]/airdata.shape[0]:.2f}%).\"))\n",
        "display(Markdown(f\"* Observaciones en el set de pruebas: \\\n",
        "{test.shape[0]:3,} ({100*test.shape[0]/airdata.shape[0]:.2f}%).\"))"
      ],
      "id": "9Pl3EV-xW4wL",
      "execution_count": 5,
      "outputs": [
        {
          "output_type": "display_data",
          "data": {
            "text/markdown": "* Observaciones en el set de entrenamiento: 1,654,683 (80.00%).",
            "text/plain": [
              "<IPython.core.display.Markdown object>"
            ]
          },
          "metadata": {
            "tags": []
          }
        },
        {
          "output_type": "display_data",
          "data": {
            "text/markdown": "* Observaciones en el set de pruebas: 413,671 (20.00%).",
            "text/plain": [
              "<IPython.core.display.Markdown object>"
            ]
          },
          "metadata": {
            "tags": []
          }
        }
      ]
    },
    {
      "cell_type": "markdown",
      "metadata": {
        "id": "Apu08sm4rnOz"
      },
      "source": [
        "### Escalamos los Datos"
      ],
      "id": "Apu08sm4rnOz"
    },
    {
      "cell_type": "code",
      "metadata": {
        "colab": {
          "base_uri": "https://localhost:8080/",
          "height": 70
        },
        "id": "49LmkBILrmRa",
        "outputId": "541f17ce-2db3-4a59-f9a6-1041ce3dfd93"
      },
      "source": [
        "scaler = MinMaxScaler()\n",
        "scaler_f = scaler.fit(train)\n",
        "train2 = scaler_f.transform(train)\n",
        "test2 = scaler_f.transform(test)\n",
        "X_cols = [i for i, x in enumerate(train.columns) \n",
        "          if x not in [\"IAQ\", \"gasResistance\"]]\n",
        "Y_cols = [i for i, x in enumerate(train.columns) \n",
        "          if x in [\"IAQ\", \"gasResistance\"]]\n",
        "X_train = train2[:, X_cols]\n",
        "Y_train = train2[:, Y_cols]\n",
        "X_test  = test2[:, X_cols]\n",
        "Y_test = test2[:, Y_cols]\n",
        "display(\n",
        "    Markdown(f\"X_train.shape = {X_train.shape}, Y_train.shape = {Y_train.shape}.\"\n",
        "    )\n",
        ")\n",
        "display(\n",
        "    Markdown(f\"X_test.shape = {X_test.shape}, Y_test.shape = {Y_test.shape}.\"\n",
        "    )\n",
        ")"
      ],
      "id": "49LmkBILrmRa",
      "execution_count": 6,
      "outputs": [
        {
          "output_type": "display_data",
          "data": {
            "text/markdown": "X_train.shape = (1654683, 7), Y_train.shape = (1654683, 2).",
            "text/plain": [
              "<IPython.core.display.Markdown object>"
            ]
          },
          "metadata": {
            "tags": []
          }
        },
        {
          "output_type": "display_data",
          "data": {
            "text/markdown": "X_test.shape = (413671, 7), Y_test.shape = (413671, 2).",
            "text/plain": [
              "<IPython.core.display.Markdown object>"
            ]
          },
          "metadata": {
            "tags": []
          }
        }
      ]
    },
    {
      "cell_type": "markdown",
      "metadata": {
        "id": "v1mg-ezyW3Qh"
      },
      "source": [
        "## Creación del Modelo 00 con Variable gasResistance"
      ],
      "id": "v1mg-ezyW3Qh"
    },
    {
      "cell_type": "code",
      "metadata": {
        "colab": {
          "base_uri": "https://localhost:8080/",
          "height": 95
        },
        "id": "SMIse49lZsco",
        "outputId": "a441d0ae-81b3-4039-aa1c-6b534609cabc"
      },
      "source": [
        "model_rnn00 = Sequential(name=\"model_rnn00\")\n",
        "model_rnn00.add(Input(shape=(None, X_train.shape[1]), name=\"Inputs\"))\n",
        "model_rnn00.add(SimpleRNN(units=512, name=\"RNN\"))\n",
        "model_rnn00.add(Dense(units=1, name=\"Output\"))\n",
        "plot_model(model_rnn00, to_file=os.path.join(base_url, \"data/model.png\"), \n",
        "           dpi=72, rankdir=\"LR\", show_shapes=True, expand_nested=True)"
      ],
      "id": "SMIse49lZsco",
      "execution_count": 7,
      "outputs": [
        {
          "output_type": "execute_result",
          "data": {
            "image/png": "[encoded data removed]",
            "text/plain": [
              "<IPython.core.display.Image object>"
            ]
          },
          "metadata": {
            "tags": []
          },
          "execution_count": 7
        }
      ]
    },
    {
      "cell_type": "code",
      "metadata": {
        "colab": {
          "base_uri": "https://localhost:8080/"
        },
        "id": "UoCDYPRQt2n6",
        "outputId": "4d713d71-9ece-415f-a7c0-2fa37e29c7eb"
      },
      "source": [
        "Y_train[:, 0].shape[0]"
      ],
      "id": "UoCDYPRQt2n6",
      "execution_count": 8,
      "outputs": [
        {
          "output_type": "execute_result",
          "data": {
            "text/plain": [
              "1654683"
            ]
          },
          "metadata": {
            "tags": []
          },
          "execution_count": 8
        }
      ]
    },
    {
      "cell_type": "code",
      "metadata": {
        "id": "Hd5uNe7HmIje"
      },
      "source": [
        "def build_dataset(X, Y, hist_size):\n",
        "    '''\n",
        "    Params\n",
        "    X: data matrix [n_time_steps, n_X_feats]\n",
        "    Y: label matrix [n_time_steps, n_Y_feats]\n",
        "    hist_size: integer indicating the number of time steps in each sample of x\n",
        "    Returns\n",
        "    x: tensor of input data [n_samples, n_timesteps, n_X_features]\n",
        "    y: tensor of output data [n_samples, n_Y_features]\n",
        "    '''\n",
        "    n_samples = Y.shape[0] - hist_size\n",
        "    x = np.zeros((n_samples, hist_size, X.shape[1]))\n",
        "    y = np.zeros((n_samples))\n",
        "\n",
        "    for ind in range(n_samples):    \n",
        "        x[ind] = X[ind : ind + hist_size]\n",
        "        y[ind] = Y[ind + hist_size]\n",
        "    return x, y\n",
        "train3 = build_dataset(X_train, Y_train[:, 0], hist_size=4)\n",
        "test3 = build_dataset(X_test, Y_test[:, 0], hist_size=4)"
      ],
      "id": "Hd5uNe7HmIje",
      "execution_count": 9,
      "outputs": []
    },
    {
      "cell_type": "code",
      "metadata": {
        "colab": {
          "base_uri": "https://localhost:8080/",
          "height": 94,
          "referenced_widgets": [
            "2c41d6d899824dba8db881d2c12f0093",
            "03a0a616611540abb3dfba39a510717e",
            "0f1c3f93ee604a9287d850b8e8ebbbec",
            "8d6158cd7940480fbca51b4a0acc09d0",
            "f21054087f7d45f8811069d95949a52a",
            "a77e5bdcbf7142ccbc37d2543357d0d8",
            "9d6804317b5640ae80675c421180c290",
            "3394ca3fcb004a20974c9d1a9aaa124a",
            "a707fb6d82504eb996e08c9b734defab",
            "a8fc2b39bf2e48cc9a8f1cf1b95ea51a",
            "1a8dede717eb47319f50b9ff527a54bc",
            "c98fb0560c424e9dbdaf82d17e95eaa0",
            "f22735e8459543a48444ff06ea878638",
            "d880194178d14283968c5ec7b666780e",
            "1f622faa5a634628bdf1cdff5c338091",
            "c69fd9521c914c729e272846c945830a"
          ]
        },
        "id": "y9fHXcEgi0S8",
        "outputId": "6215357e-9ed1-42db-98a4-e8700a9a5a8f"
      },
      "source": [
        "def train_model(model, X_train, Y_train, validation_data,\n",
        "                epochs=10, batch_size=512, \n",
        "                steps_per_epoch=100, loss='mse', optimizer='adam', \n",
        "                metrics=['mse'], verbose=0, base_dir=\"\"):\n",
        "  model.compile(loss=loss, optimizer=optimizer, metrics=metrics)\n",
        "  cbk = TqdmCallback()\n",
        "  tiempo = time.time()\n",
        "  history = model.fit(X_train, Y_train, validation_data=validation_data,\n",
        "                      epochs=epochs, steps_per_epoch=steps_per_epoch, \n",
        "                      batch_size=batch_size, verbose=verbose, callbacks=[cbk])\n",
        "  clear_output()\n",
        "  tiempo = time.time() - tiempo\n",
        "  print(f\"Tiempo de procesamiento: {tiempo} segundos.\")\n",
        "\n",
        "  #### Guardar el modelo\n",
        "  base_dir = os.path.join(base_url, \"models\", model.name)\n",
        "  model.save(f\"{base_dir}.h5\")\n",
        "  dill.dump(tiempo, open(f\"{base_dir}.time.dill\", 'wb'))\n",
        "  dill.dump(history.history, open(f\"{base_dir}.hist.dill\", 'wb'))\n",
        "  #### fin sección guardar modelo\n",
        "\n",
        "  return history\n",
        "\n",
        "trained_rnn00 = train_model(model_rnn00, train3[0], train3[1], \n",
        "                            validation_data=(test3[0], test3[1]), \n",
        "                            metrics=[\"mse\", \"mae\", \"mean_squared_logarithmic_error\"],\n",
        "                            epochs=100, steps_per_epoch=500, \n",
        "                            base_dir=base_url)"
      ],
      "id": "y9fHXcEgi0S8",
      "execution_count": 10,
      "outputs": [
        {
          "output_type": "stream",
          "text": [
            "Tiempo de procesamiento: 432.63655066490173 segundos.\n"
          ],
          "name": "stdout"
        }
      ]
    },
    {
      "cell_type": "code",
      "metadata": {
        "colab": {
          "base_uri": "https://localhost:8080/",
          "height": 677
        },
        "id": "H5mXaMcX1mEL",
        "outputId": "c4fd1a83-369e-458b-b26e-10394f6c050c"
      },
      "source": [
        "performance_plot(trained_rnn00.history, metrics=[\"mae\", \"mean_squared_logarithmic_error\"], \n",
        "                 plot_validation=False)"
      ],
      "id": "H5mXaMcX1mEL",
      "execution_count": 11,
      "outputs": [
        {
          "output_type": "display_data",
          "data": {
            "image/png": "[encoded data removed]",
            "text/plain": [
              "<Figure size 1008x720 with 3 Axes>"
            ]
          },
          "metadata": {
            "tags": [],
            "needs_background": "light"
          }
        }
      ]
    },
    {
      "cell_type": "code",
      "metadata": {
        "colab": {
          "base_uri": "https://localhost:8080/",
          "height": 677
        },
        "id": "CRgFgCaZykiL",
        "outputId": "d7d0d4dc-15ec-4efb-e67e-5db4867c8379"
      },
      "source": [
        "#display(Markdown(f\"Indicadores del modelo: {trained_rnn00.history.keys()}.\"))\n",
        "performance_plot(trained_rnn00.history, metrics=['mae', \"mean_squared_logarithmic_error\"])"
      ],
      "id": "CRgFgCaZykiL",
      "execution_count": 12,
      "outputs": [
        {
          "output_type": "display_data",
          "data": {
            "image/png": "[encoded data removed]",
            "text/plain": [
              "<Figure size 1008x720 with 3 Axes>"
            ]
          },
          "metadata": {
            "tags": [],
            "needs_background": "light"
          }
        }
      ]
    },
    {
      "cell_type": "markdown",
      "metadata": {
        "id": "exnO9UJvKWB4"
      },
      "source": [
        "## Creación del Modelo 00 Variable IAQ"
      ],
      "id": "exnO9UJvKWB4"
    },
    {
      "cell_type": "code",
      "metadata": {
        "colab": {
          "base_uri": "https://localhost:8080/",
          "height": 95
        },
        "id": "muRN2JROKWB6",
        "outputId": "a68805f8-10b2-4469-a4ac-433566dcc09f"
      },
      "source": [
        "model_rnn01 = Sequential(name=\"model_rnn01\")\n",
        "model_rnn01.add(Input(shape=(None, X_train.shape[1]), name=\"Inputs\"))\n",
        "model_rnn01.add(SimpleRNN(units=512, name=\"RNN\"))\n",
        "model_rnn01.add(Dense(units=1, name=\"Output\"))\n",
        "plot_model(model_rnn00, to_file=os.path.join(base_url, \"data/model.png\"), \n",
        "           dpi=72, rankdir=\"LR\", show_shapes=True, expand_nested=True)"
      ],
      "id": "muRN2JROKWB6",
      "execution_count": 19,
      "outputs": [
        {
          "output_type": "execute_result",
          "data": {
            "image/png": "[encoded data removed]",
            "text/plain": [
              "<IPython.core.display.Image object>"
            ]
          },
          "metadata": {
            "tags": []
          },
          "execution_count": 19
        }
      ]
    },
    {
      "cell_type": "code",
      "metadata": {
        "id": "q3P110w2K1-Z"
      },
      "source": [
        "train3 = build_dataset(X_train, Y_train[:, 1], hist_size=4)\n",
        "test3 = build_dataset(X_test, Y_test[:, 1], hist_size=4)"
      ],
      "id": "q3P110w2K1-Z",
      "execution_count": 20,
      "outputs": []
    },
    {
      "cell_type": "code",
      "metadata": {
        "colab": {
          "base_uri": "https://localhost:8080/",
          "height": 109,
          "referenced_widgets": [
            "960eaf7c659641a3990c24d75679000c",
            "3e04818964674a4098c1e27108883d7a",
            "1a2e2060d66b4aa287892286f935a649",
            "b921643fa0894d22806de95188f251ab",
            "7d7cda0f036847699043c40fb78725e9",
            "6141bacee0d24d338ca4d72dffecdd18",
            "a8d8c5601d9f490598822d4ea101ffbd",
            "779a15e442f0408f83e8ef455c646bd6",
            "b5c248f3c1fd426698caa684641ae10a",
            "c41300ced6cf4331b1fa38d982f4ad1b",
            "11b7c30449144d26bf3189adddae83f5",
            "8aedde5323fa44f7864dabb4c873b480",
            "c524dfb4edd44a3592e8fdcb74c7c5c5",
            "5ad6badb55d84d00904da9cda0f22a07",
            "e2a71f7d559247009665879a2e200578",
            "2261ddf91fa845c09aea7f44e3db481c"
          ]
        },
        "id": "PWPL11V-KWCA",
        "outputId": "44c2c523-27c4-4010-ca1f-78055a68cc49"
      },
      "source": [
        "trained_rnn01 = train_model(model_rnn01, train3[0], train3[1], \n",
        "                            validation_data=(test3[0], test3[1]), \n",
        "                            metrics=[\"mse\", \"mae\", \"mean_squared_logarithmic_error\"],\n",
        "                            epochs=100, steps_per_epoch=100, \n",
        "                            base_dir=base_url)"
      ],
      "id": "PWPL11V-KWCA",
      "execution_count": 21,
      "outputs": [
        {
          "output_type": "stream",
          "text": [
            "Tiempo de procesamiento: 201.10848426818848 segundos.\n"
          ],
          "name": "stdout"
        }
      ]
    },
    {
      "cell_type": "code",
      "metadata": {
        "colab": {
          "base_uri": "https://localhost:8080/",
          "height": 677
        },
        "id": "nXkSMsmmKWCB",
        "outputId": "049fd676-a08d-412e-9d3e-e7d0cf8a0ca1"
      },
      "source": [
        "performance_plot(trained_rnn01.history, metrics=[\"mae\", \"mean_squared_logarithmic_error\"], \n",
        "                 plot_validation=False)"
      ],
      "id": "nXkSMsmmKWCB",
      "execution_count": 22,
      "outputs": [
        {
          "output_type": "display_data",
          "data": {
            "image/png": "[encoded data removed]",
            "text/plain": [
              "<Figure size 1008x720 with 3 Axes>"
            ]
          },
          "metadata": {
            "tags": [],
            "needs_background": "light"
          }
        }
      ]
    },
    {
      "cell_type": "code",
      "metadata": {
        "colab": {
          "base_uri": "https://localhost:8080/",
          "height": 677
        },
        "id": "IWp6zqY_KWCC",
        "outputId": "e0d9cd50-4eff-4a49-9827-1d5e2735d842"
      },
      "source": [
        "#display(Markdown(f\"Indicadores del modelo: {trained_rnn00.history.keys()}.\"))\n",
        "performance_plot(trained_rnn01.history, metrics=['mae', \"mean_squared_logarithmic_error\"])"
      ],
      "id": "IWp6zqY_KWCC",
      "execution_count": 23,
      "outputs": [
        {
          "output_type": "display_data",
          "data": {
            "image/png": "[encoded data removed]",
            "text/plain": [
              "<Figure size 1008x720 with 3 Axes>"
            ]
          },
          "metadata": {
            "tags": [],
            "needs_background": "light"
          }
        }
      ]
    },
    {
      "cell_type": "markdown",
      "metadata": {
        "id": "nyrwEUrJ1EJF"
      },
      "source": [
        "# Referencias\n",
        "\n",
        "* Román, F. Notas y Código del Curso de Aprendizaje Profundo 2021.\n",
        "\n",
        "* González, F. [Notas de aprendizaje de máquina (2020)](https://lucid-torvalds-517e78.netlify.app/)\n",
        "\n",
        "* <https://keras.rstudio.com/reference/fit.html>\n",
        "\n",
        "* <https://scikit-learn.org/stable/modules/generated/sklearn.model_selection.train_test_split.html>"
      ],
      "id": "nyrwEUrJ1EJF"
    },
    {
      "cell_type": "code",
      "metadata": {
        "id": "blHfbqAw9tRN"
      },
      "source": [
        "#########################################\n",
        "# Guarda todos los objetos del ambiente #\n",
        "#########################################\n",
        "def save_h5_models(shelvepath = \"drive/MyDrive/Colab Notebooks/sesion12/\",\n",
        "                   filename = 'shelve.out'):\n",
        "  \"\"\"With this function we try to save the models on the environment (global \n",
        "  vars). Whenever possible we use Pickle/Dill within a shelve. Otherwise, for\n",
        "  tensorflow models.\n",
        "  \"\"\"\n",
        "  filename = os.path.join(shelvepath, filename)\n",
        "  my_shelf = shelve.open(filename,'n') # 'n' for new\n",
        "  shelve_errors = []\n",
        "  try:\n",
        "    for key in tqdm(globals().keys()):\n",
        "        try:\n",
        "          my_shelf[key] = globals()[key]\n",
        "        except TypeError:\n",
        "          try:\n",
        "            globals()[key].save(os.path.join(shelvepath, key+\".h5\"))\n",
        "          except:\n",
        "            shelve_errors.append('{0} [TypeError]'.format(key))\n",
        "          #shelve_errors.append('{0} [TypeError]'.format(key))\n",
        "        except AttributeError:\n",
        "          try:\n",
        "            globals()[key].save(os.path.join(shelvepath, key+\".h5\"))\n",
        "          except:\n",
        "            shelve_errors.append('{0} [AttributeError]'.format(key))\n",
        "        except PicklingError:\n",
        "          try:\n",
        "            globals()[key].save(os.path.join(shelvepath, key+\".h5\"))\n",
        "          except:\n",
        "            shelve_errors.append('{0} [PicklingError]'.format(key))\n",
        "\n",
        "  finally:\n",
        "    my_shelf.close()\n",
        "    #print(\", \".join(shelve_errors))\n",
        "    clear_output()\n",
        "save_h5_models(shelvepath=os.path.join(base_url, \"data\"),\n",
        "               filename=\"shelve-cgan.out\")\n"
      ],
      "id": "blHfbqAw9tRN",
      "execution_count": 13,
      "outputs": []
    }
  ]
}