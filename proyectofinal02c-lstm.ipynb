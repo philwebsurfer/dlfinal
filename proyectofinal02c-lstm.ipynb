{
  "nbformat": 4,
  "nbformat_minor": 0,
  "metadata": {
    "colab": {
      "name": "proyectofinal02C_lstm.ipynb",
      "provenance": []
    },
    "kernelspec": {
      "name": "python3",
      "display_name": "Python 3"
    },
    "language_info": {
      "name": "python"
    },
    "accelerator": "GPU"
  },
  "cells": [
    {
      "cell_type": "code",
      "metadata": {
        "id": "I7ejbcgO3lVz"
      },
      "source": [
        "import os, gzip, json, re\n",
        "from plotnine import *\n",
        "import pandas as pd\n",
        "import io, os, time, re\n",
        "import numpy as np\n",
        "from numpy import array\n",
        "import matplotlib.pyplot as plt\n",
        "\n",
        "%matplotlib inline\n",
        "from IPython.display import display, Markdown, Image, clear_output\n",
        "\n",
        "import tensorflow as tf\n",
        "from tensorflow.keras.models import Sequential\n",
        "from tensorflow.keras.layers import Input, SimpleRNN, Dense, LSTM, Bidirectional\n",
        "from tensorflow.keras.utils import plot_model\n",
        "from tensorflow.keras.optimizers import \\\n",
        "    RMSprop, Adam, SGD\n",
        "from tqdm.keras import TqdmCallback\n",
        "import six\n",
        "\n",
        "from sklearn.model_selection import train_test_split\n",
        "from sklearn.preprocessing import MinMaxScaler\n",
        "from sklearn.preprocessing import MinMaxScaler\n",
        "from sklearn.metrics import mean_squared_error\n",
        "from sklearn.metrics import r2_score\n",
        "\n",
        "# For data conditioning\n",
        "from scipy.ndimage import gaussian_filter1d\n",
        "from scipy.signal import medfilt\n",
        "\n",
        "# Make results reproducible\n",
        "from numpy.random import seed\n",
        "seed(1)\n",
        "#from tensorflow import set_random_seed\n",
        "#set_random_seed(1)\n"
      ],
      "execution_count": 1,
      "outputs": []
    },
    {
      "cell_type": "code",
      "metadata": {
        "id": "Ata1FE2W877G"
      },
      "source": [
        "# Make our plot a bit formal\n",
        "font = {'family' : 'Arial',\n",
        "        'weight' : 'normal',\n",
        "        'size'   : 10}\n",
        "plt.rc('font', **font)\n"
      ],
      "execution_count": 2,
      "outputs": []
    },
    {
      "cell_type": "code",
      "metadata": {
        "id": "Gq4QKCRI88rx"
      },
      "source": [
        "# Set input number of timestamps and training days\n",
        "#\n",
        "n_timestamp = 10\n",
        "train_days = 1700000  # number of days to train from\n",
        "testing_days = 50 # number of days to be predicted\n",
        "n_epochs = 3\n",
        "filter_on = 1"
      ],
      "execution_count": 3,
      "outputs": []
    },
    {
      "cell_type": "code",
      "metadata": {
        "id": "yNpyv7t39AfO"
      },
      "source": [
        "# Select model type\n",
        "# 1: Single cell\n",
        "# 2: Stacked\n",
        "# 3: Bidirectional\n",
        "#\n",
        "model_type = 2"
      ],
      "execution_count": 4,
      "outputs": []
    },
    {
      "cell_type": "code",
      "metadata": {
        "colab": {
          "base_uri": "https://localhost:8080/"
        },
        "id": "va8TSB8Y7WWx",
        "outputId": "d2854be1-c39c-4b69-86a9-6298f54ce6af"
      },
      "source": [
        "from google.colab import drive\n",
        "drive.mount('/content/drive')"
      ],
      "execution_count": 5,
      "outputs": [
        {
          "output_type": "stream",
          "text": [
            "Drive already mounted at /content/drive; to attempt to forcibly remount, call drive.mount(\"/content/drive\", force_remount=True).\n"
          ],
          "name": "stdout"
        }
      ]
    },
    {
      "cell_type": "code",
      "metadata": {
        "colab": {
          "base_uri": "https://localhost:8080/",
          "height": 340
        },
        "id": "mhnluM0V4wtA",
        "outputId": "781d1d3e-eaba-483a-fa32-9c23ee9e1a90"
      },
      "source": [
        "base_dir = \"drive/MyDrive/airdata\"\n",
        "data_dir = os.path.join(\n",
        "    os.getcwd(),\n",
        "    base_dir\n",
        ")\n",
        "airdata = []\n",
        "\n",
        "display(Markdown(f\"Listing data files from: {data_dir}\"))\n",
        "\n",
        "generator = (file for file in os.listdir(data_dir) if (file.find(\".json.gz\") > 0))\n",
        "for filegz in generator:\n",
        "    display(Markdown(f\"* Loading {filegz}\"))\n",
        "    try:\n",
        "        with gzip.open(os.path.join(data_dir, filegz), 'rt') as file:\n",
        "            for (i, line) in enumerate(file):\n",
        "                #print(f\"{filegz}:{i}\", line.strip())\n",
        "                json_line = json.loads(line.strip())\n",
        "                airdata.append(json_line)\n",
        "                    \n",
        "    except EOFError:\n",
        "        continue\n",
        "    except Exception as e:\n",
        "        print(f\"Error while reading file {filegz}\", type(e))\n",
        "        raise e\n",
        "display(Markdown(\"Done!\"))"
      ],
      "execution_count": 6,
      "outputs": [
        {
          "output_type": "display_data",
          "data": {
            "text/markdown": "Listing data files from: /content/drive/MyDrive/airdata",
            "text/plain": [
              "<IPython.core.display.Markdown object>"
            ]
          },
          "metadata": {
            "tags": []
          }
        },
        {
          "output_type": "display_data",
          "data": {
            "text/markdown": "* Loading air-20210212-153737.json.gz",
            "text/plain": [
              "<IPython.core.display.Markdown object>"
            ]
          },
          "metadata": {
            "tags": []
          }
        },
        {
          "output_type": "display_data",
          "data": {
            "text/markdown": "* Loading air-20210326-110304.json.gz",
            "text/plain": [
              "<IPython.core.display.Markdown object>"
            ]
          },
          "metadata": {
            "tags": []
          }
        },
        {
          "output_type": "display_data",
          "data": {
            "text/markdown": "* Loading air-20210212-060545.json.gz",
            "text/plain": [
              "<IPython.core.display.Markdown object>"
            ]
          },
          "metadata": {
            "tags": []
          }
        },
        {
          "output_type": "display_data",
          "data": {
            "text/markdown": "* Loading air-20210212-060534.json.gz",
            "text/plain": [
              "<IPython.core.display.Markdown object>"
            ]
          },
          "metadata": {
            "tags": []
          }
        },
        {
          "output_type": "display_data",
          "data": {
            "text/markdown": "* Loading air-20210415-234052.json.gz",
            "text/plain": [
              "<IPython.core.display.Markdown object>"
            ]
          },
          "metadata": {
            "tags": []
          }
        },
        {
          "output_type": "display_data",
          "data": {
            "text/markdown": "* Loading air-20210308-213952.json.gz",
            "text/plain": [
              "<IPython.core.display.Markdown object>"
            ]
          },
          "metadata": {
            "tags": []
          }
        },
        {
          "output_type": "display_data",
          "data": {
            "text/markdown": "* Loading air-20210212-060408.json.gz",
            "text/plain": [
              "<IPython.core.display.Markdown object>"
            ]
          },
          "metadata": {
            "tags": []
          }
        },
        {
          "output_type": "display_data",
          "data": {
            "text/markdown": "* Loading air-20210212-153808.json.gz",
            "text/plain": [
              "<IPython.core.display.Markdown object>"
            ]
          },
          "metadata": {
            "tags": []
          }
        },
        {
          "output_type": "display_data",
          "data": {
            "text/markdown": "* Loading air-20210308-214511.json.gz",
            "text/plain": [
              "<IPython.core.display.Markdown object>"
            ]
          },
          "metadata": {
            "tags": []
          }
        },
        {
          "output_type": "display_data",
          "data": {
            "text/markdown": "* Loading air-20210212-153921.json.gz",
            "text/plain": [
              "<IPython.core.display.Markdown object>"
            ]
          },
          "metadata": {
            "tags": []
          }
        },
        {
          "output_type": "display_data",
          "data": {
            "text/markdown": "* Loading air-20210218-233000.json.gz",
            "text/plain": [
              "<IPython.core.display.Markdown object>"
            ]
          },
          "metadata": {
            "tags": []
          }
        },
        {
          "output_type": "display_data",
          "data": {
            "text/markdown": "* Loading air-20210212-060529.json.gz",
            "text/plain": [
              "<IPython.core.display.Markdown object>"
            ]
          },
          "metadata": {
            "tags": []
          }
        },
        {
          "output_type": "display_data",
          "data": {
            "text/markdown": "Done!",
            "text/plain": [
              "<IPython.core.display.Markdown object>"
            ]
          },
          "metadata": {
            "tags": []
          }
        }
      ]
    },
    {
      "cell_type": "code",
      "metadata": {
        "id": "BlnDX2Rs9bzn"
      },
      "source": [
        "dataset = pd.DataFrame(airdata)\n",
        "if filter_on == 1:\n",
        "  dataset['temperature'] = medfilt(dataset['temperature'], 3)\n",
        "  dataset['temperature'] = gaussian_filter1d(dataset['temperature'], 1.2)"
      ],
      "execution_count": 7,
      "outputs": []
    },
    {
      "cell_type": "code",
      "metadata": {
        "id": "dnsBuPOT-6SR"
      },
      "source": [
        "#\n",
        "# Set number of training and testing data\n",
        "# \n",
        "train_set = dataset[0:train_days].reset_index(drop=True)\n",
        "test_set = dataset[train_days: train_days+testing_days].reset_index(drop=True)\n",
        "training_set = train_set.iloc[:, 1:2].values\n",
        "testing_set = test_set.iloc[:, 1:2].values"
      ],
      "execution_count": 8,
      "outputs": []
    },
    {
      "cell_type": "code",
      "metadata": {
        "id": "BufRTCo3-6vF"
      },
      "source": [
        "#\n",
        "# Normalize data first\n",
        "#\n",
        "sc = MinMaxScaler(feature_range = (0, 1))\n",
        "training_set_scaled = sc.fit_transform(training_set)\n",
        "testing_set_scaled = sc.fit_transform(testing_set)"
      ],
      "execution_count": 9,
      "outputs": []
    },
    {
      "cell_type": "code",
      "metadata": {
        "id": "VQA_6931-7ES"
      },
      "source": [
        "#\n",
        "# Split data into n_timestamp\n",
        "#\n",
        "def data_split(sequence, n_timestamp):\n",
        "    X = []\n",
        "    y = []\n",
        "    for i in range(len(sequence)):\n",
        "        end_ix = i + n_timestamp\n",
        "        if end_ix > len(sequence)-1:\n",
        "            break\n",
        "        # i to end_ix as input\n",
        "        # end_ix as target output\n",
        "        seq_x, seq_y = sequence[i:end_ix], sequence[end_ix]\n",
        "        X.append(seq_x)\n",
        "        y.append(seq_y)\n",
        "    return array(X), array(y)"
      ],
      "execution_count": 10,
      "outputs": []
    },
    {
      "cell_type": "code",
      "metadata": {
        "id": "Zweq7R1z-7ja"
      },
      "source": [
        "X_train, y_train = data_split(training_set_scaled, n_timestamp)\n",
        "X_train = X_train.reshape(X_train.shape[0], X_train.shape[1], 1)\n",
        "X_test, y_test = data_split(testing_set_scaled, n_timestamp)\n",
        "X_test = X_test.reshape(X_test.shape[0], X_test.shape[1], 1)"
      ],
      "execution_count": 11,
      "outputs": []
    },
    {
      "cell_type": "code",
      "metadata": {
        "colab": {
          "base_uri": "https://localhost:8080/"
        },
        "id": "7guo4M6o-744",
        "outputId": "05ad6182-7906-4334-c4b2-5f4c8b443d37"
      },
      "source": [
        "if model_type == 1:\n",
        "    # Single cell LSTM\n",
        "    model = Sequential()\n",
        "    model.add(LSTM(units = 50, activation='relu',input_shape = (X_train.shape[1], 1)))\n",
        "    model.add(Dense(units = 1))\n",
        "if model_type == 2:\n",
        "    # Stacked LSTM\n",
        "    model = Sequential()\n",
        "    model.add(LSTM(50, activation='relu', return_sequences=True, input_shape=(X_train.shape[1], 1)))\n",
        "    model.add(LSTM(50, activation='relu'))\n",
        "    model.add(Dense(1))\n",
        "if model_type == 3:\n",
        "    # Bidirectional LSTM\n",
        "    model = Sequential()\n",
        "    model.add(Bidirectional(LSTM(50, activation='relu'), input_shape=(X_train.shape[1], 1)))\n",
        "    model.add(Dense(1))"
      ],
      "execution_count": 12,
      "outputs": [
        {
          "output_type": "stream",
          "text": [
            "WARNING:tensorflow:Layer lstm will not use cuDNN kernel since it doesn't meet the cuDNN kernel criteria. It will use generic GPU kernel as fallback when running on GPU\n",
            "WARNING:tensorflow:Layer lstm_1 will not use cuDNN kernel since it doesn't meet the cuDNN kernel criteria. It will use generic GPU kernel as fallback when running on GPU\n"
          ],
          "name": "stdout"
        }
      ]
    },
    {
      "cell_type": "code",
      "metadata": {
        "colab": {
          "base_uri": "https://localhost:8080/"
        },
        "id": "YjDv-yur-8ad",
        "outputId": "8d16d717-0eae-4d86-e11e-9c17c6cc7c8b"
      },
      "source": [
        "#\n",
        "# Start training\n",
        "#\n",
        "model.compile(optimizer = 'adam', loss = 'mean_squared_error')\n",
        "history = model.fit(X_train, y_train, epochs = n_epochs, batch_size = 32)\n",
        "loss = history.history['loss']\n",
        "epochs = range(len(loss))"
      ],
      "execution_count": 13,
      "outputs": [
        {
          "output_type": "stream",
          "text": [
            "Epoch 1/3\n",
            "53125/53125 [==============================] - 1542s 29ms/step - loss: 5.7471e-04\n",
            "Epoch 2/3\n",
            "53125/53125 [==============================] - 1522s 29ms/step - loss: 4.0256e-06\n",
            "Epoch 3/3\n",
            "53125/53125 [==============================] - 1515s 29ms/step - loss: 3.5119e-06\n"
          ],
          "name": "stdout"
        }
      ]
    },
    {
      "cell_type": "code",
      "metadata": {
        "id": "Ykjq99_2-8vG"
      },
      "source": [
        "#\n",
        "# Get predicted data\n",
        "#\n",
        "y_predicted = model.predict(X_test)"
      ],
      "execution_count": 14,
      "outputs": []
    },
    {
      "cell_type": "code",
      "metadata": {
        "id": "4ABuJAdF-9EV"
      },
      "source": [
        "#\n",
        "# 'De-normalize' the data\n",
        "#\n",
        "y_predicted_descaled = sc.inverse_transform(y_predicted)\n",
        "y_train_descaled = sc.inverse_transform(y_train)\n",
        "y_test_descaled = sc.inverse_transform(y_test)\n",
        "y_pred = y_predicted.ravel()\n",
        "y_pred = [round(yx, 2) for yx in y_pred]\n",
        "y_tested = y_test.ravel()"
      ],
      "execution_count": 15,
      "outputs": []
    },
    {
      "cell_type": "code",
      "metadata": {
        "colab": {
          "base_uri": "https://localhost:8080/",
          "height": 475
        },
        "id": "4M93QSpT-9Zy",
        "outputId": "3cdd164b-09ea-459c-a161-c6af556deba5"
      },
      "source": [
        "#\n",
        "# Show results\n",
        "#\n",
        "plt.figure(figsize=(8,7))\n",
        "\n",
        "plt.subplot(3, 1, 1)\n",
        "plt.plot(dataset['temperature'], color = 'black', linewidth=1, label = 'True value')\n",
        "plt.ylabel(\"Temperature\")\n",
        "plt.xlabel(\"Day\")\n",
        "plt.title(\"All data\")\n",
        "\n",
        "\n",
        "plt.subplot(3, 2, 3)\n",
        "plt.plot(y_test_descaled, color = 'black', linewidth=1, label = 'True value')\n",
        "plt.plot(y_predicted_descaled, color = 'red',  linewidth=1, label = 'Predicted')\n",
        "plt.legend(frameon=False)\n",
        "plt.ylabel(\"Temperature\")\n",
        "plt.xlabel(\"Day\")\n",
        "plt.title(\"Predicted data (n days)\")\n",
        "\n",
        "plt.subplot(3, 2, 4)\n",
        "plt.plot(y_test_descaled[0:75], color = 'black', linewidth=1, label = 'True value')\n",
        "plt.plot(y_predicted_descaled[0:75], color = 'red', label = 'Predicted')\n",
        "plt.legend(frameon=False)\n",
        "plt.ylabel(\"Temperature\")\n",
        "plt.xlabel(\"Day\")\n",
        "plt.title(\"Predicted data (first 75 days)\")\n",
        "\n",
        "plt.subplot(3, 3, 7)\n",
        "plt.plot(epochs, loss, color='black')\n",
        "plt.ylabel(\"Loss (MSE)\")\n",
        "plt.xlabel(\"Epoch\")\n",
        "plt.title(\"Training curve\")\n",
        "\n",
        "plt.subplot(3, 3, 8)\n",
        "plt.plot(y_test_descaled-y_predicted_descaled, color='black')\n",
        "plt.ylabel(\"Residual\")\n",
        "plt.xlabel(\"Day\")\n",
        "plt.title(\"Residual plot\")\n",
        "\n",
        "plt.subplot(3, 3, 9)\n",
        "plt.scatter(y_predicted_descaled, y_test_descaled, s=2, color='black')\n",
        "plt.ylabel(\"Y true\")\n",
        "plt.xlabel(\"Y predicted\")\n",
        "plt.title(\"Scatter plot\")\n",
        "\n",
        "plt.subplots_adjust(hspace = 0.5, wspace=0.3)\n",
        "plt.show()"
      ],
      "execution_count": 18,
      "outputs": [
        {
          "output_type": "stream",
          "text": [
            "findfont: Font family ['Arial'] not found. Falling back to DejaVu Sans.\n"
          ],
          "name": "stderr"
        },
        {
          "output_type": "display_data",
          "data": {
            "image/png": "[encoded data removed]",
            "text/plain": [
              "<Figure size 576x504 with 6 Axes>"
            ]
          },
          "metadata": {
            "tags": [],
            "needs_background": "light"
          }
        }
      ]
    },
    {
      "cell_type": "code",
      "metadata": {
        "colab": {
          "base_uri": "https://localhost:8080/"
        },
        "id": "uYlU5ETM-9ru",
        "outputId": "c5ac8cd5-fa05-4ec3-b3ef-b75d1b9d053b"
      },
      "source": [
        "mse = mean_squared_error(y_test_descaled, y_predicted_descaled)\n",
        "r2 = r2_score(y_test_descaled, y_predicted_descaled)\n",
        "print(\"mse=\" + str(round(mse,2)))\n",
        "print(\"r2=\" + str(round(r2,2)))"
      ],
      "execution_count": 19,
      "outputs": [
        {
          "output_type": "stream",
          "text": [
            "mse=0.0\n",
            "r2=-0.14\n"
          ],
          "name": "stdout"
        }
      ]
    },
    {
      "cell_type": "code",
      "metadata": {
        "id": "aMT_cXvE--AC"
      },
      "source": [
        ""
      ],
      "execution_count": null,
      "outputs": []
    },
    {
      "cell_type": "code",
      "metadata": {
        "id": "QeX2keOJ41Gb"
      },
      "source": [
        "df = pd.DataFrame(airdata)\n",
        "df[\"datetime\"] = pd.to_datetime(df[\"datetime\"], unit='s')\n",
        "df[\"hour\"] = [dt.hour for dt in df.datetime]\n",
        "df.head()"
      ],
      "execution_count": null,
      "outputs": []
    },
    {
      "cell_type": "code",
      "metadata": {
        "id": "zf1rp1AI47hE"
      },
      "source": [
        "# Split and Scaling\n",
        "df_train, df_test = train_test_split(df, train_size=0.8, test_size=0.2, shuffle=False)\n",
        "#X = df_train.loc[:, useful_cols].values\n",
        "min_max_scaler = MinMaxScaler()\n",
        "X_train = min_max_scaler.fit_transform(df_train.drop('datetime',axis=1))\n",
        "X_test = min_max_scaler.transform(df_test.drop('datetime',axis=1))"
      ],
      "execution_count": null,
      "outputs": []
    }
  ]
}