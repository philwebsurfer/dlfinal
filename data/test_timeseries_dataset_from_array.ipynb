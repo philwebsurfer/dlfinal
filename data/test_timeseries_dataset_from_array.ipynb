{
  "nbformat": 4,
  "nbformat_minor": 0,
  "metadata": {
    "colab": {
      "name": "test-timeseries_dataset_from_array.ipynb",
      "provenance": [],
      "collapsed_sections": [],
      "toc_visible": true,
      "authorship_tag": "ABX9TyO6v6AxVo09M6lPqDkke1gj"
    },
    "kernelspec": {
      "name": "python3",
      "display_name": "Python 3"
    },
    "language_info": {
      "name": "python"
    }
  },
  "cells": [
    {
      "cell_type": "markdown",
      "metadata": {
        "id": "W3NK3Odc6aQO"
      },
      "source": [
        "# Test of ```timeseries_dataset_from_array()```\n",
        "\n",
        "_Jorge III Altamirano-Astorga_"
      ]
    },
    {
      "cell_type": "code",
      "metadata": {
        "id": "B5X3vIi76I9z"
      },
      "source": [
        "import pandas as pd\n",
        "import numpy as np\n",
        "import tensorflow as tf\n",
        "from IPython.display import display, Markdown"
      ],
      "execution_count": 1,
      "outputs": []
    },
    {
      "cell_type": "code",
      "metadata": {
        "colab": {
          "base_uri": "https://localhost:8080/"
        },
        "id": "mbtCiVHe6zKD",
        "outputId": "0afb32c7-80ba-48b9-9902-a156185dec58"
      },
      "source": [
        "a = np.arange(1, 21)\n",
        "a"
      ],
      "execution_count": 2,
      "outputs": [
        {
          "output_type": "execute_result",
          "data": {
            "text/plain": [
              "array([ 1,  2,  3,  4,  5,  6,  7,  8,  9, 10, 11, 12, 13, 14, 15, 16, 17,\n",
              "       18, 19, 20])"
            ]
          },
          "metadata": {},
          "execution_count": 2
        }
      ]
    },
    {
      "cell_type": "code",
      "metadata": {
        "colab": {
          "base_uri": "https://localhost:8080/"
        },
        "id": "xLMnA40o7Ea6",
        "outputId": "18d1dce7-a29d-4289-fb14-fe536da0d69b"
      },
      "source": [
        "b = np.arange(99, 79, -1)\n",
        "b"
      ],
      "execution_count": 3,
      "outputs": [
        {
          "output_type": "execute_result",
          "data": {
            "text/plain": [
              "array([99, 98, 97, 96, 95, 94, 93, 92, 91, 90, 89, 88, 87, 86, 85, 84, 83,\n",
              "       82, 81, 80])"
            ]
          },
          "metadata": {},
          "execution_count": 3
        }
      ]
    },
    {
      "cell_type": "code",
      "metadata": {
        "colab": {
          "base_uri": "https://localhost:8080/"
        },
        "id": "g9-FrhMS7W9r",
        "outputId": "31d97fdc-af75-4629-8681-6e5d3d4ca25f"
      },
      "source": [
        "c = np.concatenate([a, b]).reshape(20,2)\n",
        "c"
      ],
      "execution_count": 4,
      "outputs": [
        {
          "output_type": "execute_result",
          "data": {
            "text/plain": [
              "array([[ 1,  2],\n",
              "       [ 3,  4],\n",
              "       [ 5,  6],\n",
              "       [ 7,  8],\n",
              "       [ 9, 10],\n",
              "       [11, 12],\n",
              "       [13, 14],\n",
              "       [15, 16],\n",
              "       [17, 18],\n",
              "       [19, 20],\n",
              "       [99, 98],\n",
              "       [97, 96],\n",
              "       [95, 94],\n",
              "       [93, 92],\n",
              "       [91, 90],\n",
              "       [89, 88],\n",
              "       [87, 86],\n",
              "       [85, 84],\n",
              "       [83, 82],\n",
              "       [81, 80]])"
            ]
          },
          "metadata": {},
          "execution_count": 4
        }
      ]
    },
    {
      "cell_type": "markdown",
      "metadata": {
        "id": "-kJoaVvH-v9s"
      },
      "source": [
        "## Sequence Length 2, Stride 1, Sampling Rate 1"
      ]
    },
    {
      "cell_type": "code",
      "metadata": {
        "colab": {
          "base_uri": "https://localhost:8080/",
          "height": 1000
        },
        "id": "xFZzxpB--v9u",
        "outputId": "de0f7b43-f943-43af-bb74-09ee69ab807e"
      },
      "source": [
        "data = tf.keras.utils.timeseries_dataset_from_array(c, None, sequence_length=2, \n",
        "                                                 sequence_stride=1,\n",
        "                                                 sampling_rate=1, batch_size=128,\n",
        "                                                 shuffle=False, seed=175904,\n",
        "                                                 start_index=None, end_index=None)\n",
        "for (i, batch) in enumerate(data):\n",
        "  inputs = batch\n",
        "  display(Markdown(f\"Sequence number: {i}\"))\n",
        "  print(batch)"
      ],
      "execution_count": 5,
      "outputs": [
        {
          "output_type": "display_data",
          "data": {
            "text/markdown": "Sequence number: 0",
            "text/plain": [
              "<IPython.core.display.Markdown object>"
            ]
          },
          "metadata": {}
        },
        {
          "output_type": "stream",
          "name": "stdout",
          "text": [
            "tf.Tensor(\n",
            "[[[ 1  2]\n",
            "  [ 3  4]]\n",
            "\n",
            " [[ 3  4]\n",
            "  [ 5  6]]\n",
            "\n",
            " [[ 5  6]\n",
            "  [ 7  8]]\n",
            "\n",
            " [[ 7  8]\n",
            "  [ 9 10]]\n",
            "\n",
            " [[ 9 10]\n",
            "  [11 12]]\n",
            "\n",
            " [[11 12]\n",
            "  [13 14]]\n",
            "\n",
            " [[13 14]\n",
            "  [15 16]]\n",
            "\n",
            " [[15 16]\n",
            "  [17 18]]\n",
            "\n",
            " [[17 18]\n",
            "  [19 20]]\n",
            "\n",
            " [[19 20]\n",
            "  [99 98]]\n",
            "\n",
            " [[99 98]\n",
            "  [97 96]]\n",
            "\n",
            " [[97 96]\n",
            "  [95 94]]\n",
            "\n",
            " [[95 94]\n",
            "  [93 92]]\n",
            "\n",
            " [[93 92]\n",
            "  [91 90]]\n",
            "\n",
            " [[91 90]\n",
            "  [89 88]]\n",
            "\n",
            " [[89 88]\n",
            "  [87 86]]\n",
            "\n",
            " [[87 86]\n",
            "  [85 84]]\n",
            "\n",
            " [[85 84]\n",
            "  [83 82]]\n",
            "\n",
            " [[83 82]\n",
            "  [81 80]]], shape=(19, 2, 2), dtype=int64)\n"
          ]
        }
      ]
    },
    {
      "cell_type": "markdown",
      "metadata": {
        "id": "t_wShgaX-RMB"
      },
      "source": [
        "## Sequence Length 3, Stride 1, Sampling Rate 2"
      ]
    },
    {
      "cell_type": "code",
      "metadata": {
        "colab": {
          "base_uri": "https://localhost:8080/",
          "height": 1000
        },
        "id": "zACBGnU76Y27",
        "outputId": "2e124f5c-0e9d-406c-a804-94c8625a4a19"
      },
      "source": [
        "data = tf.keras.utils.timeseries_dataset_from_array(c, None, sequence_length=3, \n",
        "                                                 sequence_stride=1,\n",
        "                                                 sampling_rate=2, batch_size=128,\n",
        "                                                 shuffle=False, seed=175904,\n",
        "                                                 start_index=None, end_index=None)\n",
        "for (i, batch) in enumerate(data):\n",
        "  inputs = batch\n",
        "  display(Markdown(f\"Sequence number: {i}\"))\n",
        "  print(batch)"
      ],
      "execution_count": 6,
      "outputs": [
        {
          "output_type": "display_data",
          "data": {
            "text/markdown": "Sequence number: 0",
            "text/plain": [
              "<IPython.core.display.Markdown object>"
            ]
          },
          "metadata": {}
        },
        {
          "output_type": "stream",
          "name": "stdout",
          "text": [
            "tf.Tensor(\n",
            "[[[ 1  2]\n",
            "  [ 5  6]\n",
            "  [ 9 10]]\n",
            "\n",
            " [[ 3  4]\n",
            "  [ 7  8]\n",
            "  [11 12]]\n",
            "\n",
            " [[ 5  6]\n",
            "  [ 9 10]\n",
            "  [13 14]]\n",
            "\n",
            " [[ 7  8]\n",
            "  [11 12]\n",
            "  [15 16]]\n",
            "\n",
            " [[ 9 10]\n",
            "  [13 14]\n",
            "  [17 18]]\n",
            "\n",
            " [[11 12]\n",
            "  [15 16]\n",
            "  [19 20]]\n",
            "\n",
            " [[13 14]\n",
            "  [17 18]\n",
            "  [99 98]]\n",
            "\n",
            " [[15 16]\n",
            "  [19 20]\n",
            "  [97 96]]\n",
            "\n",
            " [[17 18]\n",
            "  [99 98]\n",
            "  [95 94]]\n",
            "\n",
            " [[19 20]\n",
            "  [97 96]\n",
            "  [93 92]]\n",
            "\n",
            " [[99 98]\n",
            "  [95 94]\n",
            "  [91 90]]\n",
            "\n",
            " [[97 96]\n",
            "  [93 92]\n",
            "  [89 88]]\n",
            "\n",
            " [[95 94]\n",
            "  [91 90]\n",
            "  [87 86]]\n",
            "\n",
            " [[93 92]\n",
            "  [89 88]\n",
            "  [85 84]]\n",
            "\n",
            " [[91 90]\n",
            "  [87 86]\n",
            "  [83 82]]], shape=(15, 3, 2), dtype=int64)\n"
          ]
        }
      ]
    },
    {
      "cell_type": "markdown",
      "metadata": {
        "id": "4sEVNt7p-RC8"
      },
      "source": [
        "## Sequence Length 3, Stride 2, Sampling Rate 1"
      ]
    },
    {
      "cell_type": "code",
      "metadata": {
        "colab": {
          "base_uri": "https://localhost:8080/",
          "height": 672
        },
        "id": "1Plf8rI4-N0G",
        "outputId": "5d63b632-af89-4b73-cd2a-41f6165693ae"
      },
      "source": [
        "data = tf.keras.utils.timeseries_dataset_from_array(c, None, sequence_length=3, \n",
        "                                                 sequence_stride=2,\n",
        "                                                 sampling_rate=1, batch_size=128,\n",
        "                                                 shuffle=False, seed=175904,\n",
        "                                                 start_index=None, end_index=None)\n",
        "for (i, batch) in enumerate(data):\n",
        "  inputs = batch\n",
        "  display(Markdown(f\"Sequence number: {i}\"))\n",
        "  print(batch)"
      ],
      "execution_count": 7,
      "outputs": [
        {
          "output_type": "display_data",
          "data": {
            "text/markdown": "Sequence number: 0",
            "text/plain": [
              "<IPython.core.display.Markdown object>"
            ]
          },
          "metadata": {}
        },
        {
          "output_type": "stream",
          "name": "stdout",
          "text": [
            "tf.Tensor(\n",
            "[[[ 1  2]\n",
            "  [ 3  4]\n",
            "  [ 5  6]]\n",
            "\n",
            " [[ 5  6]\n",
            "  [ 7  8]\n",
            "  [ 9 10]]\n",
            "\n",
            " [[ 9 10]\n",
            "  [11 12]\n",
            "  [13 14]]\n",
            "\n",
            " [[13 14]\n",
            "  [15 16]\n",
            "  [17 18]]\n",
            "\n",
            " [[17 18]\n",
            "  [19 20]\n",
            "  [99 98]]\n",
            "\n",
            " [[99 98]\n",
            "  [97 96]\n",
            "  [95 94]]\n",
            "\n",
            " [[95 94]\n",
            "  [93 92]\n",
            "  [91 90]]\n",
            "\n",
            " [[91 90]\n",
            "  [89 88]\n",
            "  [87 86]]\n",
            "\n",
            " [[87 86]\n",
            "  [85 84]\n",
            "  [83 82]]], shape=(9, 3, 2), dtype=int64)\n"
          ]
        }
      ]
    },
    {
      "cell_type": "markdown",
      "metadata": {
        "id": "Sl_FWVCL_CED"
      },
      "source": [
        "## Sequence Length 4, Stride 2, Sampling Rate 2"
      ]
    },
    {
      "cell_type": "code",
      "metadata": {
        "colab": {
          "base_uri": "https://localhost:8080/",
          "height": 654
        },
        "id": "UOqpbkgT_CEG",
        "outputId": "8ae8315b-9a2e-4539-b4f9-054f01572480"
      },
      "source": [
        "data = tf.keras.utils.timeseries_dataset_from_array(c, None, sequence_length=4, \n",
        "                                                 sequence_stride=2,\n",
        "                                                 sampling_rate=2, batch_size=128,\n",
        "                                                 shuffle=False, seed=175904,\n",
        "                                                 start_index=None, end_index=None)\n",
        "for (i, batch) in enumerate(data):\n",
        "  inputs = batch\n",
        "  display(Markdown(f\"Sequence number: {i}\"))\n",
        "  print(batch)"
      ],
      "execution_count": 8,
      "outputs": [
        {
          "output_type": "display_data",
          "data": {
            "text/markdown": "Sequence number: 0",
            "text/plain": [
              "<IPython.core.display.Markdown object>"
            ]
          },
          "metadata": {}
        },
        {
          "output_type": "stream",
          "name": "stdout",
          "text": [
            "tf.Tensor(\n",
            "[[[ 1  2]\n",
            "  [ 5  6]\n",
            "  [ 9 10]\n",
            "  [13 14]]\n",
            "\n",
            " [[ 5  6]\n",
            "  [ 9 10]\n",
            "  [13 14]\n",
            "  [17 18]]\n",
            "\n",
            " [[ 9 10]\n",
            "  [13 14]\n",
            "  [17 18]\n",
            "  [99 98]]\n",
            "\n",
            " [[13 14]\n",
            "  [17 18]\n",
            "  [99 98]\n",
            "  [95 94]]\n",
            "\n",
            " [[17 18]\n",
            "  [99 98]\n",
            "  [95 94]\n",
            "  [91 90]]\n",
            "\n",
            " [[99 98]\n",
            "  [95 94]\n",
            "  [91 90]\n",
            "  [87 86]]\n",
            "\n",
            " [[95 94]\n",
            "  [91 90]\n",
            "  [87 86]\n",
            "  [83 82]]], shape=(7, 4, 2), dtype=int64)\n"
          ]
        }
      ]
    },
    {
      "cell_type": "markdown",
      "metadata": {
        "id": "W7Y2BTUlCrJ2"
      },
      "source": [
        "## Sequence Length 5, Stride 5, Sampling Rate 1, Batch Size 1"
      ]
    },
    {
      "cell_type": "code",
      "metadata": {
        "colab": {
          "base_uri": "https://localhost:8080/",
          "height": 551
        },
        "id": "-vGZ3y6NCrJ6",
        "outputId": "a5312b00-f8e4-4e77-b1ba-c70070864f67"
      },
      "source": [
        "data = tf.keras.utils.timeseries_dataset_from_array(c, None, sequence_length=5, \n",
        "                                                 sequence_stride=5,\n",
        "                                                 sampling_rate=1, batch_size=1,\n",
        "                                                 shuffle=False, seed=175904,\n",
        "                                                 start_index=None, end_index=None)\n",
        "for (i, batch) in enumerate(data):\n",
        "  inputs = batch\n",
        "  display(Markdown(f\"Sequence number: {i}\"))\n",
        "  print(batch)"
      ],
      "execution_count": 9,
      "outputs": [
        {
          "output_type": "display_data",
          "data": {
            "text/markdown": "Sequence number: 0",
            "text/plain": [
              "<IPython.core.display.Markdown object>"
            ]
          },
          "metadata": {}
        },
        {
          "output_type": "stream",
          "name": "stdout",
          "text": [
            "tf.Tensor(\n",
            "[[[ 1  2]\n",
            "  [ 3  4]\n",
            "  [ 5  6]\n",
            "  [ 7  8]\n",
            "  [ 9 10]]], shape=(1, 5, 2), dtype=int64)\n"
          ]
        },
        {
          "output_type": "display_data",
          "data": {
            "text/markdown": "Sequence number: 1",
            "text/plain": [
              "<IPython.core.display.Markdown object>"
            ]
          },
          "metadata": {}
        },
        {
          "output_type": "stream",
          "name": "stdout",
          "text": [
            "tf.Tensor(\n",
            "[[[11 12]\n",
            "  [13 14]\n",
            "  [15 16]\n",
            "  [17 18]\n",
            "  [19 20]]], shape=(1, 5, 2), dtype=int64)\n"
          ]
        },
        {
          "output_type": "display_data",
          "data": {
            "text/markdown": "Sequence number: 2",
            "text/plain": [
              "<IPython.core.display.Markdown object>"
            ]
          },
          "metadata": {}
        },
        {
          "output_type": "stream",
          "name": "stdout",
          "text": [
            "tf.Tensor(\n",
            "[[[99 98]\n",
            "  [97 96]\n",
            "  [95 94]\n",
            "  [93 92]\n",
            "  [91 90]]], shape=(1, 5, 2), dtype=int64)\n"
          ]
        },
        {
          "output_type": "display_data",
          "data": {
            "text/markdown": "Sequence number: 3",
            "text/plain": [
              "<IPython.core.display.Markdown object>"
            ]
          },
          "metadata": {}
        },
        {
          "output_type": "stream",
          "name": "stdout",
          "text": [
            "tf.Tensor(\n",
            "[[[89 88]\n",
            "  [87 86]\n",
            "  [85 84]\n",
            "  [83 82]\n",
            "  [81 80]]], shape=(1, 5, 2), dtype=int64)\n"
          ]
        }
      ]
    },
    {
      "cell_type": "markdown",
      "metadata": {
        "id": "OFdGB1WRDkSN"
      },
      "source": [
        "## Sequence Length 5, Stride 2, Sampling Rate 3, Batch Size 1"
      ]
    },
    {
      "cell_type": "code",
      "metadata": {
        "colab": {
          "base_uri": "https://localhost:8080/",
          "height": 418
        },
        "id": "mObngMcBDkSS",
        "outputId": "64b05f31-bbdb-41bb-eac2-872ecb3ef742"
      },
      "source": [
        "data = tf.keras.utils.timeseries_dataset_from_array(c, None, sequence_length=5, \n",
        "                                                 sequence_stride=2,\n",
        "                                                 sampling_rate=3, batch_size=1,\n",
        "                                                 shuffle=False, seed=175904,\n",
        "                                                 start_index=None, end_index=None)\n",
        "for (i, batch) in enumerate(data):\n",
        "  inputs = batch\n",
        "  display(Markdown(f\"Sequence number: {i}\"))\n",
        "  print(batch)"
      ],
      "execution_count": 10,
      "outputs": [
        {
          "output_type": "display_data",
          "data": {
            "text/markdown": "Sequence number: 0",
            "text/plain": [
              "<IPython.core.display.Markdown object>"
            ]
          },
          "metadata": {}
        },
        {
          "output_type": "stream",
          "name": "stdout",
          "text": [
            "tf.Tensor(\n",
            "[[[ 1  2]\n",
            "  [ 7  8]\n",
            "  [13 14]\n",
            "  [19 20]\n",
            "  [95 94]]], shape=(1, 5, 2), dtype=int64)\n"
          ]
        },
        {
          "output_type": "display_data",
          "data": {
            "text/markdown": "Sequence number: 1",
            "text/plain": [
              "<IPython.core.display.Markdown object>"
            ]
          },
          "metadata": {}
        },
        {
          "output_type": "stream",
          "name": "stdout",
          "text": [
            "tf.Tensor(\n",
            "[[[ 5  6]\n",
            "  [11 12]\n",
            "  [17 18]\n",
            "  [97 96]\n",
            "  [91 90]]], shape=(1, 5, 2), dtype=int64)\n"
          ]
        },
        {
          "output_type": "display_data",
          "data": {
            "text/markdown": "Sequence number: 2",
            "text/plain": [
              "<IPython.core.display.Markdown object>"
            ]
          },
          "metadata": {}
        },
        {
          "output_type": "stream",
          "name": "stdout",
          "text": [
            "tf.Tensor(\n",
            "[[[ 9 10]\n",
            "  [15 16]\n",
            "  [99 98]\n",
            "  [93 92]\n",
            "  [87 86]]], shape=(1, 5, 2), dtype=int64)\n"
          ]
        }
      ]
    }
  ]
}