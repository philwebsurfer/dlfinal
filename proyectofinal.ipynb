{
 "cells": [
  {
   "cell_type": "markdown",
   "id": "becoming-night",
   "metadata": {
    "id": "yzXTjq1neRRx"
   },
   "source": [
    "_Jorge III Altamirano-Astorga, Luz Aurora Hernández-Martínez, Ita-Andehui Santiago-Castillejos._\n",
    "\n",
    "_Profesor: Dr. Edgar Francisco Román-Rangel_"
   ]
  },
  {
   "cell_type": "markdown",
   "id": "threaded-salon",
   "metadata": {
    "id": "cYsXKp8YfUl5"
   },
   "source": [
    "# Resumen\n",
    "\n",
    "Desarrollaremos un proyecto de investigación basados en un sensor de la calidad\n",
    "del aire que tenemos dentro de casa de uno de los participantes con el fin de\n",
    "estudiar, analizar, explorar y entender su relación e influencia con los fenómenos\n",
    "externos (calidad del aire de la ciudad y variables atmosféricas) para poder predecir la calidad del aire en el interior de casa con las mediciones de compuestos\n",
    "orgánicos volátiles, los cuales tienen alta probabilidad de ser perjudiciales para\n",
    "la salud.\n",
    "\n"
   ]
  },
  {
   "cell_type": "markdown",
   "id": "arranged-glory",
   "metadata": {
    "id": "absent-script"
   },
   "source": [
    "# Introducción\n",
    "\n",
    "El ITAM y muchos de sus miembros tenemos residencia en la Ciudad de México. Esta metrópolis es una de las más contaminadas en el continente y en el mundo. A causa de la pandemia, una gran cantidad de la población pasamos mucho de nuestro tiempo encerrados en espacios cerrados, típicamente nuestras viviendas. Queremos saber cómo influyen los factores atmosféricos y la contaminación de la Ciudad en la contaminación de un espacio cerrado.\n",
    "\n",
    "Hemos almacenado los datos de este sensor desde Febrero 2021 tratando de mantenerlos en un área común que no tiene ventilación directa para evitar perturbaciones en las lecturas y que sea influído directamente por la contaminación exterior, así como de otras fuentes de emisión (cocina). \n",
    "\n",
    "Es importante destacar que este sensor no detecta contaminantes primarios, tales como: óxidos de nitrógeno (NOx), dióxido de carbono (CO2), monóxido de carbono (CO), ozono (O3), más bien mide los compuestos orgánicos volátiles, conocidos por el acrónimo anglosajón VOCs. Los VOCs típicamente son muchos de los olores que percibimos, los cuales son disoluciones de compuestos en el aire.\n",
    "\n",
    "Estos compuestos orgánicos volátiles se han comprobado como nocivos a la salud y posibles cancerígenos, lo cual nos despertó el interés. Ejemplos de estos compuestos orgánicos son: el humo del cigarro, humo causado por cocinar alimentos, la utilización de agentes de limpieza (cloro y basados en amoniaco) y fuentes volátiles varias (como solventes, pinturas, quitaesmaltes), entre otros."
   ]
  },
  {
   "cell_type": "markdown",
   "id": "accomplished-zimbabwe",
   "metadata": {
    "id": "gross-serbia"
   },
   "source": [
    "## Fuentes de Datos y Variables\n",
    "\n",
    "Tenemos los siguientes de fuentes de datos con las siguientes variables:\n",
    "\n",
    "1. Sensor de Contaminantes en Interior de Casa ME680: contamos aproximadamente 2.1 millones de registros. Las lecturas del sensor son cada 3 segundos.\n",
    "\n",
    "    * Temperatura: variable numérica en grados Celsius (C) con una resolución de $0.01C$ y una precisión de $\\pm 0.5C$.\n",
    "\n",
    "    * Presión: variable numérica en hectopascales (hPa) con una resolución de $0.18~hPa$ y una precisión de $\\pm 0.12~hPA$.\n",
    "\n",
    "    * Humedad: variable numérica en porcentaje de humedad relativa (%rH) con una resolución de $0.008~\\%rH$ y una precisión de $\\pm 3\\%rH$.\n",
    "\n",
    "    * Resistencia del Gas: variable numérica de la resistencia eléctrica opuesta al elemento sensible del sensor medida en Ohms.\n",
    "\n",
    "    * IAQ: variable numérica medida en el índice de calidad del aire americano en interior (IAQI, aunque utilizaremos la nomenclatura IAQ) con una resolución de $1~ IAQ$. La precisión del sensor variable que no excede 5% se guarda en una variable independiente. \n",
    "\n",
    "    * Precisión del sensor: variable categórica ordinal con valores en el rango de [0,3]:\n",
    "\n",
    "        * 0: periodo de estabilización o no operativo.\n",
    "\n",
    "        * 1-2: periodo operativo.\n",
    "\n",
    "        * 3: precisión máxima y operación óptima.\n",
    "\n",
    "    * Fecha y hora: variable numérica basado en UNIX/POSIX epoch que denota el tiempo desde el 01/01/1970 00:00:00.0 UTC. El tiempo está sincronizado por NTP al Centro Nacional de Metrología de México (Hora Oficial del País). \n",
    "\n",
    "2. Datos Abiertos del Gobierno (SINAICA) la Calidad del Aire del Gobierno de la Ciudad de México con 2,170 observaciones. Los valores reportados son  cada Hora, todos son variables continuas.\n",
    "\n",
    "    * CO: Monóxido de Carbono medido en partes por millón (ppm).\n",
    "    \n",
    "    * NO, NO2, NOx: Familia de óxidos de nitrógeno. 3 variables correspondientes a la familia de óxidos de nitrógeno. Medidos en partes por billón (ppb).\n",
    "    \n",
    "    * O3: Ozono medido en partes por billón (ppb).\n",
    "    \n",
    "    * PM2.5, PM10: partículas microscópicas de 2.5 micras y 10 micras. Medido en microgramos por metro cúbico ($\\mu g / m^3$)\n",
    "    \n",
    "    * SO2: dióxido de azufre. Medido en partes por billón (ppb).\n",
    "    \n",
    "    * Fecha y hora: entregado en zona horaria del Centro de México.\n",
    "    \n",
    "    Tomamos los datos de las estaciones meteorológicas cercanas en un radio de 10 km del sensor interior.\n",
    "    \n"
   ]
  },
  {
   "cell_type": "markdown",
   "id": "presidential-collectible",
   "metadata": {
    "id": "gross-serbia"
   },
   "source": [
    "Todos los datos que tenemos fueron divididos en un set de entrenamiento y pruebas tanto para el desarrollo de los modelos predictivos, como para las imputaciones. Los datos de SINAICA se dividieron en conjuntos correspondientes a 70% de los datos y 30% para pruebas. Los datos del sensor, al ser más, utilizamos una división de 80-20."
   ]
  },
  {
   "cell_type": "markdown",
   "id": "conscious-anchor",
   "metadata": {
    "id": "discrete-documentation"
   },
   "source": [
    "### Problemáticas\n",
    "\n",
    "* Datos del Gobierno de la Ciudad de México: estos datos no están siendo actualizados de manera cotidiana, por lo que en ocasiones tienen atrasos en publicar la información actual. Ejemplo, al 31 de marzo no habían subido actualizaciones desde el 28 de enero. Se pudo contrarrestar este problema utilizando la fuente de datos federal (SINAICA) que se encuentra en la bibliografía.\n",
    "\n",
    "* No pudimos utuilizar datos meteorológicos de terceros dado que nos son fuentes abiertas y tenían un costo los datos históricos.\n",
    "\n",
    "* Precisión y manipulación de los datos del gobierno: observamos demasiadas observaciones faltantes en todas las estaciones meteorológicas, ya sea por manipulación directa para ocultar información o bien por descuido y falta de interés del gobierno para publicar estos datos.\n",
    "\n",
    "* Estabilidad y precisión de la toma de registros en el sensor: tuvimos típicamente interrupciones menores a 1 minuto causado por actualizaciones de software y fallas eléctricas.\n",
    "\n",
    "* Algoritmo cerrado del sensor para convertir de la variable `gasResistance` a la variable `IAQ`; el cual es cerrado. Sólo proporcionan un objeto binario, que se puede ejecutar en Linux, Windows, ARM y ligándolo en C, el cual procesa la variable `gasResistance`. [1] [2]\n",
    "\n",
    "    * Al parecer esta variable se genera como una serie de tiempo y llega a guardar hasta 24 hrs de estados previos de ejecución del sensor. [3]\n",
    "    \n",
    "    * Este código es protegido como propiedad intelectual del fabricante del sensor (Bosch), lo cual impide que se pueda hacer desensamble o ingeniería inversa.\n",
    "    \n",
    "    * Se pudiera utilizar el objeto binario en un ejecutable en Linux o Windows, donde pudiese ser convertida no desde el sensor, sino desde nuestras predicciones de la variable gasResistance.\n",
    "    \n",
    "    \n",
    "    Este problema lo logramos superar robusteciendo la red neuronal para que tuviéramos las predicciones en la unidad IAQ que se describió en la sección anterior: Variables."
   ]
  },
  {
   "cell_type": "markdown",
   "id": "retired-bandwidth",
   "metadata": {
    "id": "spatial-reason"
   },
   "source": [
    "## Análisis Exploratorio Inicial\n",
    "\n",
    "Se realizó un análisis exploratorio de los datos y recopilación de los datos de fuentes externas. A continuación mostramos algunas gráficas de las lecturas del sensor."
   ]
  },
  {
   "cell_type": "code",
   "execution_count": 1,
   "id": "lightweight-organization",
   "metadata": {
    "id": "exceptional-mortality",
    "outputId": "66af0d25-d113-4dbb-8605-bc31a4002dfd"
   },
   "outputs": [
    {
     "data": {
      "text/markdown": [
       "* Rango de fechas obtenidas: 2021-02-12 06:05:35 al 2021-04-24 22:16:20"
      ],
      "text/plain": [
       "<IPython.core.display.Markdown object>"
      ]
     },
     "metadata": {},
     "output_type": "display_data"
    },
    {
     "data": {
      "text/markdown": [
       "* Número de registros: 2,068,354"
      ],
      "text/plain": [
       "<IPython.core.display.Markdown object>"
      ]
     },
     "metadata": {},
     "output_type": "display_data"
    },
    {
     "data": {
      "text/markdown": [
       "* Promedio de IAQ: 161.23 desviación estándar: 72.85"
      ],
      "text/plain": [
       "<IPython.core.display.Markdown object>"
      ]
     },
     "metadata": {},
     "output_type": "display_data"
    }
   ],
   "source": [
    "%matplotlib inline\n",
    "from IPython.display import (display, Markdown, Image, \n",
    "                             clear_output, Latex, Math)\n",
    "import pandas as pd\n",
    "import re, os, sys, shelve, time, dill, io\n",
    "from pickle import PicklingError\n",
    "from dill import Pickler, Unpickler\n",
    "shelve.Pickler = Pickler\n",
    "shelve.Unpickler = Unpickler\n",
    "import numpy as np\n",
    "import matplotlib.pyplot as plt\n",
    "from plotnine import *\n",
    "import plotnine.options as p9opts\n",
    "#figure_size = (6.4, 4.8)\n",
    "p9opts.figure_size = (2.5, 1.2)\n",
    "#p9opts.dpi = 84\n",
    "from sklearn.model_selection import train_test_split\n",
    "from sklearn.preprocessing import MinMaxScaler\n",
    "\n",
    "airdata = pd.read_pickle(\"data/airdata/air-imputated.pickle.gz\")\n",
    "display(Markdown(f\"* Rango de fechas obtenidas: {airdata.datetime.min().strftime('%Y-%m-%d %H:%M:%S')} al {airdata.datetime.max().strftime('%Y-%m-%d %H:%M:%S')}\"))\n",
    "display(Markdown(f\"* Número de registros: {airdata.shape[0]:3,}\"))\n",
    "display(Markdown(f\"* Promedio de IAQ: {airdata.IAQ.mean():.2f} desviación estándar: {airdata.IAQ.std():.2f}\"))"
   ]
  },
  {
   "cell_type": "code",
   "execution_count": 2,
   "id": "numerical-arbor",
   "metadata": {
    "id": "unnecessary-occasion",
    "outputId": "0211fccd-2b4d-4407-eb1f-fbdf4d96ff2c"
   },
   "outputs": [
    {
     "data": {
      "image/png": "[encoded data removed]",
      "text/plain": [
       "<Figure size 250x120 with 1 Axes>"
      ]
     },
     "metadata": {},
     "output_type": "display_data"
    }
   ],
   "source": [
    "_ = (\n",
    "    ggplot(airdata.sample(frac=0.3, random_state=175904), \n",
    "           aes(x = \"datetime\", y = \"temperature\", color=\"pressure\")) +\n",
    "    geom_jitter(alpha=0.05) +\n",
    "    theme(axis_text_x=element_text(angle=45), \n",
    "          plot_title=element_text(size=11)) +\n",
    "    labs(x=\"Fecha\", y=\"Temp (C)\", color=\"Presión (hPa)\", \n",
    "         title=\"Gráfica de Temperatura y\\nPresión a lo Largo del Tiempo.\") \n",
    ").draw()"
   ]
  },
  {
   "cell_type": "code",
   "execution_count": 3,
   "id": "instant-three",
   "metadata": {
    "id": "million-capitol",
    "outputId": "eec91667-5c06-478d-e148-a0afdef1f144"
   },
   "outputs": [],
   "source": [
    "#_ = (\n",
    "#    ggplot(airdata.sample(frac=0.3, random_state=175904), \n",
    "#           aes(x = \"datetime\", y = \"IAQ\", color=\"iaqAccuracy\")) +\n",
    "#    geom_jitter(alpha=0.05, size=1.25) +\n",
    "#    theme(axis_text_x=element_text(angle=45)) +\n",
    "#    labs(x=\"Fecha\", color=\"Precisión del Sensor\",\n",
    "#         title=\"Gráfica de IAQ y Precisión\\ndel Sensor a lo Largo del Tiempo\")\n",
    "#).draw()"
   ]
  },
  {
   "cell_type": "markdown",
   "id": "affecting-natural",
   "metadata": {
    "id": "intensive-truth"
   },
   "source": [
    "## Modelos\n",
    "\n",
    "Proponemos utilizar un modelo de aprendizaje profundo con distintos tipos de neuronas artificiales:\n",
    "\n",
    "* DNN: Las redes neuronales densas son redes neuronales profundas que son la base para las redes neuronales artificiales (ANN) con múltiples capas entre las capas de entrada y salida.\n",
    "\n",
    "* RNN: Las redes neuronales recurrentes son la arquitectura más clásica y utilizada para problemas de predicción de series temporales;\n",
    "\n",
    "* CNN: red neuronal convolucional.\n",
    "\n",
    "* LSTM: Las redes neuronales de \"Memoria Largo-Corto Plazo\" (LSTM) que son una evolución de las RNN desarrolladas para superar el problema del gradiente que desaparece;\n",
    "\n",
    "\n",
    "* Mezcla de los mejores modelos, en este caso CNN + LSTM.\n",
    "\n",
    "Utilizamos series de tiempo basandonos en el modelo de ventanas de tiempo donde se crearon matrices con tiempos pasados [4] [5]\n",
    "\n",
    "Además de utilizar técnicas de series de tiempo, estadística frecuentista y bayesiana para el análisis de los datos y las imputaciones que fueron necesarias para tener esta secuencia de valores para la serie de tiempo. Exploramos las siguientes técnicas.\n",
    "\n",
    "* KNN: K-Vecinos más cercanos.\n",
    "\n",
    "* GLM: Métodos Lineales Generalizados: tanto frecuentista, como bayesiano con el método del muestreador de Gibbs.\n",
    "\n",
    "* Medias\n",
    "\n",
    "* Hot-Deck\n",
    "\n",
    "* Interpolación con ruido.\n",
    "\n",
    "Esta última fue la técnica que utilizamos por adecuarse mejor a la secuencia de los datos. Como se muestra en un ejemplo a continuación:"
   ]
  },
  {
   "cell_type": "code",
   "execution_count": 4,
   "id": "speaking-trauma",
   "metadata": {},
   "outputs": [
    {
     "data": {
      "image/png": "[encoded data removed]",
      "text/plain": [
       "<Figure size 250x120 with 1 Axes>"
      ]
     },
     "metadata": {},
     "output_type": "display_data"
    }
   ],
   "source": [
    "_ = airdata\n",
    "_.index = airdata.datetime\n",
    "_ = _[\"2021-02-18 23:10\":\"2021-02-18 23:35\"].copy()\n",
    "_[\"datetime2\"] = _[\"datetime\"].dt.strftime('%H:%M:%S')\n",
    "#display(_)\n",
    "_ = (\n",
    "  ggplot(_) +\n",
    "  geom_point(aes(x=\"datetime\", y=\"humidity\", color=\"imputated\")) +\n",
    "  scale_x_datetime(date_breaks='5 minute', date_labels=\"%H:%M:%S\") +\n",
    "  theme(axis_text_x=element_text(angle=45), \n",
    "          plot_title=element_text(size=11)) +\n",
    "  labs(title=\"Gráfica Ejemplo de Datos Imputados.\")\n",
    ").draw()"
   ]
  },
  {
   "cell_type": "markdown",
   "id": "economic-working",
   "metadata": {
    "id": "effective-pizza"
   },
   "source": [
    "# Trabajos relacionados\n",
    "\n",
    "Existen los siguientes trabajos relacionados:\n",
    "\n",
    "1. Examen final para la materia de \"Modelos de Gran Escala\" con la Prof. Liliana Millán. Utilizamos los datos de las estaciones de monitoreo ambiental de la Ciudad de México y los datos de afluencia de las estaciones Ecobici. Buscamos establecer la relación entre la afluencia de las estaciones de Ecobici y la disminución (o aumento) de contaminantes en las inmediaciones a estas estaciones. Encontramos que las estaciones con alta afluencia tienen mayor contaminación, pero pudiera ser provocado porque la afluencia es para todos los medios de transporte, incluídos los emisores de contaminación. Fueron utilizados metodos de aprendizaje máquina.\n",
    "\n",
    "2. Development of indoor environmental index: Air quality index and thermal comfort index [6] Es un estudio de la Universidad Tecnológica de Malasia. Utilizaron los datos de un conjunto de sensores, similares al nuestro, para establecer la relación entre contaminantes en interior (IAQ) y el índice de comodidad térmica (TCI) mediante un nuevo índice de calidad y comodidad ambiental de interiores mediante un monitoreo en \"tiempo real\". El modelo propuesto está basado en una suma ponderada.\n",
    "\n",
    "3. Tensorflow Tutorial on Time-Series Forecasting [4]. Los creadores del Tensorflow, a manera de demostración, utilizaron los datos de Biogeoquímica del Instituto Max-Planck de Alemania para predecir el clima a partir de datos históricos utilizando redes neuronales en combinación con series de tiempo. Utilizaron redes neuronales de los tipos RNN y LSTM.\n"
   ]
  },
  {
   "cell_type": "markdown",
   "id": "latin-stomach",
   "metadata": {
    "id": "sitting-fabric"
   },
   "source": [
    "# Solución\n",
    "\n",
    "## Preprocesamiento \n",
    "\n",
    "Hicimos un preprocesamiento de los datos basado en los siguientes puntos:\n",
    "\n",
    "* Conjunto de datos de Pruebas y Entranamiento que fue descrito en la sección de [Fuentes de Datos y Variables](#Fuentes-de-Datos-y-Variables).\n",
    "\n",
    "* Imputación: imputamos las observaciones faltantes con datos de la calidad del aire de la Ciudad de México, en específico con la información del monitor de la estación Camarones, esto considerando su distancia a la ubicación de nuestro sensor. Para hacer la imputación usamos interpolación, aunque también exploramos KNN, MLG, entre otros. También es importante mencionar que procesamos los datos como una serie de tiempo usando un tutorial de tensorflow y Keras [5].\n",
    "\n",
    "## Modelo Propuesto\n",
    "\n",
    "El modelo que mejor resultados nos dio fue un modelo de redes neuronales que combina en una sola red: subredes convolucionales (CNN), memoria largo-corto plazo (LSTM) y redes densas (DNN); dado que mostró el beneficio de usarlo para la clasificación de secuencias es que pueden aprender directamente de los datos de series de tiempo sin procesar y, a su vez, no requieren experiencia en el dominio para diseñar manualmente las características de entrada. El modelo aprendió una representación interna de los datos de la serie temporal y logró el mejor rendimiento.\n",
    "\n",
    "## Datos del Gobierno y del Sensor\n",
    "\n",
    "En esta sección utilizaremos los datos de las estaciones de monitoreo de contaminantes de la Ciudad de México y los Datos del Sensor.\n",
    "\n",
    "# Resultados"
   ]
  },
  {
   "cell_type": "code",
   "execution_count": 5,
   "id": "applicable-watts",
   "metadata": {
    "id": "80YuQ_zZeVi1",
    "tags": []
   },
   "outputs": [],
   "source": [
    "try:\n",
    "  from google.colab import drive\n",
    "  drive.mount('/content/drive', force_remount=False)\n",
    "  from google.colab import files\n",
    "except:\n",
    "  ;\n",
    "\n",
    "base_url = \"\"\n",
    "# File Loaders\n",
    "try:\n",
    "    base_url = \"drive/MyDrive/Colab Notebooks/Final\"\n",
    "    uploaded = os.path.join(base_url, \"data/sinaica-imputated.pickle.gz\")\n",
    "    if(not os.path.isfile(uploaded)):\n",
    "        from google.colab import files\n",
    "        uploaded = files.upload()\n",
    "except:\n",
    "    base_url = \"\"\n",
    "    uploaded = \"data/sinaica/sinaica-imputated.pickle.gz\"\n",
    "\n",
    "def render_mpl_table(data, col_width=3.0, row_height=0.625, font_size=14,\n",
    "                     header_color='#40466e', row_colors=['#f1f1f2', 'w'], edge_color='w',\n",
    "                     bbox=[0, 0, 1, 1], header_columns=0,\n",
    "                     ax=None, **kwargs):\n",
    "    \"\"\"\n",
    "    Taken from https://stackoverflow.com/a/39358722/7323086\n",
    "    \"\"\"\n",
    "    if ax is None:\n",
    "        size = (np.array(data.shape[::-1]) + np.array([0, 1])) * np.array([col_width, row_height])\n",
    "        fig, ax = plt.subplots(figsize=size)\n",
    "        ax.axis('off')\n",
    "\n",
    "    mpl_table = ax.table(cellText=data.values, bbox=bbox, colLabels=data.columns, **kwargs)\n",
    "\n",
    "    mpl_table.auto_set_font_size(False)\n",
    "    mpl_table.set_fontsize(font_size)\n",
    "\n",
    "    for k, cell in  six.iteritems(mpl_table._cells):\n",
    "        cell.set_edgecolor(edge_color)\n",
    "        if k[0] == 0 or k[1] < header_columns:\n",
    "            cell.set_text_props(weight='bold', color='w', size=font_size*1.05)\n",
    "            cell.set_facecolor(header_color)\n",
    "        else:\n",
    "            cell.set_facecolor(row_colors[k[0]%len(row_colors) ])\n",
    "    plt.show()\n",
    "\n",
    "#df.dropna(inplace=True)\n",
    "clear_output()\n",
    "\n",
    "def performance_plot(history, a=None, b=None, \n",
    "                    metrics=[\"accuracy\", \"val_accuracy\"],\n",
    "                    plot_validation=True,\n",
    "                    title=\"Gráficas de Desempeño.\"):\n",
    "  \"\"\"\n",
    "  Prints performance plot from a, to b on a history dict.\n",
    "  \n",
    "  Inputs:\n",
    "  history: dict containing \"loss\" and \"accuracy\" keys\n",
    "  a: epoch start\n",
    "  b. last epoch\n",
    "  metrics: plot these metrics (train and validation). Always 2.\n",
    "  plot_validation: boolean indicating if validation data should be plotted.\n",
    "  a: from this epoch\n",
    "  b: to this epoch    \n",
    "  \"\"\"\n",
    "  if a is None:\n",
    "      a = 0\n",
    "  if b is None:\n",
    "      b = len(history['loss'])\n",
    "  a = np.min((a,b))\n",
    "  b = np.max((a,b))\n",
    "\n",
    "  imgrows = (len(metrics) + 1) / 2\n",
    "  imgrows = np.round(imgrows, 0)\n",
    "  imgrows = int(imgrows)\n",
    "  #print(imgrows)\n",
    "\n",
    "  # Plot loss\n",
    "  plt.figure(figsize=(14, 5\n",
    "                      *imgrows))\n",
    "  plt.suptitle(title)\n",
    "  plt.subplot(imgrows, 2, 1)\n",
    "  plt.title('Loss')\n",
    "  plt.plot(history['loss'][a:b], label='Training', linewidth=2)\n",
    "  if plot_validation:\n",
    "    plt.plot(history['val_loss'][a:b], label='Validation', linewidth=2)\n",
    "  plt.legend()\n",
    "  plt.xlabel('Epoch')\n",
    "  plt.ylabel(f'Loss')\n",
    "  quantiles = np.quantile(range(a, b), \n",
    "                          [.2, .4, .6, .8]).round(0).astype(int)\n",
    "  quantiles = np.insert(quantiles, 0, [a])\n",
    "  quantiles += 1\n",
    "  quantiles = np.append(quantiles, [b-1])\n",
    "  plt.xticks(ticks=quantiles-a,\n",
    "              labels=quantiles)\n",
    "  plt.grid(True)\n",
    "\n",
    "  # Plot accuracy\n",
    "  for i, metric in enumerate(metrics): \n",
    "    #print(f\"metric: {metric}, i: {i}\")\n",
    "    #print(f\"mean metric: {np.mean(history[metric])}\")\n",
    "    plt.subplot(imgrows, 2, i+2)\n",
    "    plt.title(metric)\n",
    "    plt.plot(history[metric][a:b], label='Training', \n",
    "              linewidth=2)\n",
    "    if plot_validation:\n",
    "      plt.plot(history[\"val_\" + metric][a:b], \n",
    "                label='Validation', linewidth=2)\n",
    "    plt.legend()\n",
    "    plt.xlabel('Epoch')\n",
    "    plt.ylabel(metric)\n",
    "    #plt.xlim(a, b)\n",
    "    #print(range(0, b-a))\n",
    "    plt.xticks(ticks=quantiles-a, \n",
    "                labels=quantiles)\n",
    "    plt.grid(True)\n",
    "\n",
    "  plt.show()\n",
    "\n",
    "#render_mpl_table(df.head().applymap(shorten), col_width=5)\n",
    "\n",
    "sinaica = pd.read_pickle(uploaded)\n",
    "airdata = pd.read_pickle(os.path.join(base_url, \"data/airdata/air-imputated.pickle.gz\"))\n",
    "#sinaica.head()"
   ]
  },
  {
   "cell_type": "markdown",
   "id": "adjusted-criterion",
   "metadata": {},
   "source": [
    "* Tabla Comparativa de los Datos del Gobierno y del Sensor"
   ]
  },
  {
   "cell_type": "code",
   "execution_count": 6,
   "id": "stainless-legislature",
   "metadata": {
    "colab": {
     "base_uri": "https://localhost:8080/",
     "height": 377
    },
    "id": "74KxiAlLecNe",
    "outputId": "9b828865-2f66-4d07-8a31-7b40f8bdc0fe"
   },
   "outputs": [
    {
     "data": {
      "text/markdown": [
       "|    | Modelo        | Tiempo    | # Params   |   val_mae |   mae |\n",
       "|---:|:--------------|:----------|:-----------|----------:|------:|\n",
       "|  0 | model_best01b | 9m34.02s  | 169,795    |     80.26 | 61.04 |\n",
       "|  1 | model_lstm01  | 2m24.19s  | 54,273     |     83.18 | 52.96 |\n",
       "|  2 | model_lstm03  | 6m13.69s  | 185,345    |     81.68 | 55.41 |\n",
       "|  3 | model_best01a | 15m37.22s | 575,745    |     83.38 | 53.35 |\n",
       "|  4 | model_conv01  | 2m53.16s  | 116,225    |     90.47 | 61.12 |"
      ],
      "text/plain": [
       "<IPython.core.display.Markdown object>"
      ]
     },
     "execution_count": 6,
     "metadata": {},
     "output_type": "execute_result"
    }
   ],
   "source": [
    "models = []\n",
    "object_names = []\n",
    "models_path = os.path.join(base_url, \"models-sinaica\")\n",
    "\n",
    "for y in [x for x in os.listdir(models_path) if x.endswith(\"dill\")]:\n",
    "  model_path = os.path.join(models_path, y)\n",
    "  with io.open(model_path, 'rb') as file:\n",
    "      object_name = re.sub(r\"\\.\", \"_\", y)\n",
    "      object_name = re.sub(r\"_dill\", \"\", object_name)\n",
    "      globals()[object_name] = dill.load(file)\n",
    "      object_names.append(object_name)\n",
    "#display(Markdown(\"Objetos cargados: \\n\\n>\" + \n",
    "#         \", \".join(object_names)))\n",
    "\n",
    "model_times = [o for o in object_names if o.endswith(\"_time\")]\n",
    "perf_table = pd.DataFrame({\n",
    "  \"Modelo\": [re.sub(\"_time$\", \"\", model_time) for model_time in model_times],\n",
    "  \"Tiempo\": [globals()[model_time] for model_time in model_times]\n",
    "})\n",
    "df_n_params = pd.DataFrame(data={\n",
    "    \"Modelo\": [x for x in model_n_params.keys()],\n",
    "    \"# Params\": [x for x in model_n_params.values()]\n",
    "})\n",
    "perf_table = perf_table.merge(df_n_params, on=\"Modelo\")\n",
    "model_path = os.path.join(models_path, \"model_n_params.dill\")\n",
    "model_n_params = dill.load(open(model_path, 'rb'))\n",
    "model_histories = [o \n",
    "                   for o in object_names \n",
    "                   if o.endswith(\"_hist\")\n",
    "                  ]\n",
    "model_metrics = [k \n",
    "                 for k in globals()[model_histories[0]].keys()\n",
    "                 if re.search(\"^(val_|loss)\", k) is None\n",
    "                ]\n",
    "\n",
    "for metric in model_metrics:\n",
    "  perf_table[\"val_\" + metric] = [np.mean(globals()[o][\"val_\" + metric]) for o in model_histories]\n",
    "for metric in model_metrics:\n",
    "  perf_table[metric] = [np.mean(globals()[o][metric]) for o in model_histories]\n",
    "perf_table.rename({\n",
    "  \"mean_squared_logarithmic_error\": \"msle\",\n",
    "  \"val_mean_squared_logarithmic_error\": \"val_msle\"\n",
    "}, axis=1, inplace=True)\n",
    "perf_table.drop([\"loss\", \"val_loss\"], axis=1, inplace=True, errors='ignore')\n",
    "perf_table.sort_values(\"val_mse\", inplace=True)\n",
    "perf_table[\"Tiempo\"] = (perf_table[\"Tiempo\"] // 60).astype('int').astype(\"str\") + \"m\" + \\\n",
    "(perf_table[\"Tiempo\"] % 60).round(3).apply(lambda x: f\"{x:2.2f}\") + \"s\"\n",
    "perf_table.reset_index(inplace=True, drop=True)\n",
    "#perf_table.round(4)\n",
    "excluded_columns = [\"iaqAccuracy\", \"datetime\", \"datetime-1\", \"delta\", \n",
    "                    \"imputated\", \"year\"]\n",
    "train, test = train_test_split(sinaica[[x \n",
    "                                        for x in sinaica.columns \n",
    "                                        if x not in excluded_columns]], \n",
    "                               train_size=0.8, random_state=175904, shuffle=False)\n",
    "scaler_iaq = MinMaxScaler().fit(train[[\"IAQ\"]])\n",
    "perf_data_iaq = scaler_iaq.inverse_transform(perf_table.select_dtypes(\"float64\"))\n",
    "#scaler_gr = MinMaxScaler().fit(train[[\"gasResistance\"]])\n",
    "#perf_data_gr = scaler_gr.inverse_transform(perf_table.select_dtypes(\"float64\"))\n",
    "perf_data_iaq = pd.DataFrame(perf_data_iaq, \n",
    "                             columns=perf_table.select_dtypes(\"float64\").columns)\n",
    "#perf_data_gr  = pd.DataFrame(perf_data_gr, \n",
    "#                             columns=perf_table.select_dtypes(\"float64\").columns)\n",
    "perf_data_iaq.insert(0, \"Tiempo\", perf_table[\"Tiempo\"], )\n",
    "#perf_data_gr.insert(0,  \"Tiempo\", perf_table[\"Tiempo\"], )\n",
    "perf_data_iaq.insert(0, \"Modelo\", perf_table[\"Modelo\"], )\n",
    "#perf_data_gr.insert(0,  \"Modelo\", perf_table[\"Modelo\"], )\n",
    "perf_data_iaq[\"# Params\"] = perf_table[\"# Params\"]\n",
    "#perf_data_gr[\"# Params\"]  = perf_table[\"# Params\"]\n",
    "perf_data = perf_table.copy()\n",
    "perf_data.sort_values(\"val_mse\", inplace=True)\n",
    "perf_data.reset_index(inplace=True, drop=True)\n",
    "model_number_rows = [int(re.sub(\"[^0-9]\", \"\", x)) for x in perf_table[\"Modelo\"]]\n",
    "#is_gr_row = [(x % 2) == 0 for x in model_number_rows]\n",
    "is_iaq_row = [(x % 2) == 1 for x in model_number_rows]\n",
    "#perf_data.iloc[is_gr_row] = perf_data_gr\n",
    "perf_data.iloc[is_iaq_row] = perf_data_iaq\n",
    "cols = [\"Modelo\", \"Tiempo\", \"# Params\", \"val_mae\", \"mae\"]\n",
    "Markdown(perf_data.round(2)[cols].head(5).to_markdown())"
   ]
  },
  {
   "cell_type": "markdown",
   "id": "accurate-vulnerability",
   "metadata": {},
   "source": [
    "* Tabla Comparativa de los Datos del Gobierno"
   ]
  },
  {
   "cell_type": "code",
   "execution_count": 7,
   "id": "based-courtesy",
   "metadata": {
    "colab": {
     "base_uri": "https://localhost:8080/",
     "height": 347
    },
    "id": "jYg7UbTKe-gm",
    "outputId": "71129fbc-eac4-45a9-89e5-be5109d08435",
    "tags": []
   },
   "outputs": [
    {
     "data": {
      "text/markdown": [
       "|    | Modelo        | Tiempo   | # Params   |   val_mae |   mae |\n",
       "|---:|:--------------|:---------|:-----------|----------:|------:|\n",
       "|  1 | model_dnn01   | 1m40.90s | 4,609      |     74.06 | 61.15 |\n",
       "|  2 | model_best03a | 14m0.58s | 485,633    |     75.94 | 55.8  |\n",
       "|  8 | model_conv01  | 14m3.57s | 294,401    |    127.78 |  5.79 |\n",
       "|  9 | model_conv03  | 6m33.58s | 419,841    |    129.51 |  6.13 |\n",
       "| 12 | model_best03b | 8m50.63s | 162,115    |    164.43 |  9.28 |"
      ],
      "text/plain": [
       "<IPython.core.display.Markdown object>"
      ]
     },
     "execution_count": 7,
     "metadata": {},
     "output_type": "execute_result"
    }
   ],
   "source": [
    "models = []\n",
    "object_names = []\n",
    "models_path = os.path.join(base_url, \"models\")\n",
    "\n",
    "for y in [x for x in os.listdir(models_path) if x.endswith(\"dill\")]:\n",
    "  model_path = os.path.join(models_path, y)\n",
    "  with io.open(model_path, 'rb') as file:\n",
    "      object_name = re.sub(r\"\\.\", \"_\", y)\n",
    "      object_name = re.sub(r\"_dill\", \"\", object_name)\n",
    "      globals()[object_name] = dill.load(file)\n",
    "      object_names.append(object_name)\n",
    "#display(Markdown(\"Objetos cargados: \\n\\n>\" + \n",
    "#         \", \".join(object_names)))\n",
    "\n",
    "model_times = [o for o in object_names if o.endswith(\"_time\")]\n",
    "perf_table = pd.DataFrame({\n",
    "  \"Modelo\": [re.sub(\"_time$\", \"\", model_time) for model_time in model_times],\n",
    "  \"Tiempo\": [globals()[model_time] for model_time in model_times]\n",
    "})\n",
    "model_path = os.path.join(models_path, \"model_n_params.dill\")\n",
    "model_n_params = dill.load(open(model_path, 'rb'))\n",
    "#pd.DataFrame(model_n_params, columns=[\"# Parametros\"])\n",
    "df_n_params = pd.DataFrame(data={\n",
    "    \"Modelo\": [x for x in model_n_params.keys()],\n",
    "    \"# Params\": [x for x in model_n_params.values()]\n",
    "})\n",
    "perf_table = perf_table.merge(df_n_params, on=\"Modelo\")\n",
    "#df_n_params = perf_table.pop(\"# Params\")\n",
    "#perf_table.insert(2, \"# Params\", df_n_params)\n",
    "model_histories = [o \n",
    "                   for o in object_names \n",
    "                   if o.endswith(\"_hist\")\n",
    "                  ]\n",
    "model_metrics = [k \n",
    "                 for k in globals()[model_histories[0]].keys()\n",
    "                 if re.search(\"^(val_|loss)\", k) is None\n",
    "                ]\n",
    "\n",
    "for metric in model_metrics:\n",
    "  perf_table[\"val_\" + metric] = [np.mean(globals()[o][\"val_\" + metric]) for o in model_histories]\n",
    "for metric in model_metrics:\n",
    "  perf_table[metric] = [np.mean(globals()[o][metric]) for o in model_histories]\n",
    "perf_table.rename({\n",
    "  \"mean_squared_logarithmic_error\": \"msle\",\n",
    "  \"val_mean_squared_logarithmic_error\": \"val_msle\"\n",
    "}, axis=1, inplace=True)\n",
    "perf_table.drop([\"loss\", \"val_loss\"], axis=1, inplace=True, errors='ignore')\n",
    "perf_table.sort_values(\"val_mse\", inplace=True)\n",
    "perf_table[\"Tiempo\"] = (perf_table[\"Tiempo\"] // 60).astype('int').astype(\"str\") + \"m\" + \\\n",
    "(perf_table[\"Tiempo\"] % 60).round(3).apply(lambda x: f\"{x:2.2f}\") + \"s\"\n",
    "perf_table.reset_index(inplace=True, drop=True)\n",
    "#perf_table.round(4)\n",
    "excluded_columns = [\"iaqAccuracy\", \"datetime\", \"datetime-1\", \"delta\", \n",
    "                    \"imputated\", \"year\"]\n",
    "train, test = train_test_split(airdata[[x \n",
    "                                        for x in airdata.columns \n",
    "                                        if x not in excluded_columns]], \n",
    "                               train_size=0.8, random_state=175904, shuffle=False)\n",
    "scaler_iaq = MinMaxScaler().fit(train[[\"IAQ\"]])\n",
    "perf_data_iaq = scaler_iaq.inverse_transform(perf_table.select_dtypes(\"float64\"))\n",
    "#scaler_gr = MinMaxScaler().fit(train[[\"gasResistance\"]])\n",
    "#perf_data_gr = scaler_gr.inverse_transform(perf_table.select_dtypes(\"float64\"))\n",
    "perf_data_iaq = pd.DataFrame(perf_data_iaq, \n",
    "                             columns=perf_table.select_dtypes(\"float64\").columns)\n",
    "#perf_data_gr  = pd.DataFrame(perf_data_gr, \n",
    "#                             columns=perf_table.select_dtypes(\"float64\").columns)\n",
    "perf_data_iaq.insert(0, \"Tiempo\", perf_table[\"Tiempo\"], )\n",
    "#perf_data_gr.insert(0,  \"Tiempo\", perf_table[\"Tiempo\"], )\n",
    "perf_data_iaq.insert(0, \"Modelo\", perf_table[\"Modelo\"], )\n",
    "perf_data_iaq[\"# Params\"] = perf_table[\"# Params\"]\n",
    "#perf_data_gr[\"# Params\"]  = perf_table[\"# Params\"]\n",
    "#perf_data_gr.insert(0,  \"Modelo\", perf_table[\"Modelo\"], )\n",
    "perf_data2 = perf_table.copy()\n",
    "perf_data2.sort_values(\"val_mse\", inplace=True)\n",
    "perf_data2.reset_index(inplace=True, drop=True)\n",
    "model_number_rows = [int(re.sub(\"[^0-9]\", \"\", x)) for x in perf_table[\"Modelo\"]]\n",
    "#is_gr_row = [(x % 2) == 0 for x in model_number_rows]\n",
    "is_iaq_row = [(x % 2) == 1 for x in model_number_rows]\n",
    "#perf_data.iloc[is_gr_row] = perf_data_gr\n",
    "perf_data2.iloc[is_iaq_row] = perf_data_iaq\n",
    "cols = [\"Modelo\", \"Tiempo\", \"# Params\", \"val_mae\", \"mae\"]\n",
    "perf_data2 = perf_data2.iloc[is_iaq_row]\n",
    "Markdown(perf_data2.round(2)[cols].head(5).to_markdown())"
   ]
  },
  {
   "cell_type": "code",
   "execution_count": 8,
   "id": "surprised-dream",
   "metadata": {
    "colab": {
     "base_uri": "https://localhost:8080/",
     "height": 606
    },
    "id": "1LLtMfSiekaE",
    "outputId": "7afae5f1-1d6d-4a7c-bb09-382161e4a771",
    "tags": []
   },
   "outputs": [
    {
     "data": {
      "image/png": "[encoded data removed]",
      "text/plain": [
       "<Figure size 250x120 with 1 Axes>"
      ]
     },
     "metadata": {},
     "output_type": "display_data"
    }
   ],
   "source": [
    "Modelos_list = perf_data[\"Modelo\"].tolist()\n",
    "Modelos = pd.Categorical(perf_data[\"Modelo\"], \n",
    "                         categories=Modelos_list)\n",
    "perf_data[\"Modelo2\"] = Modelos\n",
    "_ = (\n",
    "  ggplot(perf_data.head(5), aes(x=\"Modelo2\", y=\"val_mae\", fill=\"Modelo2\")) +\n",
    "  geom_bar(stat=\"identity\") +\n",
    "  #geom_bar(aes(y=\"mae\"), stat=\"identity\") +\n",
    "  labs(y=\"Error Medio\\nAbsoluto\", x=\"Modelos\", \n",
    "       title=\"Gráfica Comparativa entre los Modelos\\ncon Datos del Gobierno y el Sensor\"\n",
    "      ) +\n",
    "  theme(legend_position=\"none\", axis_text_x=element_text(rotation=45), \n",
    "        axis_text_y=element_text(size=8),\n",
    "        plot_title=element_text(size=11),\n",
    "       )\n",
    ").draw()"
   ]
  },
  {
   "cell_type": "code",
   "execution_count": 9,
   "id": "middle-handy",
   "metadata": {
    "colab": {
     "base_uri": "https://localhost:8080/",
     "height": 606
    },
    "id": "bLeaiEhyfJRo",
    "outputId": "4721a2e9-984d-49e3-bb7c-8c63153881d3",
    "tags": []
   },
   "outputs": [
    {
     "data": {
      "image/png": "[encoded data removed]",
      "text/plain": [
       "<Figure size 250x120 with 1 Axes>"
      ]
     },
     "metadata": {},
     "output_type": "display_data"
    }
   ],
   "source": [
    "Modelos_list = perf_data2[\"Modelo\"].tolist()\n",
    "Modelos = pd.Categorical(perf_data2[\"Modelo\"], \n",
    "                         categories=Modelos_list)\n",
    "perf_data2[\"Modelo2\"] = Modelos\n",
    "perf_data[\"src\"]  = \"Sensor-Gov\"\n",
    "perf_data2[\"src\"] = \"Sensor\"\n",
    "_ = (\n",
    "  ggplot(perf_data2.head(5), aes(x=\"Modelo2\", y=\"val_mae\", fill=\"Modelo2\")) +\n",
    "  geom_bar(stat=\"identity\") +\n",
    "  #geom_bar(aes(y=\"mae\"), stat=\"identity\") +\n",
    "  labs(y=\"Error Medio\\nAbsoluto\", x=\"Modelos\", \n",
    "       title=\"Gráfica Comparativa entre los Modelos\\ncon Datos del Sensor\"\n",
    "      ) +\n",
    "  theme(legend_position=\"none\", axis_text_x=element_text(rotation=45), \n",
    "        axis_text_y=element_text(size=8),\n",
    "        plot_title=element_text(size=11),) \n",
    ").draw()"
   ]
  },
  {
   "cell_type": "markdown",
   "id": "prime-shock",
   "metadata": {
    "id": "selective-edgar"
   },
   "source": [
    "# Conclusiones\n",
    "\n",
    "Buscaremos explicar nuestras conclusiones del análisis de:\n",
    "\n",
    "* Análisis  exploratorios sobre los datos.\n",
    "\n",
    "* Nuestras hipótesis y sus resultados.\n",
    "\n",
    "* Nuestras pruebas con modelos de redes neuronales profundas y el procesamiento de señales.\n",
    "\n",
    "* Los inconvenientes que encontramos y la influencia que ejercieron sobre el presente proyecto.\n",
    "\n",
    "    * Que no tuviéramos todos los datos disponibles en el sitio de la SINAICA nos complicó muchísimo no poder tener más datos.\n",
    "    \n",
    "    * El algoritmo propietario (cerrado) para calcular la variable IAQ a partir del sensor de la resistencia eléctrica en el aire hizo que perdiéramos tiempo en probar cuál de las variables era más viable predecir.\n",
    "    \n",
    "    * Aunque _a caballo regalado no se le ve el diente_: Los tiempos y capacidades de Google Colab no son los mejores, aún con Pro (que es bastante económico). Además de que su velocidad de desempeño es aleatoria durante diferentes momentos.\n",
    "    \n",
    "    * Las fuentes externas no siempre son confiables, gratuitas o completas. Nos hubiera gustado tener una fuente de datos de clima gratuita y que fuera confiable.\n",
    "\n",
    "* Aprendizajes obtenidos durante el presente.\n",
    "\n",
    "    * Nunca se debe subestimar la necesidad (y el tiempo que toma) de limpiar, explorar, imputar, \"corregir\" los datos.\n",
    "    \n",
    "    * Cualquier mejora en tiempos conlleva un reto, a veces grande; tal como vimos en los miniproyectos y se comentó en clase. \n",
    "    \n",
    "    * No podemos confiar en que el gobierno o un ente externo entregue los datos a tiempo. Entendimos que es importante tener desde la fundación de un proyecto al menos con el 70% de los datos disponibles, para empezar a trabajar con ellos.\n",
    "    \n",
    "    * Nunca subestimar las fuentes bibliográficas oficiales (en nuestro caso Keras y Tensorflow) como guías prácticas y bien escritas. Dado que muchas veces Stackoverlow no tiene las mejroes respuestas. [4], [5]\n",
    "    \n",
    "    * No tener miedo a aprender y a leer es vital para estar actualizado: pues muchas veces cambia mucho las APIs, nuevos \"approaches\".\n",
    "    \n",
    "    * Nos resultó muy útil tener un modelo baseline [5] que fue como una hipótesis nula, que nos permitió saber qué hacía un modelo vacío. Es bueno tener esta comparación y la rescatamos como valiosa.\n",
    "    \n",
    "    * Los detalles y el cuidado de estos son de suma importancia: \n",
    "    \n",
    "    i. Aprendimos que escalamos los datos, pero devolverlos a una escala real, es otra cosa.\n",
    "    \n",
    "    ii. Cuidar las semillas para hacer lo más reproducible es crítico.\n",
    "    \n",
    "    iii. En nuestro caso fue importante cuidar que ninguna manipulación (como el `train_test_split` no hiciera `shuffle` o barajeara el orden.\n",
    "    \n",
    "    iv. Es importante probar, probar y probar: alterando 1 solo detalle de la arquitectura, un hiperparámetro, una modificación de los datos, etc. Esto involucra hacer modelos constructivos, no hacerlos complejos desde un inicio.\n",
    "    \n",
    "* Siguientes pasos que nos surgieron:\n",
    "\n",
    "    i. Tomar datos por al menos 1 año, para establecer más claramente la estacionalidad, incorporar (comprar) fuentes de datos del clima y contaminantes, tener más puntos de redundancia (no depender únicamente de 1 sensor en 1 sólo lugar).\n",
    "    \n",
    "    ii. Explorar mejores opciones para imputar datos secuenciales o series de tiempo.\n",
    "    \n",
    "    iii. Realizar más pruebas sobre las predicciones y ver cómo van las mediciones.\n",
    "    \n",
    "    iv. Hacer las pruebas con mayor capacidad de cómputo: tener ventanas más grandes en `timeseries_dataset_from_array`. Que se nos ocurría extender o reescribir esta función de Keras promediando por ejemplo a 1 min, en vez de estar probando.\n",
    "    \n",
    "    v. Realizar más _Hyperparameter Tuning_ (Learning Rate, combinar optimizadores en los modelos), buscar datos preentrenados, o entrenar la red con datos como el del ejemplo (del Departamento de Biogeoquímica del Instituto Max-Planck) [4] [5].\n",
    "    \n",
    "    vi. Hacer un tablero o que las predicciones sean predecibles por algún API.\n",
    "    \n",
    "    vii. Realizar predicciones con algún intervalo de confianza o grado de certidumbre de la predicción.\n",
    "    \n",
    "    viii. Mejorar el desempeño, que claramente no es el mejor.\n",
    "    \n",
    "    ix. Venderlo o publicarlo en algún journal."
   ]
  },
  {
   "cell_type": "markdown",
   "id": "extended-kansas",
   "metadata": {
    "id": "patient-omaha"
   },
   "source": [
    "\n",
    "\n",
    "\n",
    "\n",
    "# Bibliografía\n",
    "\n",
    "* [1] [Bosch Sensortec Community | How do I convert BME 680 gas resistance to IAQ?](https://community.bosch-sensortec.com/t5/Question-and-answers/How-do-I-convert-BME680-gas-resistance-to-IAQ/qaq-p/9050/comment-id/94#M94).\n",
    "\n",
    "* [2] [Bosch SensorTec Comunity | Solution to IAQ accuracy definition](https://community.bosch-sensortec.com/t5/MEMS-sensors-forum/BME680-IAQ-accuracy-definition/m-p/5931/highlight/true#M10).\n",
    "\n",
    "* [3] [GitHub | Daniel Mancuso: Código fuente de OhmTech-io/uThingVOC Src/main.c](https://github.com/ohmtech-io/uThingVOC/blob/f345fdbef6a4fd0da77289b436e3c478706572a2/Src/main.c#L139)\n",
    "\n",
    "* [4] Keras contributors et al. [Keras / Code examples / Timeseries / Timeseries forecasting for weather prediction](https://keras.io/examples/timeseries/timeseries_weather_forecasting/). 2021.\n",
    "\n",
    "* [5] Tensorflow Contributors. [Tensorflow: Tutorial on Time series forecastingTime series forecasting](https://www.tensorflow.org/tutorials/structured_data/time_series). 2021.\n",
    "\n",
    "* [6] Saadi S. M., et al. Development of indoor environmental index: Air quality index and thermal comfort index. 2017. [doi:10.1063/1.4975276](https://doi.org/10.1063/1.4975276).\n",
    "\n",
    "* [Bosch BME680 Datasheet](https://www.bosch-sensortec.com/media/boschsensortec/downloads/datasheets/bst-bme680-ds001.pdf). 2021.\n",
    "\n",
    "* Mancuso, Daniel. [Indoor Air Quality Monitor | Hackster.io](https://www.hackster.io/damancuso/indoor-air-quality-monitor-b181e9). 2019.\n",
    "\n",
    "* [Dirección de Monitoreo Atmosféerico de la Secretaría del Medio Ambiente del Gobierno de la Ciudad de México](http://www.aire.cdmx.gob.mx/).\n",
    "\n",
    "* [Sistema Nacional de Información de la Calidad del Aire del Gobierno Federal México](https://sinaica.inecc.gob.mx/).\n",
    "\n",
    "\n",
    "\n",
    "* Pedregosa, Fabian; et al. [Scikit-learn: Machine Learning in Python](https://scikit-learn.org/stable/modules/generated/sklearn.model_selection.train_test_split.html). 2021.\n",
    "\n",
    "* Abadi, Martín, et al. [TensorFlow: Large-scale machine learning on heterogeneous systems](https://tensorflow.org). 2015. \n",
    "\n",
    "* McKinney, Wes. [Data structures for statistical computing in python](https://conference.scipy.org/proceedings/scipy2010/pdfs/mckinney.pdf). 2010.\n",
    "\n",
    "* Harris, Charles, et al. Array programming with NumPy. 2021. [doi:10.1038/s41586-020-2649-2](https://doi.org/10.1038/s41586-020-2649-2).\n",
    "\n",
    "* Hunter, John. Matplotlib: A 2D Graphics Environment. 2007. [doi:10.5281/zenodo.592536/zenodo.592536](https://doi.org/10.5281/zenodo.592536https://doi.org/10.5281/zenodo.592536).\n",
    "\n",
    "* Román-Rangel, Francisco. Notas y Código del Curso de Aprendizaje Profundo. 2021.\n",
    "\n",
    "* González-Pérez, Felipe. [Notas de aprendizaje de máquina](https://lucid-torvalds-517e78.netlify.app/). 2020.\n",
    " \n",
    "* Mohd, Faizy. [StackOverflow AI: How to use CNN for making predictions on non-image data?](https://ai.stackexchange.com/a/10449). 2021.\n",
    "\n",
    "* Ondris, Ladislav. [StackOverflow: How to apply CNN algorithm in python for non image dataset.](https://stackoverflow.com/a/64326002/7323086) 2020.\n",
    "\n",
    "* Shady, Slim. [Convolutional Neural Network With Tensorflow and Keras](https://medium.com/geekculture/introduction-to-convolutional-neural-network-with-tensorflow-and-keras-cb52cdc66eaf). 2021.\n",
    "\n",
    "* Keras contributors et al. [Keras API Reference: fit](https://keras.rstudio.com/reference/fit.html). 2021.\n",
    "\n",
    "* Keras contributors et al. [Keras API Reference: Convolution Layers > Convolution1D](https://keras.io/api/layers/convolution_layers/convolution1d/). 2021.\n",
    "\n",
    "* Pedregosa, Fabian; et al. [Scikit-learn: Machine Learning in Python](https://scikit-learn.org/stable/modules/generated/sklearn.model_selection.train_test_split.html). 2021.\n",
    "\n",
    "* Abadi, Martín, et al. [TensorFlow: Large-scale machine learning on heterogeneous systems](https://tensorflow.org). 2015. \n",
    "\n",
    "* McKinney, Wes. [Data structures for statistical computing in python](https://conference.scipy.org/proceedings/scipy2010/pdfs/mckinney.pdf). 2010.\n",
    "\n",
    "* Harris, Charles, et al. Array programming with NumPy. 2021. [doi:10.1038/s41586-020-2649-2](https://doi.org/10.1038/s41586-020-2649-2)\n",
    "\n",
    "* Hunter, John. Matplotlib: A 2D Graphics Environment. 2007. [doi:10.5281/zenodo.592536/zenodo.592536](https://doi.org/10.5281/zenodo.592536https://doi.org/10.5281/zenodo.592536)"
   ]
  }
 ],
 "metadata": {
  "colab": {
   "collapsed_sections": [],
   "name": "proyectofinal.ipynb",
   "provenance": [],
   "toc_visible": true
  },
  "kernelspec": {
   "display_name": "Python 3",
   "language": "python",
   "name": "python3"
  },
  "language_info": {
   "codemirror_mode": {
    "name": "ipython",
    "version": 3
   },
   "file_extension": ".py",
   "mimetype": "text/x-python",
   "name": "python",
   "nbconvert_exporter": "python",
   "pygments_lexer": "ipython3",
   "version": "3.7.9"
  },
  "title": "Proyecto Final",
  "toc": {
   "base_numbering": 1,
   "nav_menu": {},
   "number_sections": true,
   "sideBar": true,
   "skip_h1_title": false,
   "title_cell": "Table of Contents",
   "title_sidebar": "Contents",
   "toc_cell": false,
   "toc_position": {},
   "toc_section_display": true,
   "toc_window_display": false
  },
  "toc-autonumbering": true,
  "varInspector": {
   "cols": {
    "lenName": 16,
    "lenType": 16,
    "lenVar": 40
   },
   "kernels_config": {
    "python": {
     "delete_cmd_postfix": "",
     "delete_cmd_prefix": "del ",
     "library": "var_list.py",
     "varRefreshCmd": "print(var_dic_list())"
    },
    "r": {
     "delete_cmd_postfix": ") ",
     "delete_cmd_prefix": "rm(",
     "library": "var_list.r",
     "varRefreshCmd": "cat(var_dic_list()) "
    }
   },
   "types_to_exclude": [
    "module",
    "function",
    "builtin_function_or_method",
    "instance",
    "_Feature"
   ],
   "window_display": false
  }
 },
 "nbformat": 4,
 "nbformat_minor": 5
}
