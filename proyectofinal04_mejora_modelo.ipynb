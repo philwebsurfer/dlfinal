{
 "cells": [
  {
   "cell_type": "markdown",
   "id": "julian-blues",
   "metadata": {
    "id": "proved-electricity"
   },
   "source": [
    "# Proyecto Final: Combinación de Tipos de Neuronas.\n",
    "\n",
    "_Jorge III Altamirano Astorga, Luz Aurora Hernández Martínez, Ita-Andehui Santiago Castillejos._\n",
    "\n",
    "Se combinarán en este notebook los tipos de neuronas que utilizamos en los modelos basados en:\n",
    "\n",
    "* [Datos del Sensor](proyectofinal02_secuencial.html).\n",
    "\n",
    "* [Datos del Sensor + Datos Estaciones de Monitoreo](proyectofinal03_sensor-sinaica.html).\n",
    "\n",
    "Todos manejados como una serie de tiempo secuencial."
   ]
  },
  {
   "cell_type": "code",
   "execution_count": 1,
   "id": "underlying-samoa",
   "metadata": {
    "colab": {
     "base_uri": "https://localhost:8080/",
     "height": 293
    },
    "id": "meaning-calcium",
    "outputId": "a70ce8f5-1b57-4a32-87ba-2da88ce94f60"
   },
   "outputs": [
    {
     "data": {
      "text/html": [
       "<div>\n",
       "<style scoped>\n",
       "    .dataframe tbody tr th:only-of-type {\n",
       "        vertical-align: middle;\n",
       "    }\n",
       "\n",
       "    .dataframe tbody tr th {\n",
       "        vertical-align: top;\n",
       "    }\n",
       "\n",
       "    .dataframe thead th {\n",
       "        text-align: right;\n",
       "    }\n",
       "</style>\n",
       "<table border=\"1\" class=\"dataframe\">\n",
       "  <thead>\n",
       "    <tr style=\"text-align: right;\">\n",
       "      <th></th>\n",
       "      <th>CO</th>\n",
       "      <th>NO</th>\n",
       "      <th>NO2</th>\n",
       "      <th>NOx</th>\n",
       "      <th>O3</th>\n",
       "      <th>PM10</th>\n",
       "      <th>PM2.5</th>\n",
       "      <th>SO2</th>\n",
       "      <th>month</th>\n",
       "      <th>day</th>\n",
       "      <th>hour</th>\n",
       "      <th>datetime</th>\n",
       "      <th>minute</th>\n",
       "      <th>temperature</th>\n",
       "      <th>pressure</th>\n",
       "      <th>humidity</th>\n",
       "      <th>gasResistance</th>\n",
       "      <th>IAQ</th>\n",
       "    </tr>\n",
       "  </thead>\n",
       "  <tbody>\n",
       "    <tr>\n",
       "      <th>987</th>\n",
       "      <td>2.2</td>\n",
       "      <td>0.205</td>\n",
       "      <td>0.031</td>\n",
       "      <td>0.207</td>\n",
       "      <td>0.002</td>\n",
       "      <td>45.0</td>\n",
       "      <td>22.0</td>\n",
       "      <td>0.004</td>\n",
       "      <td>2</td>\n",
       "      <td>12</td>\n",
       "      <td>6</td>\n",
       "      <td>2021-02-12 06:05:35.846304417</td>\n",
       "      <td>35.0</td>\n",
       "      <td>21.51</td>\n",
       "      <td>777.41</td>\n",
       "      <td>44.04</td>\n",
       "      <td>152149.0</td>\n",
       "      <td>34.7</td>\n",
       "    </tr>\n",
       "    <tr>\n",
       "      <th>988</th>\n",
       "      <td>2.2</td>\n",
       "      <td>0.205</td>\n",
       "      <td>0.031</td>\n",
       "      <td>0.207</td>\n",
       "      <td>0.002</td>\n",
       "      <td>45.0</td>\n",
       "      <td>22.0</td>\n",
       "      <td>0.004</td>\n",
       "      <td>2</td>\n",
       "      <td>12</td>\n",
       "      <td>6</td>\n",
       "      <td>2021-02-12 06:05:38.837326527</td>\n",
       "      <td>34.0</td>\n",
       "      <td>21.51</td>\n",
       "      <td>777.41</td>\n",
       "      <td>43.98</td>\n",
       "      <td>152841.0</td>\n",
       "      <td>33.6</td>\n",
       "    </tr>\n",
       "    <tr>\n",
       "      <th>989</th>\n",
       "      <td>2.2</td>\n",
       "      <td>0.205</td>\n",
       "      <td>0.031</td>\n",
       "      <td>0.207</td>\n",
       "      <td>0.002</td>\n",
       "      <td>45.0</td>\n",
       "      <td>22.0</td>\n",
       "      <td>0.004</td>\n",
       "      <td>2</td>\n",
       "      <td>12</td>\n",
       "      <td>6</td>\n",
       "      <td>2021-02-12 06:05:47.812360048</td>\n",
       "      <td>32.0</td>\n",
       "      <td>21.54</td>\n",
       "      <td>777.41</td>\n",
       "      <td>43.73</td>\n",
       "      <td>153259.0</td>\n",
       "      <td>31.5</td>\n",
       "    </tr>\n",
       "    <tr>\n",
       "      <th>990</th>\n",
       "      <td>2.2</td>\n",
       "      <td>0.205</td>\n",
       "      <td>0.031</td>\n",
       "      <td>0.207</td>\n",
       "      <td>0.002</td>\n",
       "      <td>45.0</td>\n",
       "      <td>22.0</td>\n",
       "      <td>0.004</td>\n",
       "      <td>2</td>\n",
       "      <td>12</td>\n",
       "      <td>6</td>\n",
       "      <td>2021-02-12 06:05:50.803695202</td>\n",
       "      <td>32.0</td>\n",
       "      <td>21.53</td>\n",
       "      <td>777.41</td>\n",
       "      <td>43.70</td>\n",
       "      <td>152841.0</td>\n",
       "      <td>31.5</td>\n",
       "    </tr>\n",
       "    <tr>\n",
       "      <th>991</th>\n",
       "      <td>2.2</td>\n",
       "      <td>0.205</td>\n",
       "      <td>0.031</td>\n",
       "      <td>0.207</td>\n",
       "      <td>0.002</td>\n",
       "      <td>45.0</td>\n",
       "      <td>22.0</td>\n",
       "      <td>0.004</td>\n",
       "      <td>2</td>\n",
       "      <td>12</td>\n",
       "      <td>6</td>\n",
       "      <td>2021-02-12 06:05:53.795462847</td>\n",
       "      <td>30.0</td>\n",
       "      <td>21.52</td>\n",
       "      <td>777.41</td>\n",
       "      <td>43.70</td>\n",
       "      <td>153399.0</td>\n",
       "      <td>30.2</td>\n",
       "    </tr>\n",
       "  </tbody>\n",
       "</table>\n",
       "</div>"
      ],
      "text/plain": [
       "      CO     NO    NO2    NOx  ...  pressure  humidity  gasResistance   IAQ\n",
       "987  2.2  0.205  0.031  0.207  ...    777.41     44.04       152149.0  34.7\n",
       "988  2.2  0.205  0.031  0.207  ...    777.41     43.98       152841.0  33.6\n",
       "989  2.2  0.205  0.031  0.207  ...    777.41     43.73       153259.0  31.5\n",
       "990  2.2  0.205  0.031  0.207  ...    777.41     43.70       152841.0  31.5\n",
       "991  2.2  0.205  0.031  0.207  ...    777.41     43.70       153399.0  30.2\n",
       "\n",
       "[5 rows x 18 columns]"
      ]
     },
     "execution_count": 1,
     "metadata": {
      "tags": []
     },
     "output_type": "execute_result"
    }
   ],
   "source": [
    "import re, os, sys, shelve, time, dill\n",
    "from pickle import PicklingError\n",
    "from dill import Pickler, Unpickler\n",
    "shelve.Pickler = Pickler\n",
    "shelve.Unpickler = Unpickler\n",
    "from IPython.display import display, Markdown, Math, clear_output, Image\n",
    "import pandas as pd\n",
    "import numpy as np\n",
    "import matplotlib.pyplot as plt\n",
    "from plotnine import *\n",
    "from tqdm.keras import TqdmCallback\n",
    "from tqdm.notebook import tqdm\n",
    "import tensorflow as tf\n",
    "from tensorflow.keras.models import Sequential\n",
    "from tensorflow.keras.layers import Embedding, LSTM, Dense, Dropout, \\\n",
    "  SimpleRNN, Input, Conv1D\n",
    "from tensorflow.keras.regularizers import l1, l2\n",
    "from tensorflow.keras.utils import plot_model\n",
    "from sklearn.model_selection import train_test_split\n",
    "from sklearn.preprocessing import MinMaxScaler\n",
    "tf.get_logger().setLevel('ERROR')\n",
    "\n",
    "try:\n",
    "  from google.colab import drive\n",
    "  drive.mount('/content/drive', force_remount=False)\n",
    "  from google.colab import files\n",
    "except:\n",
    "  ;\n",
    "\n",
    "base_url = \"\"\n",
    "# File Loaders\n",
    "try:\n",
    "    base_url = \"drive/MyDrive/Colab Notebooks/proyecto-final\"\n",
    "    uploaded = os.path.join(base_url, \"data/sinaica-imputated.pickle.gz\")\n",
    "    if(not os.path.isfile(uploaded)):\n",
    "        from google.colab import files\n",
    "        uploaded = files.upload()\n",
    "except:\n",
    "    uploaded = \"sinaica-imputated.pickle.gz\"\n",
    "\n",
    "def render_mpl_table(data, col_width=3.0, row_height=0.625, font_size=14,\n",
    "                     header_color='#40466e', row_colors=['#f1f1f2', 'w'], edge_color='w',\n",
    "                     bbox=[0, 0, 1, 1], header_columns=0,\n",
    "                     ax=None, **kwargs):\n",
    "    \"\"\"\n",
    "    Taken from https://stackoverflow.com/a/39358722/7323086\n",
    "    \"\"\"\n",
    "    if ax is None:\n",
    "        size = (np.array(data.shape[::-1]) + np.array([0, 1])) * np.array([col_width, row_height])\n",
    "        fig, ax = plt.subplots(figsize=size)\n",
    "        ax.axis('off')\n",
    "\n",
    "    mpl_table = ax.table(cellText=data.values, bbox=bbox, colLabels=data.columns, **kwargs)\n",
    "\n",
    "    mpl_table.auto_set_font_size(False)\n",
    "    mpl_table.set_fontsize(font_size)\n",
    "\n",
    "    for k, cell in  six.iteritems(mpl_table._cells):\n",
    "        cell.set_edgecolor(edge_color)\n",
    "        if k[0] == 0 or k[1] < header_columns:\n",
    "            cell.set_text_props(weight='bold', color='w', size=font_size*1.05)\n",
    "            cell.set_facecolor(header_color)\n",
    "        else:\n",
    "            cell.set_facecolor(row_colors[k[0]%len(row_colors) ])\n",
    "    plt.show()\n",
    "\n",
    "#df.dropna(inplace=True)\n",
    "clear_output()\n",
    "\n",
    "def performance_plot(history, a=None, b=None, \n",
    "                    metrics=[\"accuracy\", \"val_accuracy\"],\n",
    "                    plot_validation=True,\n",
    "                    title=\"Gráficas de Desempeño.\"):\n",
    "  \"\"\"\n",
    "  Prints performance plot from a, to b on a history dict.\n",
    "  \n",
    "  Inputs:\n",
    "  history: dict containing \"loss\" and \"accuracy\" keys\n",
    "  a: epoch start\n",
    "  b. last epoch\n",
    "  metrics: plot these metrics (train and validation). Always 2.\n",
    "  plot_validation: boolean indicating if validation data should be plotted.\n",
    "  a: from this epoch\n",
    "  b: to this epoch    \n",
    "  \"\"\"\n",
    "  if a is None:\n",
    "      a = 0\n",
    "  if b is None:\n",
    "      b = len(history['loss'])\n",
    "  a = np.min((a,b))\n",
    "  b = np.max((a,b))\n",
    "\n",
    "  imgrows = (len(metrics) + 1) / 2\n",
    "  imgrows = np.round(imgrows, 0)\n",
    "  imgrows = int(imgrows)\n",
    "  #print(imgrows)\n",
    "\n",
    "  # Plot loss\n",
    "  plt.figure(figsize=(14, 5\n",
    "                      *imgrows))\n",
    "  plt.suptitle(title)\n",
    "  plt.subplot(imgrows, 2, 1)\n",
    "  plt.title('Loss')\n",
    "  plt.plot(history['loss'][a:b], label='Training', linewidth=2)\n",
    "  if plot_validation:\n",
    "    plt.plot(history['val_loss'][a:b], label='Validation', linewidth=2)\n",
    "  plt.legend()\n",
    "  plt.xlabel('Epoch')\n",
    "  plt.ylabel(f'Loss')\n",
    "  quantiles = np.quantile(range(a, b), \n",
    "                          [.2, .4, .6, .8]).round(0).astype(int)\n",
    "  quantiles = np.insert(quantiles, 0, [a])\n",
    "  quantiles += 1\n",
    "  quantiles = np.append(quantiles, [b-1])\n",
    "  plt.xticks(ticks=quantiles-a,\n",
    "              labels=quantiles)\n",
    "  plt.grid(True)\n",
    "\n",
    "  # Plot accuracy\n",
    "  for i, metric in enumerate(metrics): \n",
    "    #print(f\"metric: {metric}, i: {i}\")\n",
    "    #print(f\"mean metric: {np.mean(history[metric])}\")\n",
    "    plt.subplot(imgrows, 2, i+2)\n",
    "    plt.title(metric)\n",
    "    plt.plot(history[metric][a:b], label='Training', \n",
    "              linewidth=2)\n",
    "    if plot_validation:\n",
    "      plt.plot(history[\"val_\" + metric][a:b], \n",
    "                label='Validation', linewidth=2)\n",
    "    plt.legend()\n",
    "    plt.xlabel('Epoch')\n",
    "    plt.ylabel(metric)\n",
    "    #plt.xlim(a, b)\n",
    "    #print(range(0, b-a))\n",
    "    plt.xticks(ticks=quantiles-a, \n",
    "                labels=quantiles)\n",
    "    plt.grid(True)\n",
    "\n",
    "  plt.show()\n",
    "\n",
    "#render_mpl_table(df.head().applymap(shorten), col_width=5)\n",
    "\n",
    "sinaica = pd.read_pickle(uploaded)\n",
    "airdata = pd.read_pickle(os.path.join(base_url, \"airdata-imputated.pickle.gz\"))\n",
    "#sinaica.head()"
   ]
  },
  {
   "cell_type": "code",
   "execution_count": 2,
   "id": "western-tragedy",
   "metadata": {
    "colab": {
     "base_uri": "https://localhost:8080/",
     "height": 46
    },
    "id": "known-terminology",
    "outputId": "e45032e2-afee-49bb-d5f3-901bb564b23f"
   },
   "outputs": [
    {
     "data": {
      "text/markdown": [
       "Estso datos son una serie de tiempo de 48 días. Con 1,406,760 observaciones."
      ],
      "text/plain": [
       "<IPython.core.display.Markdown object>"
      ]
     },
     "execution_count": 2,
     "metadata": {
      "tags": []
     },
     "output_type": "execute_result"
    }
   ],
   "source": [
    "Markdown(f\"Estso datos son una serie de tiempo de \\\n",
    "{(sinaica['datetime'].tail(1).iloc[0] - sinaica['datetime'].head(1).iloc[0]).days}\\\n",
    " días. Con {sinaica.shape[0]:3,} observaciones.\")"
   ]
  },
  {
   "cell_type": "code",
   "execution_count": 3,
   "id": "impaired-finance",
   "metadata": {
    "colab": {
     "base_uri": "https://localhost:8080/",
     "height": 46
    },
    "id": "effective-reply",
    "outputId": "6f42bf15-0512-4cfe-c238-e8fed41b600c"
   },
   "outputs": [
    {
     "data": {
      "text/markdown": [
       "Dichas observaciones fueron 2021-02-12 06:05:35.846304417 al 2021-04-01 23:59:59.033584118."
      ],
      "text/plain": [
       "<IPython.core.display.Markdown object>"
      ]
     },
     "execution_count": 3,
     "metadata": {
      "tags": []
     },
     "output_type": "execute_result"
    }
   ],
   "source": [
    "Markdown(f\"Dichas observaciones fueron \\\n",
    "{sinaica['datetime'].head(1).iloc[0]} \\\n",
    "al {sinaica['datetime'].tail(1).iloc[0]}.\")"
   ]
  },
  {
   "cell_type": "markdown",
   "id": "favorite-walker",
   "metadata": {
    "id": "compatible-index"
   },
   "source": [
    "## Preparación de los Datos\n",
    "\n",
    "Excluimos las columnas del modelo dado que presentan:\n",
    "* Data leakage: \"IAQ\", \"gasResistance\", dado que son la misma variable, \n",
    "  transformada; así mismo iaqAccuracy es una variable de la calidad\n",
    "  de la respuesta.\n",
    "* Replicabilidad: no se va a repetir la fecha y vamos a buscar predicciones a futuro. Por ende excluimos datetime, year.\n",
    "* Utilidad: consideramos las siguientes columnas que no son útiles en esta fase: datetime-1, imputated.\n",
    "\n",
    "\n",
    "### Separación de Sets Entrenamiento, Pruebas\n",
    "\n",
    "Separamos los sets  de entrenamiento  y pruebas para evaluar los modelos que realizamos."
   ]
  },
  {
   "cell_type": "code",
   "execution_count": 4,
   "id": "educational-tournament",
   "metadata": {
    "colab": {
     "base_uri": "https://localhost:8080/",
     "height": 70
    },
    "id": "static-option",
    "outputId": "a89eb10f-24ea-48d7-c1cd-9e74d9095d54"
   },
   "outputs": [
    {
     "data": {
      "text/markdown": [
       "* Observaciones en el set de entrenamiento: 984,731 (70.00%)."
      ],
      "text/plain": [
       "<IPython.core.display.Markdown object>"
      ]
     },
     "metadata": {
      "tags": []
     },
     "output_type": "display_data"
    },
    {
     "data": {
      "text/markdown": [
       "* Observaciones en el set de pruebas: 422,029 (30.00%)."
      ],
      "text/plain": [
       "<IPython.core.display.Markdown object>"
      ]
     },
     "metadata": {
      "tags": []
     },
     "output_type": "display_data"
    }
   ],
   "source": [
    "excluded_columns = [\"iaqAccuracy\", \"datetime\", \"datetime-1\", \"delta\", \n",
    "                    \"imputated\", \"year\"]\n",
    "train, test = train_test_split(sinaica[[x \n",
    "                                        for x in sinaica.columns \n",
    "                                        if x not in excluded_columns]], \n",
    "                               train_size=0.7, random_state=175904, shuffle=False)\n",
    "display(Markdown(f\"* Observaciones en el set de entrenamiento: \\\n",
    "{train.shape[0]:3,} ({100*train.shape[0]/sinaica.shape[0]:.2f}%).\"))\n",
    "display(Markdown(f\"* Observaciones en el set de pruebas: \\\n",
    "{test.shape[0]:3,} ({100*test.shape[0]/sinaica.shape[0]:.2f}%).\"))"
   ]
  },
  {
   "cell_type": "markdown",
   "id": "cheap-interest",
   "metadata": {
    "id": "sudden-pendant"
   },
   "source": [
    "### Escalamos los Datos"
   ]
  },
  {
   "cell_type": "code",
   "execution_count": 5,
   "id": "honest-gregory",
   "metadata": {
    "colab": {
     "base_uri": "https://localhost:8080/",
     "height": 70
    },
    "id": "opposite-suspect",
    "outputId": "4f9dd6b8-a32d-476e-809b-c2e1b38ea5d7"
   },
   "outputs": [
    {
     "data": {
      "text/markdown": [
       "X_train.shape = (984731, 15), Y_train.shape = (984731, 2)."
      ],
      "text/plain": [
       "<IPython.core.display.Markdown object>"
      ]
     },
     "metadata": {
      "tags": []
     },
     "output_type": "display_data"
    },
    {
     "data": {
      "text/markdown": [
       "X_test.shape = (422029, 15), Y_test.shape = (422029, 2)."
      ],
      "text/plain": [
       "<IPython.core.display.Markdown object>"
      ]
     },
     "metadata": {
      "tags": []
     },
     "output_type": "display_data"
    }
   ],
   "source": [
    "scaler = MinMaxScaler()\n",
    "scaler_f = scaler.fit(train)\n",
    "train2 = scaler_f.transform(train)\n",
    "test2 = scaler_f.transform(test)\n",
    "X_cols = [i for i, x in enumerate(train.columns) \n",
    "          if x not in [\"IAQ\", \"gasResistance\"]]\n",
    "Y_cols = [i for i, x in enumerate(train.columns) \n",
    "          if x in [\"IAQ\", \"gasResistance\"]]\n",
    "X_train = train2[:, X_cols]\n",
    "Y_train = train2[:, Y_cols]\n",
    "X_test  = test2[:, X_cols]\n",
    "Y_test = test2[:, Y_cols]\n",
    "display(\n",
    "    Markdown(f\"X_train.shape = {X_train.shape}, Y_train.shape = {Y_train.shape}.\"\n",
    "    )\n",
    ")\n",
    "display(\n",
    "    Markdown(f\"X_test.shape = {X_test.shape}, Y_test.shape = {Y_test.shape}.\"\n",
    "    )\n",
    ")"
   ]
  },
  {
   "cell_type": "code",
   "execution_count": 6,
   "id": "disciplinary-monaco",
   "metadata": {
    "id": "modified-heating"
   },
   "outputs": [],
   "source": [
    "def train_model(model, train_data,  validation_data,\n",
    "                epochs=10, batch_size=512, \n",
    "                steps_per_epoch=100, loss='mse', optimizer='adam', \n",
    "                metrics=['mse'], verbose=0, base_dir=\"\"):\n",
    "  model.compile(loss=loss, optimizer=optimizer, metrics=metrics)\n",
    "  cbk = TqdmCallback()\n",
    "  tiempo = time.time()\n",
    "  history = model.fit(train_data, validation_data=validation_data,\n",
    "                      epochs=epochs, steps_per_epoch=steps_per_epoch, \n",
    "                      batch_size=batch_size, verbose=verbose, callbacks=[cbk])\n",
    "  clear_output()\n",
    "  tiempo = time.time() - tiempo\n",
    "  print(f\"Tiempo de procesamiento: {tiempo:.2f} segundos.\")\n",
    "\n",
    "  #### Guardar el modelo\n",
    "  base_dir = os.path.join(base_url, \"models-sinaica\", model.name)\n",
    "  model.save(f\"{base_dir}.h5\")\n",
    "  dill.dump(tiempo, open(f\"{base_dir}.time.dill\", 'wb'))\n",
    "  dill.dump(history.history, open(f\"{base_dir}.hist.dill\", 'wb'))\n",
    "  #### fin sección guardar modelo\n",
    "\n",
    "  return history\n",
    "\n",
    "# sampling_rate: 3 seconds per sample\n",
    "sampling_rate = 3\n",
    "# 1 hours * minutes * seconds / sampling_rate in seconds\n",
    "past = int(1 * 60 * 60 / sampling_rate) \n",
    "#display(f\"X_train shape = {X_train.shape}\")\n",
    "train3_iaq = tf.keras.preprocessing.timeseries_dataset_from_array(\n",
    "  X_train, \n",
    "  Y_train[:, 1],\n",
    "  sequence_length=past,\n",
    "  sampling_rate=sampling_rate,\n",
    "  batch_size=512,\n",
    "  seed=175904\n",
    ")\n",
    "test3_iaq = tf.keras.preprocessing.timeseries_dataset_from_array(\n",
    "  X_test, \n",
    "  Y_test[:,1],\n",
    "  sequence_length=past,\n",
    "  sequence_stride=60*60,\n",
    "  sampling_rate=60,\n",
    "  batch_size=512,\n",
    "  seed=175904\n",
    ")"
   ]
  },
  {
   "cell_type": "markdown",
   "id": "treated-basic",
   "metadata": {
    "id": "latter-baltimore"
   },
   "source": [
    "## Creación de un Modelo para los Datos del Sensor + Datos del Gobierno \"SINAICA\"\n",
    "\n",
    "Intentaremos predecir nuestra variable de interés IAQ con el siguiente modelo:"
   ]
  },
  {
   "cell_type": "code",
   "execution_count": 11,
   "id": "essential-wallet",
   "metadata": {
    "colab": {
     "base_uri": "https://localhost:8080/",
     "height": 570
    },
    "id": "caring-dancing",
    "outputId": "931215e8-867b-4343-8140-e92ef629be9b"
   },
   "outputs": [
    {
     "data": {
      "image/png": "[encoded data removed]",
      "text/plain": [
       "<IPython.core.display.Image object>"
      ]
     },
     "execution_count": 11,
     "metadata": {
      "tags": []
     },
     "output_type": "execute_result"
    }
   ],
   "source": [
    "model_best00_sinaica = Sequential(name=\"model_best00_sinaica\")\n",
    "model_best00_sinaica.add(Input(shape=(X_train.shape[0], X_train.shape[1], ), \n",
    "                       name=\"input00\"))\n",
    "model_best00_sinaica.add(Conv1D(512, X_train.shape[1], activation='relu', name=\"conv00\"))\n",
    "model_best00_sinaica.add(Dropout(0.5, name=\"dropout00\"))\n",
    "model_best00_sinaica.add(Dense(units=512, activation='relu', name=\"dnn\"))\n",
    "model_best00_sinaica.add(Dropout(0.5))\n",
    "model_best00_sinaica.add(Dense(units=256, activation='relu'))\n",
    "model_best00_sinaica.add(Dense(units=1, activation=None, name=\"output\"))\n",
    "plot_model(model_best00_sinaica, to_file=os.path.join(base_url, \"data/model.png\"), \n",
    "           dpi=72, rankdir=\"TB\", show_shapes=True, expand_nested=True)"
   ]
  },
  {
   "cell_type": "code",
   "execution_count": 12,
   "id": "supported-allowance",
   "metadata": {
    "colab": {
     "base_uri": "https://localhost:8080/",
     "height": 109,
     "referenced_widgets": [
      "51d123629a634311b03605460303395f",
      "11c2afa6b6d8493484014382f4511ad4",
      "15988c8af0a44967882b5eba2afbc9d0",
      "cdc019c2200241d3827ad284724c12cb",
      "dc1032ecfd794d7cb7ba46b173ff5804",
      "f04109d8e6774e04bc46be522abc5c42",
      "6378038ba4404b08a265353f02e584a2",
      "1144340f89aa4374b12a910d79c09489",
      "0d9e3beb30574946ae0ff75493503c8b",
      "84a3086547f542afb4eb414bca75b0bd",
      "c4026a54dd2047ea843a57d88a509b1b",
      "ebbeaf6360024f929f7dc4ce28b9d547",
      "816690c9bcc643418fba0300e029cc1a",
      "94b90220b33b44d38fcdce654071b7f7",
      "5313d80b5beb4f05a9a4ce0779a3755c",
      "30f79e957c6e4093bebf3fa49b5842d3"
     ]
    },
    "id": "dietary-implementation",
    "outputId": "a5129bd2-c495-4884-b686-fb5324e43e61"
   },
   "outputs": [
    {
     "name": "stdout",
     "output_type": "stream",
     "text": [
      "Tiempo de procesamiento: 416.74 segundos.\n"
     ]
    }
   ],
   "source": [
    "trained_best00_sinaica = train_model(model_best00_sinaica, train3_iaq,\n",
    "                            validation_data=test3_iaq,\n",
    "                            metrics=[\"mse\", \"mae\", \"mean_squared_logarithmic_error\"],\n",
    "                            epochs=100, steps_per_epoch=5, \n",
    "                            base_dir=base_url)"
   ]
  },
  {
   "cell_type": "code",
   "execution_count": 13,
   "id": "sharp-reserve",
   "metadata": {
    "colab": {
     "base_uri": "https://localhost:8080/",
     "height": 677
    },
    "id": "destroyed-ultimate",
    "outputId": "e56bb45b-7018-46da-99c5-6638b1f9dcf9"
   },
   "outputs": [
    {
     "data": {
      "image/png": "[encoded data removed]",
      "text/plain": [
       "<Figure size 1008x720 with 3 Axes>"
      ]
     },
     "metadata": {
      "needs_background": "light",
      "tags": []
     },
     "output_type": "display_data"
    }
   ],
   "source": [
    "performance_plot(trained_best00_sinaica.history, metrics=[\"mae\", \"mean_squared_logarithmic_error\"], \n",
    "                 plot_validation=False)"
   ]
  },
  {
   "cell_type": "code",
   "execution_count": 14,
   "id": "catholic-territory",
   "metadata": {
    "colab": {
     "base_uri": "https://localhost:8080/",
     "height": 677
    },
    "id": "further-compression",
    "outputId": "0e923cc3-d075-4bfa-8fe1-1a56a072b8ed"
   },
   "outputs": [
    {
     "data": {
      "image/png": "[encoded data removed]",
      "text/plain": [
       "<Figure size 1008x720 with 3 Axes>"
      ]
     },
     "metadata": {
      "needs_background": "light",
      "tags": []
     },
     "output_type": "display_data"
    }
   ],
   "source": [
    "performance_plot(trained_best00_sinaica.history, metrics=['mae', \"mean_squared_logarithmic_error\"])"
   ]
  },
  {
   "cell_type": "markdown",
   "id": "alone-remains",
   "metadata": {
    "id": "departmental-bronze"
   },
   "source": [
    "# Referencias\n",
    "\n",
    "* Keras contributors et al. [Keras / Code examples / Timeseries / Timeseries forecasting for weather prediction](https://keras.io/examples/timeseries/timeseries_weather_forecasting/). 2021.\n",
    "\n",
    "* Tensorflow Contributors. [Tensorflow: Tutorial on Time series forecastingTime series forecasting](https://www.tensorflow.org/tutorials/structured_data/time_serieshttps://www.tensorflow.org/tutorials/structured_data/time_series). 2021.\n",
    "\n",
    "* Román-Rangel, Francisco. Notas y Código del Curso de Aprendizaje Profundo. 2021.\n",
    "\n",
    "* González-Pérez, Felipe. [Notas de aprendizaje de máquina (2020)](https://lucid-torvalds-517e78.netlify.app/)\n",
    "\n",
    "* Keras contributors et al. [Keras API Reference: fit](https://keras.rstudio.com/reference/fit.html). 2021.\n",
    "\n",
    "* Keras contributors et al. [Keras API Reference: train_test_split](https://scikit-learn.org/stable/modules/generated/sklearn.model_selection.train_test_split.html). 2021.\n",
    "\n",
    "* Keras contributors et al. [Keras API Reference: timeseries_dataset_from_array](https://keras.io/api/preprocessing/timeseries/). 2021."
   ]
  }
 ],
 "metadata": {
  "accelerator": "GPU",
  "colab": {
   "collapsed_sections": [],
   "name": "proyectofinal02c_conv1d_secuencial.ipynb",
   "provenance": [],
   "toc_visible": true
  },
  "kernelspec": {
   "display_name": "Python 3",
   "language": "python",
   "name": "python3"
  },
  "language_info": {
   "codemirror_mode": {
    "name": "ipython",
    "version": 3
   },
   "file_extension": ".py",
   "mimetype": "text/x-python",
   "name": "python",
   "nbconvert_exporter": "python",
   "pygments_lexer": "ipython3",
   "version": "3.7.9"
  },
  "widgets": {
   "application/vnd.jupyter.widget-state+json": {
    "0d9e3beb30574946ae0ff75493503c8b": {
     "model_module": "@jupyter-widgets/controls",
     "model_name": "HBoxModel",
     "state": {
      "_dom_classes": [],
      "_model_module": "@jupyter-widgets/controls",
      "_model_module_version": "1.5.0",
      "_model_name": "HBoxModel",
      "_view_count": null,
      "_view_module": "@jupyter-widgets/controls",
      "_view_module_version": "1.5.0",
      "_view_name": "HBoxView",
      "box_style": "",
      "children": [
       "IPY_MODEL_c4026a54dd2047ea843a57d88a509b1b",
       "IPY_MODEL_ebbeaf6360024f929f7dc4ce28b9d547"
      ],
      "layout": "IPY_MODEL_84a3086547f542afb4eb414bca75b0bd"
     }
    },
    "102cf573241f4261bac475706e15f801": {
     "model_module": "@jupyter-widgets/controls",
     "model_name": "HTMLModel",
     "state": {
      "_dom_classes": [],
      "_model_module": "@jupyter-widgets/controls",
      "_model_module_version": "1.5.0",
      "_model_name": "HTMLModel",
      "_view_count": null,
      "_view_module": "@jupyter-widgets/controls",
      "_view_module_version": "1.5.0",
      "_view_name": "HTMLView",
      "description": "",
      "description_tooltip": null,
      "layout": "IPY_MODEL_e307011b1b30448a95bfcaf78b34f5ba",
      "placeholder": "​",
      "style": "IPY_MODEL_776c18fe891f4124ad6f862cac257f12",
      "value": " 100/100 [02:53&lt;00:00,  1.73s/epoch, loss=0.0174, mse=0.0174, mae=0.121, mean_squared_logarithmic_error=0.0116, val_loss=0.0462, val_mse=0.0462, val_mae=0.178, val_mean_squared_logarithmic_error=0.026]"
     }
    },
    "1144340f89aa4374b12a910d79c09489": {
     "model_module": "@jupyter-widgets/base",
     "model_name": "LayoutModel",
     "state": {
      "_model_module": "@jupyter-widgets/base",
      "_model_module_version": "1.2.0",
      "_model_name": "LayoutModel",
      "_view_count": null,
      "_view_module": "@jupyter-widgets/base",
      "_view_module_version": "1.2.0",
      "_view_name": "LayoutView",
      "align_content": null,
      "align_items": null,
      "align_self": null,
      "border": null,
      "bottom": null,
      "display": null,
      "flex": null,
      "flex_flow": null,
      "grid_area": null,
      "grid_auto_columns": null,
      "grid_auto_flow": null,
      "grid_auto_rows": null,
      "grid_column": null,
      "grid_gap": null,
      "grid_row": null,
      "grid_template_areas": null,
      "grid_template_columns": null,
      "grid_template_rows": null,
      "height": null,
      "justify_content": null,
      "justify_items": null,
      "left": null,
      "margin": null,
      "max_height": null,
      "max_width": null,
      "min_height": null,
      "min_width": null,
      "object_fit": null,
      "object_position": null,
      "order": null,
      "overflow": null,
      "overflow_x": null,
      "overflow_y": null,
      "padding": null,
      "right": null,
      "top": null,
      "visibility": null,
      "width": null
     }
    },
    "11c2afa6b6d8493484014382f4511ad4": {
     "model_module": "@jupyter-widgets/base",
     "model_name": "LayoutModel",
     "state": {
      "_model_module": "@jupyter-widgets/base",
      "_model_module_version": "1.2.0",
      "_model_name": "LayoutModel",
      "_view_count": null,
      "_view_module": "@jupyter-widgets/base",
      "_view_module_version": "1.2.0",
      "_view_name": "LayoutView",
      "align_content": null,
      "align_items": null,
      "align_self": null,
      "border": null,
      "bottom": null,
      "display": null,
      "flex": null,
      "flex_flow": null,
      "grid_area": null,
      "grid_auto_columns": null,
      "grid_auto_flow": null,
      "grid_auto_rows": null,
      "grid_column": null,
      "grid_gap": null,
      "grid_row": null,
      "grid_template_areas": null,
      "grid_template_columns": null,
      "grid_template_rows": null,
      "height": null,
      "justify_content": null,
      "justify_items": null,
      "left": null,
      "margin": null,
      "max_height": null,
      "max_width": null,
      "min_height": null,
      "min_width": null,
      "object_fit": null,
      "object_position": null,
      "order": null,
      "overflow": null,
      "overflow_x": null,
      "overflow_y": null,
      "padding": null,
      "right": null,
      "top": null,
      "visibility": null,
      "width": null
     }
    },
    "15988c8af0a44967882b5eba2afbc9d0": {
     "model_module": "@jupyter-widgets/controls",
     "model_name": "FloatProgressModel",
     "state": {
      "_dom_classes": [],
      "_model_module": "@jupyter-widgets/controls",
      "_model_module_version": "1.5.0",
      "_model_name": "FloatProgressModel",
      "_view_count": null,
      "_view_module": "@jupyter-widgets/controls",
      "_view_module_version": "1.5.0",
      "_view_name": "ProgressView",
      "bar_style": "success",
      "description": "100%",
      "description_tooltip": null,
      "layout": "IPY_MODEL_f04109d8e6774e04bc46be522abc5c42",
      "max": 100,
      "min": 0,
      "orientation": "horizontal",
      "style": "IPY_MODEL_dc1032ecfd794d7cb7ba46b173ff5804",
      "value": 100
     }
    },
    "2d68f4d26618438e87526713ae12458a": {
     "model_module": "@jupyter-widgets/controls",
     "model_name": "HBoxModel",
     "state": {
      "_dom_classes": [],
      "_model_module": "@jupyter-widgets/controls",
      "_model_module_version": "1.5.0",
      "_model_name": "HBoxModel",
      "_view_count": null,
      "_view_module": "@jupyter-widgets/controls",
      "_view_module_version": "1.5.0",
      "_view_name": "HBoxView",
      "box_style": "",
      "children": [
       "IPY_MODEL_ffae7f81e7934374947b4d8299a60525",
       "IPY_MODEL_102cf573241f4261bac475706e15f801"
      ],
      "layout": "IPY_MODEL_de2b8aed215e469780aea8f173009b1c"
     }
    },
    "30f79e957c6e4093bebf3fa49b5842d3": {
     "model_module": "@jupyter-widgets/base",
     "model_name": "LayoutModel",
     "state": {
      "_model_module": "@jupyter-widgets/base",
      "_model_module_version": "1.2.0",
      "_model_name": "LayoutModel",
      "_view_count": null,
      "_view_module": "@jupyter-widgets/base",
      "_view_module_version": "1.2.0",
      "_view_name": "LayoutView",
      "align_content": null,
      "align_items": null,
      "align_self": null,
      "border": null,
      "bottom": null,
      "display": null,
      "flex": null,
      "flex_flow": null,
      "grid_area": null,
      "grid_auto_columns": null,
      "grid_auto_flow": null,
      "grid_auto_rows": null,
      "grid_column": null,
      "grid_gap": null,
      "grid_row": null,
      "grid_template_areas": null,
      "grid_template_columns": null,
      "grid_template_rows": null,
      "height": null,
      "justify_content": null,
      "justify_items": null,
      "left": null,
      "margin": null,
      "max_height": null,
      "max_width": null,
      "min_height": null,
      "min_width": null,
      "object_fit": null,
      "object_position": null,
      "order": null,
      "overflow": null,
      "overflow_x": null,
      "overflow_y": null,
      "padding": null,
      "right": null,
      "top": null,
      "visibility": null,
      "width": null
     }
    },
    "3c3764dcc12b490384392452791dd787": {
     "model_module": "@jupyter-widgets/controls",
     "model_name": "DescriptionStyleModel",
     "state": {
      "_model_module": "@jupyter-widgets/controls",
      "_model_module_version": "1.5.0",
      "_model_name": "DescriptionStyleModel",
      "_view_count": null,
      "_view_module": "@jupyter-widgets/base",
      "_view_module_version": "1.2.0",
      "_view_name": "StyleView",
      "description_width": ""
     }
    },
    "51d123629a634311b03605460303395f": {
     "model_module": "@jupyter-widgets/controls",
     "model_name": "HBoxModel",
     "state": {
      "_dom_classes": [],
      "_model_module": "@jupyter-widgets/controls",
      "_model_module_version": "1.5.0",
      "_model_name": "HBoxModel",
      "_view_count": null,
      "_view_module": "@jupyter-widgets/controls",
      "_view_module_version": "1.5.0",
      "_view_name": "HBoxView",
      "box_style": "",
      "children": [
       "IPY_MODEL_15988c8af0a44967882b5eba2afbc9d0",
       "IPY_MODEL_cdc019c2200241d3827ad284724c12cb"
      ],
      "layout": "IPY_MODEL_11c2afa6b6d8493484014382f4511ad4"
     }
    },
    "5313d80b5beb4f05a9a4ce0779a3755c": {
     "model_module": "@jupyter-widgets/controls",
     "model_name": "DescriptionStyleModel",
     "state": {
      "_model_module": "@jupyter-widgets/controls",
      "_model_module_version": "1.5.0",
      "_model_name": "DescriptionStyleModel",
      "_view_count": null,
      "_view_module": "@jupyter-widgets/base",
      "_view_module_version": "1.2.0",
      "_view_name": "StyleView",
      "description_width": ""
     }
    },
    "5bd8c98011e94c2483bc9e8a6766f935": {
     "model_module": "@jupyter-widgets/base",
     "model_name": "LayoutModel",
     "state": {
      "_model_module": "@jupyter-widgets/base",
      "_model_module_version": "1.2.0",
      "_model_name": "LayoutModel",
      "_view_count": null,
      "_view_module": "@jupyter-widgets/base",
      "_view_module_version": "1.2.0",
      "_view_name": "LayoutView",
      "align_content": null,
      "align_items": null,
      "align_self": null,
      "border": null,
      "bottom": null,
      "display": null,
      "flex": null,
      "flex_flow": null,
      "grid_area": null,
      "grid_auto_columns": null,
      "grid_auto_flow": null,
      "grid_auto_rows": null,
      "grid_column": null,
      "grid_gap": null,
      "grid_row": null,
      "grid_template_areas": null,
      "grid_template_columns": null,
      "grid_template_rows": null,
      "height": null,
      "justify_content": null,
      "justify_items": null,
      "left": null,
      "margin": null,
      "max_height": null,
      "max_width": null,
      "min_height": null,
      "min_width": null,
      "object_fit": null,
      "object_position": null,
      "order": null,
      "overflow": null,
      "overflow_x": null,
      "overflow_y": null,
      "padding": null,
      "right": null,
      "top": null,
      "visibility": null,
      "width": null
     }
    },
    "6378038ba4404b08a265353f02e584a2": {
     "model_module": "@jupyter-widgets/controls",
     "model_name": "DescriptionStyleModel",
     "state": {
      "_model_module": "@jupyter-widgets/controls",
      "_model_module_version": "1.5.0",
      "_model_name": "DescriptionStyleModel",
      "_view_count": null,
      "_view_module": "@jupyter-widgets/base",
      "_view_module_version": "1.2.0",
      "_view_name": "StyleView",
      "description_width": ""
     }
    },
    "776c18fe891f4124ad6f862cac257f12": {
     "model_module": "@jupyter-widgets/controls",
     "model_name": "DescriptionStyleModel",
     "state": {
      "_model_module": "@jupyter-widgets/controls",
      "_model_module_version": "1.5.0",
      "_model_name": "DescriptionStyleModel",
      "_view_count": null,
      "_view_module": "@jupyter-widgets/base",
      "_view_module_version": "1.2.0",
      "_view_name": "StyleView",
      "description_width": ""
     }
    },
    "79b70473759d4fbcacd650b84b54ccce": {
     "model_module": "@jupyter-widgets/controls",
     "model_name": "HTMLModel",
     "state": {
      "_dom_classes": [],
      "_model_module": "@jupyter-widgets/controls",
      "_model_module_version": "1.5.0",
      "_model_name": "HTMLModel",
      "_view_count": null,
      "_view_module": "@jupyter-widgets/controls",
      "_view_module_version": "1.5.0",
      "_view_name": "HTMLView",
      "description": "",
      "description_tooltip": null,
      "layout": "IPY_MODEL_7b1c903aed954adfaca9c4dc4e7520a2",
      "placeholder": "​",
      "style": "IPY_MODEL_3c3764dcc12b490384392452791dd787",
      "value": " 5.00/5.00 [00:01&lt;00:00, 3.72batch/s, loss=0.0174, mse=0.0174, mae=0.121, mean_squared_logarithmic_error=0.0116]"
     }
    },
    "7b1c903aed954adfaca9c4dc4e7520a2": {
     "model_module": "@jupyter-widgets/base",
     "model_name": "LayoutModel",
     "state": {
      "_model_module": "@jupyter-widgets/base",
      "_model_module_version": "1.2.0",
      "_model_name": "LayoutModel",
      "_view_count": null,
      "_view_module": "@jupyter-widgets/base",
      "_view_module_version": "1.2.0",
      "_view_name": "LayoutView",
      "align_content": null,
      "align_items": null,
      "align_self": null,
      "border": null,
      "bottom": null,
      "display": null,
      "flex": null,
      "flex_flow": null,
      "grid_area": null,
      "grid_auto_columns": null,
      "grid_auto_flow": null,
      "grid_auto_rows": null,
      "grid_column": null,
      "grid_gap": null,
      "grid_row": null,
      "grid_template_areas": null,
      "grid_template_columns": null,
      "grid_template_rows": null,
      "height": null,
      "justify_content": null,
      "justify_items": null,
      "left": null,
      "margin": null,
      "max_height": null,
      "max_width": null,
      "min_height": null,
      "min_width": null,
      "object_fit": null,
      "object_position": null,
      "order": null,
      "overflow": null,
      "overflow_x": null,
      "overflow_y": null,
      "padding": null,
      "right": null,
      "top": null,
      "visibility": null,
      "width": null
     }
    },
    "816690c9bcc643418fba0300e029cc1a": {
     "model_module": "@jupyter-widgets/controls",
     "model_name": "ProgressStyleModel",
     "state": {
      "_model_module": "@jupyter-widgets/controls",
      "_model_module_version": "1.5.0",
      "_model_name": "ProgressStyleModel",
      "_view_count": null,
      "_view_module": "@jupyter-widgets/base",
      "_view_module_version": "1.2.0",
      "_view_name": "StyleView",
      "bar_color": null,
      "description_width": "initial"
     }
    },
    "84a3086547f542afb4eb414bca75b0bd": {
     "model_module": "@jupyter-widgets/base",
     "model_name": "LayoutModel",
     "state": {
      "_model_module": "@jupyter-widgets/base",
      "_model_module_version": "1.2.0",
      "_model_name": "LayoutModel",
      "_view_count": null,
      "_view_module": "@jupyter-widgets/base",
      "_view_module_version": "1.2.0",
      "_view_name": "LayoutView",
      "align_content": null,
      "align_items": null,
      "align_self": null,
      "border": null,
      "bottom": null,
      "display": null,
      "flex": null,
      "flex_flow": null,
      "grid_area": null,
      "grid_auto_columns": null,
      "grid_auto_flow": null,
      "grid_auto_rows": null,
      "grid_column": null,
      "grid_gap": null,
      "grid_row": null,
      "grid_template_areas": null,
      "grid_template_columns": null,
      "grid_template_rows": null,
      "height": null,
      "justify_content": null,
      "justify_items": null,
      "left": null,
      "margin": null,
      "max_height": null,
      "max_width": null,
      "min_height": null,
      "min_width": null,
      "object_fit": null,
      "object_position": null,
      "order": null,
      "overflow": null,
      "overflow_x": null,
      "overflow_y": null,
      "padding": null,
      "right": null,
      "top": null,
      "visibility": null,
      "width": null
     }
    },
    "8b232bac98b74e9e92e9c4821b5487d2": {
     "model_module": "@jupyter-widgets/base",
     "model_name": "LayoutModel",
     "state": {
      "_model_module": "@jupyter-widgets/base",
      "_model_module_version": "1.2.0",
      "_model_name": "LayoutModel",
      "_view_count": null,
      "_view_module": "@jupyter-widgets/base",
      "_view_module_version": "1.2.0",
      "_view_name": "LayoutView",
      "align_content": null,
      "align_items": null,
      "align_self": null,
      "border": null,
      "bottom": null,
      "display": null,
      "flex": null,
      "flex_flow": null,
      "grid_area": null,
      "grid_auto_columns": null,
      "grid_auto_flow": null,
      "grid_auto_rows": null,
      "grid_column": null,
      "grid_gap": null,
      "grid_row": null,
      "grid_template_areas": null,
      "grid_template_columns": null,
      "grid_template_rows": null,
      "height": null,
      "justify_content": null,
      "justify_items": null,
      "left": null,
      "margin": null,
      "max_height": null,
      "max_width": null,
      "min_height": null,
      "min_width": null,
      "object_fit": null,
      "object_position": null,
      "order": null,
      "overflow": null,
      "overflow_x": null,
      "overflow_y": null,
      "padding": null,
      "right": null,
      "top": null,
      "visibility": null,
      "width": null
     }
    },
    "907e1a790e25497a87939a3204e581b3": {
     "model_module": "@jupyter-widgets/controls",
     "model_name": "HBoxModel",
     "state": {
      "_dom_classes": [],
      "_model_module": "@jupyter-widgets/controls",
      "_model_module_version": "1.5.0",
      "_model_name": "HBoxModel",
      "_view_count": null,
      "_view_module": "@jupyter-widgets/controls",
      "_view_module_version": "1.5.0",
      "_view_name": "HBoxView",
      "box_style": "",
      "children": [
       "IPY_MODEL_c32e25c8488041b7b22bd54f9fa38e9f",
       "IPY_MODEL_79b70473759d4fbcacd650b84b54ccce"
      ],
      "layout": "IPY_MODEL_9c7c557e869d4a2f81ed769d5fac388d"
     }
    },
    "94b90220b33b44d38fcdce654071b7f7": {
     "model_module": "@jupyter-widgets/base",
     "model_name": "LayoutModel",
     "state": {
      "_model_module": "@jupyter-widgets/base",
      "_model_module_version": "1.2.0",
      "_model_name": "LayoutModel",
      "_view_count": null,
      "_view_module": "@jupyter-widgets/base",
      "_view_module_version": "1.2.0",
      "_view_name": "LayoutView",
      "align_content": null,
      "align_items": null,
      "align_self": null,
      "border": null,
      "bottom": null,
      "display": null,
      "flex": null,
      "flex_flow": null,
      "grid_area": null,
      "grid_auto_columns": null,
      "grid_auto_flow": null,
      "grid_auto_rows": null,
      "grid_column": null,
      "grid_gap": null,
      "grid_row": null,
      "grid_template_areas": null,
      "grid_template_columns": null,
      "grid_template_rows": null,
      "height": null,
      "justify_content": null,
      "justify_items": null,
      "left": null,
      "margin": null,
      "max_height": null,
      "max_width": null,
      "min_height": null,
      "min_width": null,
      "object_fit": null,
      "object_position": null,
      "order": null,
      "overflow": null,
      "overflow_x": null,
      "overflow_y": null,
      "padding": null,
      "right": null,
      "top": null,
      "visibility": null,
      "width": null
     }
    },
    "9c7c557e869d4a2f81ed769d5fac388d": {
     "model_module": "@jupyter-widgets/base",
     "model_name": "LayoutModel",
     "state": {
      "_model_module": "@jupyter-widgets/base",
      "_model_module_version": "1.2.0",
      "_model_name": "LayoutModel",
      "_view_count": null,
      "_view_module": "@jupyter-widgets/base",
      "_view_module_version": "1.2.0",
      "_view_name": "LayoutView",
      "align_content": null,
      "align_items": null,
      "align_self": null,
      "border": null,
      "bottom": null,
      "display": null,
      "flex": null,
      "flex_flow": null,
      "grid_area": null,
      "grid_auto_columns": null,
      "grid_auto_flow": null,
      "grid_auto_rows": null,
      "grid_column": null,
      "grid_gap": null,
      "grid_row": null,
      "grid_template_areas": null,
      "grid_template_columns": null,
      "grid_template_rows": null,
      "height": null,
      "justify_content": null,
      "justify_items": null,
      "left": null,
      "margin": null,
      "max_height": null,
      "max_width": null,
      "min_height": null,
      "min_width": null,
      "object_fit": null,
      "object_position": null,
      "order": null,
      "overflow": null,
      "overflow_x": null,
      "overflow_y": null,
      "padding": null,
      "right": null,
      "top": null,
      "visibility": null,
      "width": null
     }
    },
    "a798861a501040a38a3fc65c4f0e2ecd": {
     "model_module": "@jupyter-widgets/controls",
     "model_name": "ProgressStyleModel",
     "state": {
      "_model_module": "@jupyter-widgets/controls",
      "_model_module_version": "1.5.0",
      "_model_name": "ProgressStyleModel",
      "_view_count": null,
      "_view_module": "@jupyter-widgets/base",
      "_view_module_version": "1.2.0",
      "_view_name": "StyleView",
      "bar_color": null,
      "description_width": "initial"
     }
    },
    "b93cc63db0314856842cf5ad8513a033": {
     "model_module": "@jupyter-widgets/controls",
     "model_name": "ProgressStyleModel",
     "state": {
      "_model_module": "@jupyter-widgets/controls",
      "_model_module_version": "1.5.0",
      "_model_name": "ProgressStyleModel",
      "_view_count": null,
      "_view_module": "@jupyter-widgets/base",
      "_view_module_version": "1.2.0",
      "_view_name": "StyleView",
      "bar_color": null,
      "description_width": "initial"
     }
    },
    "c32e25c8488041b7b22bd54f9fa38e9f": {
     "model_module": "@jupyter-widgets/controls",
     "model_name": "FloatProgressModel",
     "state": {
      "_dom_classes": [],
      "_model_module": "@jupyter-widgets/controls",
      "_model_module_version": "1.5.0",
      "_model_name": "FloatProgressModel",
      "_view_count": null,
      "_view_module": "@jupyter-widgets/controls",
      "_view_module_version": "1.5.0",
      "_view_name": "ProgressView",
      "bar_style": "info",
      "description": "100%",
      "description_tooltip": null,
      "layout": "IPY_MODEL_8b232bac98b74e9e92e9c4821b5487d2",
      "max": 5,
      "min": 0,
      "orientation": "horizontal",
      "style": "IPY_MODEL_a798861a501040a38a3fc65c4f0e2ecd",
      "value": 5
     }
    },
    "c4026a54dd2047ea843a57d88a509b1b": {
     "model_module": "@jupyter-widgets/controls",
     "model_name": "FloatProgressModel",
     "state": {
      "_dom_classes": [],
      "_model_module": "@jupyter-widgets/controls",
      "_model_module_version": "1.5.0",
      "_model_name": "FloatProgressModel",
      "_view_count": null,
      "_view_module": "@jupyter-widgets/controls",
      "_view_module_version": "1.5.0",
      "_view_name": "ProgressView",
      "bar_style": "info",
      "description": "100%",
      "description_tooltip": null,
      "layout": "IPY_MODEL_94b90220b33b44d38fcdce654071b7f7",
      "max": 5,
      "min": 0,
      "orientation": "horizontal",
      "style": "IPY_MODEL_816690c9bcc643418fba0300e029cc1a",
      "value": 5
     }
    },
    "cdc019c2200241d3827ad284724c12cb": {
     "model_module": "@jupyter-widgets/controls",
     "model_name": "HTMLModel",
     "state": {
      "_dom_classes": [],
      "_model_module": "@jupyter-widgets/controls",
      "_model_module_version": "1.5.0",
      "_model_name": "HTMLModel",
      "_view_count": null,
      "_view_module": "@jupyter-widgets/controls",
      "_view_module_version": "1.5.0",
      "_view_name": "HTMLView",
      "description": "",
      "description_tooltip": null,
      "layout": "IPY_MODEL_1144340f89aa4374b12a910d79c09489",
      "placeholder": "​",
      "style": "IPY_MODEL_6378038ba4404b08a265353f02e584a2",
      "value": " 100/100 [06:56&lt;00:00,  4.17s/epoch, loss=0.0116, mse=0.0116, mae=0.0924, mean_squared_logarithmic_error=0.00768, val_loss=0.0609, val_mse=0.0609, val_mae=0.218, val_mean_squared_logarithmic_error=0.0346]"
     }
    },
    "dc1032ecfd794d7cb7ba46b173ff5804": {
     "model_module": "@jupyter-widgets/controls",
     "model_name": "ProgressStyleModel",
     "state": {
      "_model_module": "@jupyter-widgets/controls",
      "_model_module_version": "1.5.0",
      "_model_name": "ProgressStyleModel",
      "_view_count": null,
      "_view_module": "@jupyter-widgets/base",
      "_view_module_version": "1.2.0",
      "_view_name": "StyleView",
      "bar_color": null,
      "description_width": "initial"
     }
    },
    "de2b8aed215e469780aea8f173009b1c": {
     "model_module": "@jupyter-widgets/base",
     "model_name": "LayoutModel",
     "state": {
      "_model_module": "@jupyter-widgets/base",
      "_model_module_version": "1.2.0",
      "_model_name": "LayoutModel",
      "_view_count": null,
      "_view_module": "@jupyter-widgets/base",
      "_view_module_version": "1.2.0",
      "_view_name": "LayoutView",
      "align_content": null,
      "align_items": null,
      "align_self": null,
      "border": null,
      "bottom": null,
      "display": null,
      "flex": null,
      "flex_flow": null,
      "grid_area": null,
      "grid_auto_columns": null,
      "grid_auto_flow": null,
      "grid_auto_rows": null,
      "grid_column": null,
      "grid_gap": null,
      "grid_row": null,
      "grid_template_areas": null,
      "grid_template_columns": null,
      "grid_template_rows": null,
      "height": null,
      "justify_content": null,
      "justify_items": null,
      "left": null,
      "margin": null,
      "max_height": null,
      "max_width": null,
      "min_height": null,
      "min_width": null,
      "object_fit": null,
      "object_position": null,
      "order": null,
      "overflow": null,
      "overflow_x": null,
      "overflow_y": null,
      "padding": null,
      "right": null,
      "top": null,
      "visibility": null,
      "width": null
     }
    },
    "e307011b1b30448a95bfcaf78b34f5ba": {
     "model_module": "@jupyter-widgets/base",
     "model_name": "LayoutModel",
     "state": {
      "_model_module": "@jupyter-widgets/base",
      "_model_module_version": "1.2.0",
      "_model_name": "LayoutModel",
      "_view_count": null,
      "_view_module": "@jupyter-widgets/base",
      "_view_module_version": "1.2.0",
      "_view_name": "LayoutView",
      "align_content": null,
      "align_items": null,
      "align_self": null,
      "border": null,
      "bottom": null,
      "display": null,
      "flex": null,
      "flex_flow": null,
      "grid_area": null,
      "grid_auto_columns": null,
      "grid_auto_flow": null,
      "grid_auto_rows": null,
      "grid_column": null,
      "grid_gap": null,
      "grid_row": null,
      "grid_template_areas": null,
      "grid_template_columns": null,
      "grid_template_rows": null,
      "height": null,
      "justify_content": null,
      "justify_items": null,
      "left": null,
      "margin": null,
      "max_height": null,
      "max_width": null,
      "min_height": null,
      "min_width": null,
      "object_fit": null,
      "object_position": null,
      "order": null,
      "overflow": null,
      "overflow_x": null,
      "overflow_y": null,
      "padding": null,
      "right": null,
      "top": null,
      "visibility": null,
      "width": null
     }
    },
    "ebbeaf6360024f929f7dc4ce28b9d547": {
     "model_module": "@jupyter-widgets/controls",
     "model_name": "HTMLModel",
     "state": {
      "_dom_classes": [],
      "_model_module": "@jupyter-widgets/controls",
      "_model_module_version": "1.5.0",
      "_model_name": "HTMLModel",
      "_view_count": null,
      "_view_module": "@jupyter-widgets/controls",
      "_view_module_version": "1.5.0",
      "_view_name": "HTMLView",
      "description": "",
      "description_tooltip": null,
      "layout": "IPY_MODEL_30f79e957c6e4093bebf3fa49b5842d3",
      "placeholder": "​",
      "style": "IPY_MODEL_5313d80b5beb4f05a9a4ce0779a3755c",
      "value": " 5.00/5.00 [00:04&lt;00:00, 1.27batch/s, loss=0.0116, mse=0.0116, mae=0.0924, mean_squared_logarithmic_error=0.00768]"
     }
    },
    "f04109d8e6774e04bc46be522abc5c42": {
     "model_module": "@jupyter-widgets/base",
     "model_name": "LayoutModel",
     "state": {
      "_model_module": "@jupyter-widgets/base",
      "_model_module_version": "1.2.0",
      "_model_name": "LayoutModel",
      "_view_count": null,
      "_view_module": "@jupyter-widgets/base",
      "_view_module_version": "1.2.0",
      "_view_name": "LayoutView",
      "align_content": null,
      "align_items": null,
      "align_self": null,
      "border": null,
      "bottom": null,
      "display": null,
      "flex": null,
      "flex_flow": null,
      "grid_area": null,
      "grid_auto_columns": null,
      "grid_auto_flow": null,
      "grid_auto_rows": null,
      "grid_column": null,
      "grid_gap": null,
      "grid_row": null,
      "grid_template_areas": null,
      "grid_template_columns": null,
      "grid_template_rows": null,
      "height": null,
      "justify_content": null,
      "justify_items": null,
      "left": null,
      "margin": null,
      "max_height": null,
      "max_width": null,
      "min_height": null,
      "min_width": null,
      "object_fit": null,
      "object_position": null,
      "order": null,
      "overflow": null,
      "overflow_x": null,
      "overflow_y": null,
      "padding": null,
      "right": null,
      "top": null,
      "visibility": null,
      "width": null
     }
    },
    "ffae7f81e7934374947b4d8299a60525": {
     "model_module": "@jupyter-widgets/controls",
     "model_name": "FloatProgressModel",
     "state": {
      "_dom_classes": [],
      "_model_module": "@jupyter-widgets/controls",
      "_model_module_version": "1.5.0",
      "_model_name": "FloatProgressModel",
      "_view_count": null,
      "_view_module": "@jupyter-widgets/controls",
      "_view_module_version": "1.5.0",
      "_view_name": "ProgressView",
      "bar_style": "success",
      "description": "100%",
      "description_tooltip": null,
      "layout": "IPY_MODEL_5bd8c98011e94c2483bc9e8a6766f935",
      "max": 100,
      "min": 0,
      "orientation": "horizontal",
      "style": "IPY_MODEL_b93cc63db0314856842cf5ad8513a033",
      "value": 100
     }
    }
   }
  }
 },
 "nbformat": 4,
 "nbformat_minor": 5
}
