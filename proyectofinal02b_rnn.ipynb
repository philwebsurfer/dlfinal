{
  "nbformat": 4,
  "nbformat_minor": 5,
  "metadata": {
    "abstract": [
      "Desarrollaremos un proyecto de investigación basados",
      "en un sensor de la calidad del aire que tenemos dentro",
      "de casa de uno de los participantes con el fin de estudiar,",
      "analizar, explorar y entender su relación e influencia con",
      "los fenómenos externos (calidad del aire de la ciudad y",
      "variables atmosféricas) para poder predecir la calidad del",
      "aire en el interior de casa con las mediciones de compuestos",
      "orgánicos volátiles, los cuales tienen alta probabilidad de",
      "ser perjudiciales para la salud."
    ],
    "authors": [
      "Jorge III Altamirano Astorga",
      "Luz Aurora Hernández Martínez",
      "Ita-Andehui Santiago Castillejos",
      "Profesor: Doctor Edgar Román-Rangel"
    ],
    "colab": {
      "name": "proyecto02_rnn.ipynb",
      "provenance": [],
      "collapsed_sections": []
    },
    "kernelspec": {
      "display_name": "cuda",
      "language": "python",
      "name": "cuda"
    },
    "language_info": {
      "codemirror_mode": {
        "name": "ipython",
        "version": 3
      },
      "file_extension": ".py",
      "mimetype": "text/x-python",
      "name": "python",
      "nbconvert_exporter": "python",
      "pygments_lexer": "ipython3",
      "version": "3.7.9"
    },
    "title": "Proyecto Final",
    "toc": {
      "base_numbering": 1,
      "nav_menu": {},
      "number_sections": true,
      "sideBar": true,
      "skip_h1_title": false,
      "title_cell": "Table of Contents",
      "title_sidebar": "Contents",
      "toc_cell": false,
      "toc_position": {},
      "toc_section_display": true,
      "toc_window_display": false
    },
    "toc-autonumbering": true,
    "varInspector": {
      "cols": {
        "lenName": 16,
        "lenType": 16,
        "lenVar": 40
      },
      "kernels_config": {
        "python": {
          "delete_cmd_postfix": "",
          "delete_cmd_prefix": "del ",
          "library": "var_list.py",
          "varRefreshCmd": "print(var_dic_list())"
        },
        "r": {
          "delete_cmd_postfix": ") ",
          "delete_cmd_prefix": "rm(",
          "library": "var_list.r",
          "varRefreshCmd": "cat(var_dic_list()) "
        }
      },
      "types_to_exclude": [
        "module",
        "function",
        "builtin_function_or_method",
        "instance",
        "_Feature"
      ],
      "window_display": false
    },
    "accelerator": "GPU"
  },
  "cells": [
    {
      "cell_type": "markdown",
      "metadata": {
        "id": "aetgj0f-W58E"
      },
      "source": [
        "#RNN\n",
        "Recurrent Neural Netwotk son de las más usadas para señales temporales. \n"
      ],
      "id": "aetgj0f-W58E"
    },
    {
      "cell_type": "code",
      "metadata": {
        "id": "A89KHzr7HI43"
      },
      "source": [
        "import os, gzip, json, re\n",
        "from plotnine import *\n",
        "import pandas as pd\n",
        "import io, os, time, re\n",
        "import numpy as np\n",
        "import matplotlib.pyplot as plt\n",
        "from plotnine import *\n",
        "import pandas as pd\n",
        "\n",
        "%matplotlib inline\n",
        "from IPython.display import display, Markdown, Image, clear_output\n",
        "\n",
        "import tensorflow as tf\n",
        "from tensorflow.keras.models import Sequential\n",
        "from tensorflow.keras.layers import Input, SimpleRNN, Dense\n",
        "from tensorflow.keras.utils import plot_model\n",
        "from tensorflow.keras.optimizers import \\\n",
        "    RMSprop, Adam, SGD\n",
        "from tqdm.keras import TqdmCallback\n",
        "import six\n",
        "\n",
        "from sklearn.model_selection import train_test_split\n",
        "from sklearn.preprocessing import MinMaxScaler\n",
        "\n"
      ],
      "id": "A89KHzr7HI43",
      "execution_count": null,
      "outputs": []
    },
    {
      "cell_type": "code",
      "metadata": {
        "colab": {
          "base_uri": "https://localhost:8080/",
          "height": 345
        },
        "id": "pfL_FYmRG_a2",
        "outputId": "4787fefd-fb5c-4e9b-bf88-fc4766ef6954"
      },
      "source": [
        "base_dir = \"drive/MyDrive/airdata\"\n",
        "data_dir = os.path.join(\n",
        "    os.getcwd(),\n",
        "    base_dir\n",
        ")\n",
        "airdata = []\n",
        "\n",
        "display(Markdown(f\"Listing data files from: {data_dir}\"))\n",
        "\n",
        "generator = (file for file in os.listdir(data_dir) if (file.find(\".json.gz\") > 0))\n",
        "for filegz in generator:\n",
        "    display(Markdown(f\"* Loading {filegz}\"))\n",
        "    try:\n",
        "        with gzip.open(os.path.join(data_dir, filegz), 'rt') as file:\n",
        "            for (i, line) in enumerate(file):\n",
        "                #print(f\"{filegz}:{i}\", line.strip())\n",
        "                json_line = json.loads(line.strip())\n",
        "                airdata.append(json_line)\n",
        "                    \n",
        "    except EOFError:\n",
        "        continue\n",
        "    except Exception as e:\n",
        "        print(f\"Error while reading file {filegz}\", type(e))\n",
        "        raise e\n",
        "display(Markdown(\"Done!\"))"
      ],
      "id": "pfL_FYmRG_a2",
      "execution_count": null,
      "outputs": [
        {
          "output_type": "display_data",
          "data": {
            "text/markdown": "Listing data files from: /content/drive/MyDrive/airdata",
            "text/plain": [
              "<IPython.core.display.Markdown object>"
            ]
          },
          "metadata": {
            "tags": []
          }
        },
        {
          "output_type": "display_data",
          "data": {
            "text/markdown": "* Loading air-20210212-060408.json.gz",
            "text/plain": [
              "<IPython.core.display.Markdown object>"
            ]
          },
          "metadata": {
            "tags": []
          }
        },
        {
          "output_type": "display_data",
          "data": {
            "text/markdown": "* Loading air-20210212-060529.json.gz",
            "text/plain": [
              "<IPython.core.display.Markdown object>"
            ]
          },
          "metadata": {
            "tags": []
          }
        },
        {
          "output_type": "display_data",
          "data": {
            "text/markdown": "* Loading air-20210212-060534.json.gz",
            "text/plain": [
              "<IPython.core.display.Markdown object>"
            ]
          },
          "metadata": {
            "tags": []
          }
        },
        {
          "output_type": "display_data",
          "data": {
            "text/markdown": "* Loading air-20210212-153737.json.gz",
            "text/plain": [
              "<IPython.core.display.Markdown object>"
            ]
          },
          "metadata": {
            "tags": []
          }
        },
        {
          "output_type": "display_data",
          "data": {
            "text/markdown": "* Loading air-20210212-153808.json.gz",
            "text/plain": [
              "<IPython.core.display.Markdown object>"
            ]
          },
          "metadata": {
            "tags": []
          }
        },
        {
          "output_type": "display_data",
          "data": {
            "text/markdown": "* Loading air-20210308-213952.json.gz",
            "text/plain": [
              "<IPython.core.display.Markdown object>"
            ]
          },
          "metadata": {
            "tags": []
          }
        },
        {
          "output_type": "display_data",
          "data": {
            "text/markdown": "* Loading air-20210212-060545.json.gz",
            "text/plain": [
              "<IPython.core.display.Markdown object>"
            ]
          },
          "metadata": {
            "tags": []
          }
        },
        {
          "output_type": "display_data",
          "data": {
            "text/markdown": "* Loading air-20210212-153921.json.gz",
            "text/plain": [
              "<IPython.core.display.Markdown object>"
            ]
          },
          "metadata": {
            "tags": []
          }
        },
        {
          "output_type": "display_data",
          "data": {
            "text/markdown": "* Loading air-20210415-234052.json.gz",
            "text/plain": [
              "<IPython.core.display.Markdown object>"
            ]
          },
          "metadata": {
            "tags": []
          }
        },
        {
          "output_type": "display_data",
          "data": {
            "text/markdown": "* Loading air-20210308-214511.json.gz",
            "text/plain": [
              "<IPython.core.display.Markdown object>"
            ]
          },
          "metadata": {
            "tags": []
          }
        },
        {
          "output_type": "display_data",
          "data": {
            "text/markdown": "* Loading air-20210218-233000.json.gz",
            "text/plain": [
              "<IPython.core.display.Markdown object>"
            ]
          },
          "metadata": {
            "tags": []
          }
        },
        {
          "output_type": "display_data",
          "data": {
            "text/markdown": "* Loading air-20210326-110304.json.gz",
            "text/plain": [
              "<IPython.core.display.Markdown object>"
            ]
          },
          "metadata": {
            "tags": []
          }
        },
        {
          "output_type": "display_data",
          "data": {
            "text/markdown": "Done!",
            "text/plain": [
              "<IPython.core.display.Markdown object>"
            ]
          },
          "metadata": {
            "tags": []
          }
        }
      ]
    },
    {
      "cell_type": "code",
      "metadata": {
        "colab": {
          "base_uri": "https://localhost:8080/",
          "height": 204
        },
        "id": "zdEiEM-TIPvw",
        "outputId": "cd1a39e1-1553-4f5b-c93b-e5b43da6703b"
      },
      "source": [
        "df = pd.DataFrame(airdata)\n",
        "df[\"datetime\"] = pd.to_datetime(df[\"datetime\"], unit='s')\n",
        "df[\"hour\"] = [dt.hour for dt in df.datetime]\n",
        "df.head()"
      ],
      "id": "zdEiEM-TIPvw",
      "execution_count": null,
      "outputs": [
        {
          "output_type": "execute_result",
          "data": {
            "text/html": [
              "<div>\n",
              "<style scoped>\n",
              "    .dataframe tbody tr th:only-of-type {\n",
              "        vertical-align: middle;\n",
              "    }\n",
              "\n",
              "    .dataframe tbody tr th {\n",
              "        vertical-align: top;\n",
              "    }\n",
              "\n",
              "    .dataframe thead th {\n",
              "        text-align: right;\n",
              "    }\n",
              "</style>\n",
              "<table border=\"1\" class=\"dataframe\">\n",
              "  <thead>\n",
              "    <tr style=\"text-align: right;\">\n",
              "      <th></th>\n",
              "      <th>temperature</th>\n",
              "      <th>pressure</th>\n",
              "      <th>humidity</th>\n",
              "      <th>gasResistance</th>\n",
              "      <th>IAQ</th>\n",
              "      <th>iaqAccuracy</th>\n",
              "      <th>datetime</th>\n",
              "      <th>hour</th>\n",
              "    </tr>\n",
              "  </thead>\n",
              "  <tbody>\n",
              "    <tr>\n",
              "      <th>0</th>\n",
              "      <td>21.54</td>\n",
              "      <td>777.41</td>\n",
              "      <td>43.93</td>\n",
              "      <td>151328</td>\n",
              "      <td>37.5</td>\n",
              "      <td>1</td>\n",
              "      <td>2021-02-12 06:04:09.089621067</td>\n",
              "      <td>6</td>\n",
              "    </tr>\n",
              "    <tr>\n",
              "      <th>1</th>\n",
              "      <td>21.56</td>\n",
              "      <td>777.41</td>\n",
              "      <td>43.89</td>\n",
              "      <td>152702</td>\n",
              "      <td>35.6</td>\n",
              "      <td>1</td>\n",
              "      <td>2021-02-12 06:04:12.087778807</td>\n",
              "      <td>6</td>\n",
              "    </tr>\n",
              "    <tr>\n",
              "      <th>2</th>\n",
              "      <td>21.53</td>\n",
              "      <td>777.41</td>\n",
              "      <td>43.97</td>\n",
              "      <td>151328</td>\n",
              "      <td>37.5</td>\n",
              "      <td>1</td>\n",
              "      <td>2021-02-12 06:04:15.072475433</td>\n",
              "      <td>6</td>\n",
              "    </tr>\n",
              "    <tr>\n",
              "      <th>3</th>\n",
              "      <td>21.51</td>\n",
              "      <td>777.41</td>\n",
              "      <td>44.03</td>\n",
              "      <td>151464</td>\n",
              "      <td>38.5</td>\n",
              "      <td>1</td>\n",
              "      <td>2021-02-12 06:04:18.070170164</td>\n",
              "      <td>6</td>\n",
              "    </tr>\n",
              "    <tr>\n",
              "      <th>4</th>\n",
              "      <td>21.51</td>\n",
              "      <td>777.41</td>\n",
              "      <td>44.05</td>\n",
              "      <td>152425</td>\n",
              "      <td>36.9</td>\n",
              "      <td>1</td>\n",
              "      <td>2021-02-12 06:04:21.061994791</td>\n",
              "      <td>6</td>\n",
              "    </tr>\n",
              "  </tbody>\n",
              "</table>\n",
              "</div>"
            ],
            "text/plain": [
              "   temperature  pressure  ...                      datetime  hour\n",
              "0        21.54    777.41  ... 2021-02-12 06:04:09.089621067     6\n",
              "1        21.56    777.41  ... 2021-02-12 06:04:12.087778807     6\n",
              "2        21.53    777.41  ... 2021-02-12 06:04:15.072475433     6\n",
              "3        21.51    777.41  ... 2021-02-12 06:04:18.070170164     6\n",
              "4        21.51    777.41  ... 2021-02-12 06:04:21.061994791     6\n",
              "\n",
              "[5 rows x 8 columns]"
            ]
          },
          "metadata": {
            "tags": []
          },
          "execution_count": 3
        }
      ]
    },
    {
      "cell_type": "code",
      "metadata": {
        "id": "controlling-sierra",
        "colab": {
          "base_uri": "https://localhost:8080/",
          "height": 92
        },
        "outputId": "ec723b7a-d86b-44bd-9fdb-5707ac5a5619"
      },
      "source": [
        "display(Markdown(f\"* Rango de fechas obtenidas: {df.datetime.min()} - {df.datetime.max()}\"))\n",
        "display(Markdown(f\"* Número de registros: {df.shape[0]:3,}\"))\n",
        "display(Markdown(f\"* Promedio de IAQ: {df.IAQ.mean():.2f} desviación estándar: {df.IAQ.std():.2f}\"))"
      ],
      "id": "controlling-sierra",
      "execution_count": null,
      "outputs": [
        {
          "output_type": "display_data",
          "data": {
            "text/markdown": "* Rango de fechas obtenidas: 2021-02-12 06:04:09.089621067 - 2021-04-24 22:16:20.885603666",
            "text/plain": [
              "<IPython.core.display.Markdown object>"
            ]
          },
          "metadata": {
            "tags": []
          }
        },
        {
          "output_type": "display_data",
          "data": {
            "text/markdown": "* Número de registros: 2,068,167",
            "text/plain": [
              "<IPython.core.display.Markdown object>"
            ]
          },
          "metadata": {
            "tags": []
          }
        },
        {
          "output_type": "display_data",
          "data": {
            "text/markdown": "* Promedio de IAQ: 161.24 desviación estándar: 72.85",
            "text/plain": [
              "<IPython.core.display.Markdown object>"
            ]
          },
          "metadata": {
            "tags": []
          }
        }
      ]
    },
    {
      "cell_type": "code",
      "metadata": {
        "id": "generic-poker"
      },
      "source": [
        "# Split and Scaling\n",
        "df_train, df_test = train_test_split(df, train_size=0.8, test_size=0.2, shuffle=False)\n",
        "#X = df_train.loc[:, useful_cols].values\n",
        "min_max_scaler = MinMaxScaler()\n",
        "X_train = min_max_scaler.fit_transform(df_train.drop('datetime',axis=1))\n",
        "X_test = min_max_scaler.transform(df_test.drop('datetime',axis=1))"
      ],
      "id": "generic-poker",
      "execution_count": null,
      "outputs": []
    },
    {
      "cell_type": "code",
      "metadata": {
        "id": "developmental-costs"
      },
      "source": [
        "def build_dataset(X, Y, hist_size):\n",
        "    '''\n",
        "    Params\n",
        "    X: data matrix [n_time_steps, n_X_feats]\n",
        "    Y: label matrix [n_time_steps, n_Y_feats]\n",
        "    hist_size: integer indicating the number of time steps in each sample of x\n",
        "    Returns\n",
        "    x: tensor of input data [n_samples, n_timesteps, n_X_features]\n",
        "    y: tensor of output data [n_samples, n_Y_features]\n",
        "    '''\n",
        "    n_samples = Y.shape[0] - hist_size\n",
        "    x = np.zeros((n_samples, hist_size, X.shape[1]))\n",
        "    y = np.zeros((n_samples))\n",
        "\n",
        "    for ind in range(n_samples):    \n",
        "        x[ind] = X[ind : ind + hist_size]\n",
        "        y[ind] = Y[ind + hist_size]\n",
        "    return x, y\n",
        "\n",
        "time_steps = 4\n",
        "x_train, y_train = build_dataset(X=X_train, \n",
        "                                 Y=X_train[:,-4], \n",
        "                                 hist_size=time_steps)\n",
        "x_test,  y_test  = build_dataset(X=X_test,  \n",
        "                                 Y=X_test[:,-4],  \n",
        "                                 hist_size=time_steps)"
      ],
      "id": "developmental-costs",
      "execution_count": null,
      "outputs": []
    },
    {
      "cell_type": "code",
      "metadata": {
        "colab": {
          "base_uri": "https://localhost:8080/"
        },
        "id": "oTy1y3F_0K84",
        "outputId": "04b6ff17-981e-4eba-8527-1d266e15c072"
      },
      "source": [
        "rnn_model = Sequential()\n",
        "rnn_model.add(Input(shape=(x_train.shape[1], x_train.shape[2])))\n",
        "rnn_model.add(SimpleRNN(units=256))\n",
        "rnn_model.add(Dense(1, activation='sigmoid'))\n",
        "\n",
        "rnn_model.summary()"
      ],
      "id": "oTy1y3F_0K84",
      "execution_count": null,
      "outputs": [
        {
          "output_type": "stream",
          "text": [
            "Model: \"sequential\"\n",
            "_________________________________________________________________\n",
            "Layer (type)                 Output Shape              Param #   \n",
            "=================================================================\n",
            "simple_rnn (SimpleRNN)       (None, 256)               67584     \n",
            "_________________________________________________________________\n",
            "dense (Dense)                (None, 1)                 257       \n",
            "=================================================================\n",
            "Total params: 67,841\n",
            "Trainable params: 67,841\n",
            "Non-trainable params: 0\n",
            "_________________________________________________________________\n"
          ],
          "name": "stdout"
        }
      ]
    },
    {
      "cell_type": "code",
      "metadata": {
        "id": "k8ZIAaav0XKT"
      },
      "source": [
        "# Compile\n",
        "rnn_model.compile(loss='mse', optimizer='rmsprop')"
      ],
      "id": "k8ZIAaav0XKT",
      "execution_count": null,
      "outputs": []
    },
    {
      "cell_type": "code",
      "metadata": {
        "colab": {
          "base_uri": "https://localhost:8080/",
          "height": 164
        },
        "id": "xXgvpgbBBTBF",
        "outputId": "2ce1943a-f1a5-418f-8ea5-5b23a38763c4"
      },
      "source": [
        "# Plot model\n",
        "from tensorflow.keras.utils import plot_model\n",
        "plot_model(rnn_model, show_shapes=True, show_layer_names=True,\n",
        "                          rankdir='TB', expand_nested=True, dpi=48)"
      ],
      "id": "xXgvpgbBBTBF",
      "execution_count": null,
      "outputs": [
        {
          "output_type": "execute_result",
          "data": {
            "image/png": "[encoded data removed]",
            "text/plain": [
              "<IPython.core.display.Image object>"
            ]
          },
          "metadata": {
            "tags": []
          },
          "execution_count": 13
        }
      ]
    },
    {
      "cell_type": "code",
      "metadata": {
        "colab": {
          "base_uri": "https://localhost:8080/"
        },
        "id": "MWzg-Ja17_W4",
        "outputId": "7e89d82f-09ed-4f48-9cb2-b0b2cac98983"
      },
      "source": [
        "# Weights in the first layer (simpleRNN, Input does not count as layer)\n",
        "A, B, C = rnn_model.layers[0].get_weights()\n",
        "print(A.shape)\n",
        "print(B.shape)\n",
        "print(C.shape)\n",
        "\n",
        "# == Q2 == \n",
        "# Renombra los ndarrays A, B, C, usando la notación vista en clase: Wh, Wx, b."
      ],
      "id": "MWzg-Ja17_W4",
      "execution_count": null,
      "outputs": [
        {
          "output_type": "stream",
          "text": [
            "(7, 256)\n",
            "(256, 256)\n",
            "(256,)\n"
          ],
          "name": "stdout"
        }
      ]
    },
    {
      "cell_type": "code",
      "metadata": {
        "colab": {
          "base_uri": "https://localhost:8080/"
        },
        "id": "QpeyhXzt8i3C",
        "outputId": "99e8afe0-dff8-4b35-e40e-35b853f61685"
      },
      "source": [
        "# Weights in the second layer (FullyConnected)\n",
        "W, b = rnn_model.layers[1].get_weights()\n",
        "print(W.shape)\n",
        "print(b.shape)"
      ],
      "id": "QpeyhXzt8i3C",
      "execution_count": null,
      "outputs": [
        {
          "output_type": "stream",
          "text": [
            "(256, 1)\n",
            "(1,)\n"
          ],
          "name": "stdout"
        }
      ]
    },
    {
      "cell_type": "code",
      "metadata": {
        "colab": {
          "base_uri": "https://localhost:8080/"
        },
        "id": "3N2cysHY5vjm",
        "outputId": "6071a87d-91ae-4ac3-9b32-6c5cf94fa96f"
      },
      "source": [
        "# Train\n",
        "history = rnn_model.fit(x_train, y_train, epochs=10, batch_size=256, validation_split=0.1)"
      ],
      "id": "3N2cysHY5vjm",
      "execution_count": null,
      "outputs": [
        {
          "output_type": "stream",
          "text": [
            "Epoch 1/10\n",
            "5817/5817 [==============================] - 31s 5ms/step - loss: 0.0013 - val_loss: 3.2183e-04\n",
            "Epoch 2/10\n",
            "5817/5817 [==============================] - 30s 5ms/step - loss: 6.2274e-05 - val_loss: 1.5729e-05\n",
            "Epoch 3/10\n",
            "5817/5817 [==============================] - 30s 5ms/step - loss: 3.8654e-05 - val_loss: 8.5270e-05\n",
            "Epoch 4/10\n",
            "5817/5817 [==============================] - 31s 5ms/step - loss: 2.9435e-05 - val_loss: 1.0645e-04\n",
            "Epoch 5/10\n",
            "5817/5817 [==============================] - 30s 5ms/step - loss: 2.4079e-05 - val_loss: 3.1884e-05\n",
            "Epoch 6/10\n",
            "5817/5817 [==============================] - 30s 5ms/step - loss: 2.0656e-05 - val_loss: 1.6530e-04\n",
            "Epoch 7/10\n",
            "5817/5817 [==============================] - 31s 5ms/step - loss: 1.8635e-05 - val_loss: 2.0346e-05\n",
            "Epoch 8/10\n",
            "5817/5817 [==============================] - 33s 6ms/step - loss: 1.6699e-05 - val_loss: 1.6969e-05\n",
            "Epoch 9/10\n",
            "5817/5817 [==============================] - 31s 5ms/step - loss: 1.5233e-05 - val_loss: 8.0501e-06\n",
            "Epoch 10/10\n",
            "5817/5817 [==============================] - 31s 5ms/step - loss: 1.4440e-05 - val_loss: 5.3056e-06\n"
          ],
          "name": "stdout"
        }
      ]
    },
    {
      "cell_type": "code",
      "metadata": {
        "colab": {
          "base_uri": "https://localhost:8080/",
          "height": 279
        },
        "id": "QdTs4FtnOrsI",
        "outputId": "628b1502-d181-480e-b365-620c73075b72"
      },
      "source": [
        "# Plot loss\n",
        "plt.figure(figsize=(12, 4))\n",
        "plt.plot(history.history['loss'], label='Training', linewidth=2)\n",
        "plt.plot(history.history['val_loss'], label='Validation', linewidth=2)\n",
        "plt.legend()\n",
        "plt.xlabel('Epoch')\n",
        "plt.ylabel('Loss')\n",
        "plt.grid(True)\n",
        "plt.show()"
      ],
      "id": "QdTs4FtnOrsI",
      "execution_count": null,
      "outputs": [
        {
          "output_type": "display_data",
          "data": {
            "image/png": "[encoded data removed]",
            "text/plain": [
              "<Figure size 864x288 with 1 Axes>"
            ]
          },
          "metadata": {
            "tags": [],
            "needs_background": "light"
          }
        }
      ]
    },
    {
      "cell_type": "code",
      "metadata": {
        "colab": {
          "base_uri": "https://localhost:8080/"
        },
        "id": "vvHTn3-Z7AEq",
        "outputId": "4eb4a1ff-c707-4269-eb89-08c78f984e38"
      },
      "source": [
        "# Predict on training and test sets\n",
        "y_train_hat = rnn_model.predict(x_train)\n",
        "y_test_hat = rnn_model.predict(x_test)\n",
        "print(y_train_hat.shape)\n",
        "print(y_test_hat.shape)"
      ],
      "id": "vvHTn3-Z7AEq",
      "execution_count": null,
      "outputs": [
        {
          "output_type": "stream",
          "text": [
            "(1654529, 1)\n",
            "(413630, 1)\n"
          ],
          "name": "stdout"
        }
      ]
    },
    {
      "cell_type": "code",
      "metadata": {
        "colab": {
          "base_uri": "https://localhost:8080/",
          "height": 279
        },
        "id": "CJ9Gs7JO7Stg",
        "outputId": "be17dbb7-1d2b-469c-c369-5a78bf3e090b"
      },
      "source": [
        "# Plot y_train, y_train_hat, y_test and y_test_hat\n",
        "x_ticks = np.arange(len(y_train) + len(y_test)) # Para poder imprimir test delante de train\n",
        "\n",
        "plt.figure(figsize=(12, 4))\n",
        "plt.plot(x_ticks[:len(y_train)], y_train)\n",
        "plt.plot(x_ticks[:len(y_train)], y_train_hat)\n",
        "plt.plot(x_ticks[len(y_train):], y_test)\n",
        "plt.plot(x_ticks[len(y_train):], y_test_hat)\n",
        "plt.ylabel('Close value')\n",
        "plt.xlabel('Days')\n",
        "plt.legend(['y_train', '$\\hat{y}$_train', 'y_test', '$\\hat{y}$_test'], loc='upper left')\n",
        "plt.grid()\n",
        "plt.show()"
      ],
      "id": "CJ9Gs7JO7Stg",
      "execution_count": null,
      "outputs": [
        {
          "output_type": "display_data",
          "data": {
            "image/png": "[encoded data removed]",
            "text/plain": [
              "<Figure size 864x288 with 1 Axes>"
            ]
          },
          "metadata": {
            "tags": [],
            "needs_background": "light"
          }
        }
      ]
    }
  ]
}