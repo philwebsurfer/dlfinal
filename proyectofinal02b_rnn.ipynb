{
  "nbformat": 4,
  "nbformat_minor": 5,
  "metadata": {
    "abstract": [
      "Desarrollaremos un proyecto de investigación basados",
      "en un sensor de la calidad del aire que tenemos dentro",
      "de casa de uno de los participantes con el fin de estudiar,",
      "analizar, explorar y entender su relación e influencia con",
      "los fenómenos externos (calidad del aire de la ciudad y",
      "variables atmosféricas) para poder predecir la calidad del",
      "aire en el interior de casa con las mediciones de compuestos",
      "orgánicos volátiles, los cuales tienen alta probabilidad de",
      "ser perjudiciales para la salud."
    ],
    "authors": [
      "Jorge III Altamirano Astorga",
      "Luz Aurora Hernández Martínez",
      "Ita-Andehui Santiago Castillejos",
      "Profesor: Doctor Edgar Román-Rangel"
    ],
    "colab": {
      "name": "proyecto02b_rnn.ipynb",
      "provenance": [],
      "collapsed_sections": [],
      "toc_visible": true
    },
    "kernelspec": {
      "display_name": "cuda",
      "language": "python",
      "name": "cuda"
    },
    "language_info": {
      "codemirror_mode": {
        "name": "ipython",
        "version": 3
      },
      "file_extension": ".py",
      "mimetype": "text/x-python",
      "name": "python",
      "nbconvert_exporter": "python",
      "pygments_lexer": "ipython3",
      "version": "3.7.9"
    },
    "title": "Proyecto Final",
    "toc": {
      "base_numbering": 1,
      "nav_menu": {},
      "number_sections": true,
      "sideBar": true,
      "skip_h1_title": false,
      "title_cell": "Table of Contents",
      "title_sidebar": "Contents",
      "toc_cell": false,
      "toc_position": {},
      "toc_section_display": true,
      "toc_window_display": false
    },
    "toc-autonumbering": true,
    "varInspector": {
      "cols": {
        "lenName": 16,
        "lenType": 16,
        "lenVar": 40
      },
      "kernels_config": {
        "python": {
          "delete_cmd_postfix": "",
          "delete_cmd_prefix": "del ",
          "library": "var_list.py",
          "varRefreshCmd": "print(var_dic_list())"
        },
        "r": {
          "delete_cmd_postfix": ") ",
          "delete_cmd_prefix": "rm(",
          "library": "var_list.r",
          "varRefreshCmd": "cat(var_dic_list()) "
        }
      },
      "types_to_exclude": [
        "module",
        "function",
        "builtin_function_or_method",
        "instance",
        "_Feature"
      ],
      "window_display": false
    },
    "accelerator": "GPU"
  },
  "cells": [
    {
      "cell_type": "markdown",
      "metadata": {
        "id": "aetgj0f-W58E"
      },
      "source": [
        "#RNN\n",
        "Recurrent Neural Netwotk son de las más usadas para señales temporales. \n"
      ],
      "id": "aetgj0f-W58E"
    },
    {
      "cell_type": "code",
      "metadata": {
        "id": "A89KHzr7HI43"
      },
      "source": [
        "import os, gzip, json, re\n",
        "from plotnine import *\n",
        "import pandas as pd\n",
        "import io, os, time, re\n",
        "import numpy as np\n",
        "import matplotlib.pyplot as plt\n",
        "from plotnine import *\n",
        "import pandas as pd\n",
        "\n",
        "%matplotlib inline\n",
        "from IPython.display import display, Markdown, Image, clear_output\n",
        "\n",
        "import tensorflow as tf\n",
        "from tensorflow.keras.models import Sequential\n",
        "from tensorflow.keras.layers import Input, SimpleRNN, Dense\n",
        "from tensorflow.keras.utils import plot_model\n",
        "from tensorflow.keras.optimizers import \\\n",
        "    RMSprop, Adam, SGD\n",
        "from tqdm.keras import TqdmCallback\n",
        "import six\n",
        "\n",
        "from sklearn.model_selection import train_test_split\n",
        "from sklearn.preprocessing import MinMaxScaler\n",
        "\n"
      ],
      "id": "A89KHzr7HI43",
      "execution_count": null,
      "outputs": []
    },
    {
      "cell_type": "code",
      "metadata": {
        "colab": {
          "base_uri": "https://localhost:8080/",
          "height": 345
        },
        "id": "pfL_FYmRG_a2",
        "outputId": "5edfbfd4-0798-4df8-e0a4-b85a058a06bc"
      },
      "source": [
        "base_dir = \"drive/MyDrive/airdata\"\n",
        "data_dir = os.path.join(\n",
        "    os.getcwd(),\n",
        "    base_dir\n",
        ")\n",
        "airdata = []\n",
        "\n",
        "display(Markdown(f\"Listing data files from: {data_dir}\"))\n",
        "\n",
        "generator = (file for file in os.listdir(data_dir) if (file.find(\".json.gz\") > 0))\n",
        "for filegz in generator:\n",
        "    display(Markdown(f\"* Loading {filegz}\"))\n",
        "    try:\n",
        "        with gzip.open(os.path.join(data_dir, filegz), 'rt') as file:\n",
        "            for (i, line) in enumerate(file):\n",
        "                #print(f\"{filegz}:{i}\", line.strip())\n",
        "                json_line = json.loads(line.strip())\n",
        "                airdata.append(json_line)\n",
        "                    \n",
        "    except EOFError:\n",
        "        continue\n",
        "    except Exception as e:\n",
        "        print(f\"Error while reading file {filegz}\", type(e))\n",
        "        raise e\n",
        "display(Markdown(\"Done!\"))"
      ],
      "id": "pfL_FYmRG_a2",
      "execution_count": null,
      "outputs": [
        {
          "output_type": "display_data",
          "data": {
            "text/markdown": "Listing data files from: /content/drive/MyDrive/airdata",
            "text/plain": [
              "<IPython.core.display.Markdown object>"
            ]
          },
          "metadata": {
            "tags": []
          }
        },
        {
          "output_type": "display_data",
          "data": {
            "text/markdown": "* Loading air-20210212-060408.json.gz",
            "text/plain": [
              "<IPython.core.display.Markdown object>"
            ]
          },
          "metadata": {
            "tags": []
          }
        },
        {
          "output_type": "display_data",
          "data": {
            "text/markdown": "* Loading air-20210212-060529.json.gz",
            "text/plain": [
              "<IPython.core.display.Markdown object>"
            ]
          },
          "metadata": {
            "tags": []
          }
        },
        {
          "output_type": "display_data",
          "data": {
            "text/markdown": "* Loading air-20210212-060534.json.gz",
            "text/plain": [
              "<IPython.core.display.Markdown object>"
            ]
          },
          "metadata": {
            "tags": []
          }
        },
        {
          "output_type": "display_data",
          "data": {
            "text/markdown": "* Loading air-20210212-153737.json.gz",
            "text/plain": [
              "<IPython.core.display.Markdown object>"
            ]
          },
          "metadata": {
            "tags": []
          }
        },
        {
          "output_type": "display_data",
          "data": {
            "text/markdown": "* Loading air-20210212-153808.json.gz",
            "text/plain": [
              "<IPython.core.display.Markdown object>"
            ]
          },
          "metadata": {
            "tags": []
          }
        },
        {
          "output_type": "display_data",
          "data": {
            "text/markdown": "* Loading air-20210308-213952.json.gz",
            "text/plain": [
              "<IPython.core.display.Markdown object>"
            ]
          },
          "metadata": {
            "tags": []
          }
        },
        {
          "output_type": "display_data",
          "data": {
            "text/markdown": "* Loading air-20210212-060545.json.gz",
            "text/plain": [
              "<IPython.core.display.Markdown object>"
            ]
          },
          "metadata": {
            "tags": []
          }
        },
        {
          "output_type": "display_data",
          "data": {
            "text/markdown": "* Loading air-20210212-153921.json.gz",
            "text/plain": [
              "<IPython.core.display.Markdown object>"
            ]
          },
          "metadata": {
            "tags": []
          }
        },
        {
          "output_type": "display_data",
          "data": {
            "text/markdown": "* Loading air-20210415-234052.json.gz",
            "text/plain": [
              "<IPython.core.display.Markdown object>"
            ]
          },
          "metadata": {
            "tags": []
          }
        },
        {
          "output_type": "display_data",
          "data": {
            "text/markdown": "* Loading air-20210308-214511.json.gz",
            "text/plain": [
              "<IPython.core.display.Markdown object>"
            ]
          },
          "metadata": {
            "tags": []
          }
        },
        {
          "output_type": "display_data",
          "data": {
            "text/markdown": "* Loading air-20210218-233000.json.gz",
            "text/plain": [
              "<IPython.core.display.Markdown object>"
            ]
          },
          "metadata": {
            "tags": []
          }
        },
        {
          "output_type": "display_data",
          "data": {
            "text/markdown": "* Loading air-20210326-110304.json.gz",
            "text/plain": [
              "<IPython.core.display.Markdown object>"
            ]
          },
          "metadata": {
            "tags": []
          }
        },
        {
          "output_type": "display_data",
          "data": {
            "text/markdown": "Done!",
            "text/plain": [
              "<IPython.core.display.Markdown object>"
            ]
          },
          "metadata": {
            "tags": []
          }
        }
      ]
    },
    {
      "cell_type": "code",
      "metadata": {
        "colab": {
          "base_uri": "https://localhost:8080/",
          "height": 204
        },
        "id": "zdEiEM-TIPvw",
        "outputId": "035d49a9-3ae6-4e4e-995f-782523935a58"
      },
      "source": [
        "df = pd.DataFrame(airdata)\n",
        "df[\"datetime\"] = pd.to_datetime(df[\"datetime\"], unit='s')\n",
        "df[\"hour\"] = [dt.hour for dt in df.datetime]\n",
        "df.head()"
      ],
      "id": "zdEiEM-TIPvw",
      "execution_count": null,
      "outputs": [
        {
          "output_type": "execute_result",
          "data": {
            "text/html": [
              "<div>\n",
              "<style scoped>\n",
              "    .dataframe tbody tr th:only-of-type {\n",
              "        vertical-align: middle;\n",
              "    }\n",
              "\n",
              "    .dataframe tbody tr th {\n",
              "        vertical-align: top;\n",
              "    }\n",
              "\n",
              "    .dataframe thead th {\n",
              "        text-align: right;\n",
              "    }\n",
              "</style>\n",
              "<table border=\"1\" class=\"dataframe\">\n",
              "  <thead>\n",
              "    <tr style=\"text-align: right;\">\n",
              "      <th></th>\n",
              "      <th>temperature</th>\n",
              "      <th>pressure</th>\n",
              "      <th>humidity</th>\n",
              "      <th>gasResistance</th>\n",
              "      <th>IAQ</th>\n",
              "      <th>iaqAccuracy</th>\n",
              "      <th>datetime</th>\n",
              "      <th>hour</th>\n",
              "    </tr>\n",
              "  </thead>\n",
              "  <tbody>\n",
              "    <tr>\n",
              "      <th>0</th>\n",
              "      <td>21.54</td>\n",
              "      <td>777.41</td>\n",
              "      <td>43.93</td>\n",
              "      <td>151328</td>\n",
              "      <td>37.5</td>\n",
              "      <td>1</td>\n",
              "      <td>2021-02-12 06:04:09.089621067</td>\n",
              "      <td>6</td>\n",
              "    </tr>\n",
              "    <tr>\n",
              "      <th>1</th>\n",
              "      <td>21.56</td>\n",
              "      <td>777.41</td>\n",
              "      <td>43.89</td>\n",
              "      <td>152702</td>\n",
              "      <td>35.6</td>\n",
              "      <td>1</td>\n",
              "      <td>2021-02-12 06:04:12.087778807</td>\n",
              "      <td>6</td>\n",
              "    </tr>\n",
              "    <tr>\n",
              "      <th>2</th>\n",
              "      <td>21.53</td>\n",
              "      <td>777.41</td>\n",
              "      <td>43.97</td>\n",
              "      <td>151328</td>\n",
              "      <td>37.5</td>\n",
              "      <td>1</td>\n",
              "      <td>2021-02-12 06:04:15.072475433</td>\n",
              "      <td>6</td>\n",
              "    </tr>\n",
              "    <tr>\n",
              "      <th>3</th>\n",
              "      <td>21.51</td>\n",
              "      <td>777.41</td>\n",
              "      <td>44.03</td>\n",
              "      <td>151464</td>\n",
              "      <td>38.5</td>\n",
              "      <td>1</td>\n",
              "      <td>2021-02-12 06:04:18.070170164</td>\n",
              "      <td>6</td>\n",
              "    </tr>\n",
              "    <tr>\n",
              "      <th>4</th>\n",
              "      <td>21.51</td>\n",
              "      <td>777.41</td>\n",
              "      <td>44.05</td>\n",
              "      <td>152425</td>\n",
              "      <td>36.9</td>\n",
              "      <td>1</td>\n",
              "      <td>2021-02-12 06:04:21.061994791</td>\n",
              "      <td>6</td>\n",
              "    </tr>\n",
              "  </tbody>\n",
              "</table>\n",
              "</div>"
            ],
            "text/plain": [
              "   temperature  pressure  ...                      datetime  hour\n",
              "0        21.54    777.41  ... 2021-02-12 06:04:09.089621067     6\n",
              "1        21.56    777.41  ... 2021-02-12 06:04:12.087778807     6\n",
              "2        21.53    777.41  ... 2021-02-12 06:04:15.072475433     6\n",
              "3        21.51    777.41  ... 2021-02-12 06:04:18.070170164     6\n",
              "4        21.51    777.41  ... 2021-02-12 06:04:21.061994791     6\n",
              "\n",
              "[5 rows x 8 columns]"
            ]
          },
          "metadata": {
            "tags": []
          },
          "execution_count": 5
        }
      ]
    },
    {
      "cell_type": "code",
      "metadata": {
        "id": "controlling-sierra",
        "colab": {
          "base_uri": "https://localhost:8080/",
          "height": 92
        },
        "outputId": "038fd3d3-6a62-4f79-8a9c-cd4dca8db60d"
      },
      "source": [
        "display(Markdown(f\"* Rango de fechas obtenidas: {df.datetime.min()} - {df.datetime.max()}\"))\n",
        "display(Markdown(f\"* Número de registros: {df.shape[0]:3,}\"))\n",
        "display(Markdown(f\"* Promedio de IAQ: {df.IAQ.mean():.2f} desviación estándar: {df.IAQ.std():.2f}\"))"
      ],
      "id": "controlling-sierra",
      "execution_count": null,
      "outputs": [
        {
          "output_type": "display_data",
          "data": {
            "text/markdown": "* Rango de fechas obtenidas: 2021-02-12 06:04:09.089621067 - 2021-04-24 22:16:20.885603666",
            "text/plain": [
              "<IPython.core.display.Markdown object>"
            ]
          },
          "metadata": {
            "tags": []
          }
        },
        {
          "output_type": "display_data",
          "data": {
            "text/markdown": "* Número de registros: 2,068,167",
            "text/plain": [
              "<IPython.core.display.Markdown object>"
            ]
          },
          "metadata": {
            "tags": []
          }
        },
        {
          "output_type": "display_data",
          "data": {
            "text/markdown": "* Promedio de IAQ: 161.24 desviación estándar: 72.85",
            "text/plain": [
              "<IPython.core.display.Markdown object>"
            ]
          },
          "metadata": {
            "tags": []
          }
        }
      ]
    },
    {
      "cell_type": "code",
      "metadata": {
        "id": "generic-poker"
      },
      "source": [
        "# Split and Scaling\n",
        "df_train, df_test = train_test_split(df, train_size=0.8, test_size=0.2, shuffle=False)\n",
        "#X = df_train.loc[:, useful_cols].values\n",
        "min_max_scaler = MinMaxScaler()\n",
        "X_train = min_max_scaler.fit_transform(df_train.drop('datetime',axis=1))\n",
        "X_test = min_max_scaler.transform(df_test.drop('datetime',axis=1))"
      ],
      "id": "generic-poker",
      "execution_count": null,
      "outputs": []
    },
    {
      "cell_type": "code",
      "metadata": {
        "id": "developmental-costs"
      },
      "source": [
        "def build_dataset(X, Y, hist_size):\n",
        "    '''\n",
        "    Params\n",
        "    X: data matrix [n_time_steps, n_X_feats]\n",
        "    Y: label matrix [n_time_steps, n_Y_feats]\n",
        "    hist_size: integer indicating the number of time steps in each sample of x\n",
        "    Returns\n",
        "    x: tensor of input data [n_samples, n_timesteps, n_X_features]\n",
        "    y: tensor of output data [n_samples, n_Y_features]\n",
        "    '''\n",
        "    n_samples = Y.shape[0] - hist_size\n",
        "    x = np.zeros((n_samples, hist_size, X.shape[1]))\n",
        "    y = np.zeros((n_samples))\n",
        "\n",
        "    for ind in range(n_samples):    \n",
        "        x[ind] = X[ind : ind + hist_size]\n",
        "        y[ind] = Y[ind + hist_size]\n",
        "    return x, y\n",
        "\n",
        "time_steps = 4\n",
        "x_train, y_train = build_dataset(X=X_train, \n",
        "                                 Y=X_train[:,-4], \n",
        "                                 hist_size=time_steps)\n",
        "x_test,  y_test  = build_dataset(X=X_test,  \n",
        "                                 Y=X_test[:,-4],  \n",
        "                                 hist_size=time_steps)"
      ],
      "id": "developmental-costs",
      "execution_count": null,
      "outputs": []
    },
    {
      "cell_type": "code",
      "metadata": {
        "colab": {
          "base_uri": "https://localhost:8080/"
        },
        "id": "oTy1y3F_0K84",
        "outputId": "edde7e0d-6dae-4dbf-ae25-40c78dbc1d1d"
      },
      "source": [
        "rnn_model = Sequential()\n",
        "rnn_model.add(Input(shape=(x_train.shape[1], x_train.shape[2])))\n",
        "rnn_model.add(SimpleRNN(units=256))\n",
        "rnn_model.add(Dense(1, activation='sigmoid'))\n",
        "\n",
        "rnn_model.summary()"
      ],
      "id": "oTy1y3F_0K84",
      "execution_count": null,
      "outputs": [
        {
          "output_type": "stream",
          "text": [
            "Model: \"sequential\"\n",
            "_________________________________________________________________\n",
            "Layer (type)                 Output Shape              Param #   \n",
            "=================================================================\n",
            "simple_rnn (SimpleRNN)       (None, 256)               67584     \n",
            "_________________________________________________________________\n",
            "dense (Dense)                (None, 1)                 257       \n",
            "=================================================================\n",
            "Total params: 67,841\n",
            "Trainable params: 67,841\n",
            "Non-trainable params: 0\n",
            "_________________________________________________________________\n"
          ],
          "name": "stdout"
        }
      ]
    },
    {
      "cell_type": "code",
      "metadata": {
        "id": "k8ZIAaav0XKT"
      },
      "source": [
        "# Compile\n",
        "rnn_model.compile(loss='mse', optimizer='rmsprop')"
      ],
      "id": "k8ZIAaav0XKT",
      "execution_count": null,
      "outputs": []
    },
    {
      "cell_type": "code",
      "metadata": {
        "colab": {
          "base_uri": "https://localhost:8080/",
          "height": 164
        },
        "id": "xXgvpgbBBTBF",
        "outputId": "1728f3cf-8f20-4622-fce8-b399b80cdbdf"
      },
      "source": [
        "# Plot model\n",
        "from tensorflow.keras.utils import plot_model\n",
        "plot_model(rnn_model, show_shapes=True, show_layer_names=True,\n",
        "                          rankdir='TB', expand_nested=True, dpi=48)"
      ],
      "id": "xXgvpgbBBTBF",
      "execution_count": null,
      "outputs": [
        {
          "output_type": "execute_result",
          "data": {
            "image/png": "[encoded data removed]",
            "text/plain": [
              "<IPython.core.display.Image object>"
            ]
          },
          "metadata": {
            "tags": []
          },
          "execution_count": 11
        }
      ]
    },
    {
      "cell_type": "code",
      "metadata": {
        "colab": {
          "base_uri": "https://localhost:8080/"
        },
        "id": "MWzg-Ja17_W4",
        "outputId": "3b79e456-185f-4b6b-bcd7-78d501cb5076"
      },
      "source": [
        "# Weights in the first layer (simpleRNN, Input does not count as layer)\n",
        "A, B, C = rnn_model.layers[0].get_weights()\n",
        "print(A.shape)\n",
        "print(B.shape)\n",
        "print(C.shape)\n"
      ],
      "id": "MWzg-Ja17_W4",
      "execution_count": null,
      "outputs": [
        {
          "output_type": "stream",
          "text": [
            "(7, 256)\n",
            "(256, 256)\n",
            "(256,)\n"
          ],
          "name": "stdout"
        }
      ]
    },
    {
      "cell_type": "code",
      "metadata": {
        "colab": {
          "base_uri": "https://localhost:8080/"
        },
        "id": "QpeyhXzt8i3C",
        "outputId": "fd65c527-122e-4b35-d199-8b12deca9393"
      },
      "source": [
        "# Weights in the second layer (FullyConnected)\n",
        "W, b = rnn_model.layers[1].get_weights()\n",
        "print(W.shape)\n",
        "print(b.shape)"
      ],
      "id": "QpeyhXzt8i3C",
      "execution_count": null,
      "outputs": [
        {
          "output_type": "stream",
          "text": [
            "(256, 1)\n",
            "(1,)\n"
          ],
          "name": "stdout"
        }
      ]
    },
    {
      "cell_type": "code",
      "metadata": {
        "colab": {
          "base_uri": "https://localhost:8080/"
        },
        "id": "3N2cysHY5vjm",
        "outputId": "07850835-d2c1-4872-f6ba-20167ab2e195"
      },
      "source": [
        "# Train\n",
        "history = rnn_model.fit(x_train, y_train, epochs=100, batch_size=256, validation_split=0.1)"
      ],
      "id": "3N2cysHY5vjm",
      "execution_count": null,
      "outputs": [
        {
          "output_type": "stream",
          "text": [
            "Epoch 1/100\n",
            "5817/5817 [==============================] - 33s 5ms/step - loss: 0.0013 - val_loss: 1.0936e-04\n",
            "Epoch 2/100\n",
            "5817/5817 [==============================] - 29s 5ms/step - loss: 6.4063e-05 - val_loss: 5.3160e-05\n",
            "Epoch 3/100\n",
            "5817/5817 [==============================] - 29s 5ms/step - loss: 4.0937e-05 - val_loss: 1.0458e-04\n",
            "Epoch 4/100\n",
            "5817/5817 [==============================] - 29s 5ms/step - loss: 3.1350e-05 - val_loss: 3.8534e-05\n",
            "Epoch 5/100\n",
            "5817/5817 [==============================] - 29s 5ms/step - loss: 2.5779e-05 - val_loss: 4.0155e-05\n",
            "Epoch 6/100\n",
            "5817/5817 [==============================] - 29s 5ms/step - loss: 2.2607e-05 - val_loss: 3.0702e-05\n",
            "Epoch 7/100\n",
            "5817/5817 [==============================] - 30s 5ms/step - loss: 1.9226e-05 - val_loss: 7.6249e-05\n",
            "Epoch 8/100\n",
            "5817/5817 [==============================] - 29s 5ms/step - loss: 1.7451e-05 - val_loss: 7.7508e-06\n",
            "Epoch 9/100\n",
            "5817/5817 [==============================] - 29s 5ms/step - loss: 1.5617e-05 - val_loss: 1.2755e-05\n",
            "Epoch 10/100\n",
            "5817/5817 [==============================] - 29s 5ms/step - loss: 1.4536e-05 - val_loss: 1.4241e-05\n",
            "Epoch 11/100\n",
            "5817/5817 [==============================] - 29s 5ms/step - loss: 1.3526e-05 - val_loss: 5.1198e-06\n",
            "Epoch 12/100\n",
            "5817/5817 [==============================] - 29s 5ms/step - loss: 1.2821e-05 - val_loss: 3.8806e-05\n",
            "Epoch 13/100\n",
            "5817/5817 [==============================] - 29s 5ms/step - loss: 1.1966e-05 - val_loss: 1.6797e-05\n",
            "Epoch 14/100\n",
            "5817/5817 [==============================] - 29s 5ms/step - loss: 1.1471e-05 - val_loss: 2.5747e-05\n",
            "Epoch 15/100\n",
            "5817/5817 [==============================] - 29s 5ms/step - loss: 1.1105e-05 - val_loss: 4.7233e-06\n",
            "Epoch 16/100\n",
            "5817/5817 [==============================] - 29s 5ms/step - loss: 1.0345e-05 - val_loss: 1.3447e-05\n",
            "Epoch 17/100\n",
            "5817/5817 [==============================] - 29s 5ms/step - loss: 9.7658e-06 - val_loss: 3.7700e-06\n",
            "Epoch 18/100\n",
            "5817/5817 [==============================] - 29s 5ms/step - loss: 9.9725e-06 - val_loss: 2.5353e-05\n",
            "Epoch 19/100\n",
            "5817/5817 [==============================] - 28s 5ms/step - loss: 9.4462e-06 - val_loss: 3.3375e-05\n",
            "Epoch 20/100\n",
            "5817/5817 [==============================] - 28s 5ms/step - loss: 8.9869e-06 - val_loss: 1.8791e-05\n",
            "Epoch 21/100\n",
            "5817/5817 [==============================] - 29s 5ms/step - loss: 8.3680e-06 - val_loss: 1.6115e-05\n",
            "Epoch 22/100\n",
            "5817/5817 [==============================] - 29s 5ms/step - loss: 8.3905e-06 - val_loss: 4.0990e-06\n",
            "Epoch 23/100\n",
            "5817/5817 [==============================] - 28s 5ms/step - loss: 7.9193e-06 - val_loss: 6.3691e-06\n",
            "Epoch 24/100\n",
            "5817/5817 [==============================] - 28s 5ms/step - loss: 7.7804e-06 - val_loss: 4.3391e-06\n",
            "Epoch 25/100\n",
            "5817/5817 [==============================] - 28s 5ms/step - loss: 7.7375e-06 - val_loss: 1.2144e-05\n",
            "Epoch 26/100\n",
            "5817/5817 [==============================] - 28s 5ms/step - loss: 7.4598e-06 - val_loss: 4.1533e-06\n",
            "Epoch 27/100\n",
            "5817/5817 [==============================] - 28s 5ms/step - loss: 7.1758e-06 - val_loss: 3.9646e-05\n",
            "Epoch 28/100\n",
            "5817/5817 [==============================] - 28s 5ms/step - loss: 7.3147e-06 - val_loss: 2.6737e-06\n",
            "Epoch 29/100\n",
            "5817/5817 [==============================] - 28s 5ms/step - loss: 6.9708e-06 - val_loss: 3.1435e-05\n",
            "Epoch 30/100\n",
            "5817/5817 [==============================] - 28s 5ms/step - loss: 7.0553e-06 - val_loss: 3.1100e-06\n",
            "Epoch 31/100\n",
            "5817/5817 [==============================] - 28s 5ms/step - loss: 6.5944e-06 - val_loss: 6.1339e-06\n",
            "Epoch 32/100\n",
            "5817/5817 [==============================] - 28s 5ms/step - loss: 6.4305e-06 - val_loss: 3.1699e-06\n",
            "Epoch 33/100\n",
            "5817/5817 [==============================] - 28s 5ms/step - loss: 6.8485e-06 - val_loss: 4.4073e-06\n",
            "Epoch 34/100\n",
            "5817/5817 [==============================] - 28s 5ms/step - loss: 6.2171e-06 - val_loss: 6.2848e-06\n",
            "Epoch 35/100\n",
            "5817/5817 [==============================] - 28s 5ms/step - loss: 6.2212e-06 - val_loss: 4.9753e-06\n",
            "Epoch 36/100\n",
            "5817/5817 [==============================] - 28s 5ms/step - loss: 6.1050e-06 - val_loss: 4.3416e-06\n",
            "Epoch 37/100\n",
            "5817/5817 [==============================] - 28s 5ms/step - loss: 6.0034e-06 - val_loss: 7.3127e-06\n",
            "Epoch 38/100\n",
            "5817/5817 [==============================] - 28s 5ms/step - loss: 6.4474e-06 - val_loss: 2.6668e-06\n",
            "Epoch 39/100\n",
            "5817/5817 [==============================] - 28s 5ms/step - loss: 5.8646e-06 - val_loss: 8.8189e-06\n",
            "Epoch 40/100\n",
            "5817/5817 [==============================] - 28s 5ms/step - loss: 6.3384e-06 - val_loss: 4.9095e-06\n",
            "Epoch 41/100\n",
            "5817/5817 [==============================] - 28s 5ms/step - loss: 5.7759e-06 - val_loss: 3.3453e-06\n",
            "Epoch 42/100\n",
            "5817/5817 [==============================] - 28s 5ms/step - loss: 5.7634e-06 - val_loss: 5.0290e-05\n",
            "Epoch 43/100\n",
            "5817/5817 [==============================] - 29s 5ms/step - loss: 5.8453e-06 - val_loss: 5.8183e-06\n",
            "Epoch 44/100\n",
            "5817/5817 [==============================] - 28s 5ms/step - loss: 5.8038e-06 - val_loss: 1.4818e-05\n",
            "Epoch 45/100\n",
            "5817/5817 [==============================] - 28s 5ms/step - loss: 5.7355e-06 - val_loss: 2.0207e-05\n",
            "Epoch 46/100\n",
            "5817/5817 [==============================] - 28s 5ms/step - loss: 5.5836e-06 - val_loss: 3.7847e-06\n",
            "Epoch 47/100\n",
            "5817/5817 [==============================] - 28s 5ms/step - loss: 5.8403e-06 - val_loss: 1.5808e-05\n",
            "Epoch 48/100\n",
            "5817/5817 [==============================] - 28s 5ms/step - loss: 5.6356e-06 - val_loss: 1.0909e-05\n",
            "Epoch 49/100\n",
            "5817/5817 [==============================] - 28s 5ms/step - loss: 5.6576e-06 - val_loss: 2.0739e-05\n",
            "Epoch 50/100\n",
            "5817/5817 [==============================] - 28s 5ms/step - loss: 5.5850e-06 - val_loss: 2.7408e-06\n",
            "Epoch 51/100\n",
            "5817/5817 [==============================] - 28s 5ms/step - loss: 5.3993e-06 - val_loss: 9.9478e-06\n",
            "Epoch 52/100\n",
            "5817/5817 [==============================] - 28s 5ms/step - loss: 5.4075e-06 - val_loss: 3.1815e-06\n",
            "Epoch 53/100\n",
            "5817/5817 [==============================] - 28s 5ms/step - loss: 5.4131e-06 - val_loss: 2.7755e-06\n",
            "Epoch 54/100\n",
            "5817/5817 [==============================] - 29s 5ms/step - loss: 5.2943e-06 - val_loss: 3.2223e-06\n",
            "Epoch 55/100\n",
            "5817/5817 [==============================] - 29s 5ms/step - loss: 5.1941e-06 - val_loss: 7.1221e-06\n",
            "Epoch 56/100\n",
            "5817/5817 [==============================] - 28s 5ms/step - loss: 5.4765e-06 - val_loss: 5.7563e-06\n",
            "Epoch 57/100\n",
            "5817/5817 [==============================] - 28s 5ms/step - loss: 5.2548e-06 - val_loss: 4.5103e-06\n",
            "Epoch 58/100\n",
            "5817/5817 [==============================] - 28s 5ms/step - loss: 5.3043e-06 - val_loss: 1.3304e-05\n",
            "Epoch 59/100\n",
            "5817/5817 [==============================] - 28s 5ms/step - loss: 5.2003e-06 - val_loss: 5.8854e-06\n",
            "Epoch 60/100\n",
            "5817/5817 [==============================] - 28s 5ms/step - loss: 5.1757e-06 - val_loss: 4.4605e-06\n",
            "Epoch 61/100\n",
            "5817/5817 [==============================] - 29s 5ms/step - loss: 5.1582e-06 - val_loss: 3.1826e-06\n",
            "Epoch 62/100\n",
            "5817/5817 [==============================] - 28s 5ms/step - loss: 5.1310e-06 - val_loss: 4.8870e-06\n",
            "Epoch 63/100\n",
            "5817/5817 [==============================] - 28s 5ms/step - loss: 5.2980e-06 - val_loss: 7.3407e-06\n",
            "Epoch 64/100\n",
            "5817/5817 [==============================] - 28s 5ms/step - loss: 5.1776e-06 - val_loss: 3.9404e-06\n",
            "Epoch 65/100\n",
            "5817/5817 [==============================] - 28s 5ms/step - loss: 4.9840e-06 - val_loss: 1.0978e-05\n",
            "Epoch 66/100\n",
            "5817/5817 [==============================] - 28s 5ms/step - loss: 5.0038e-06 - val_loss: 2.1891e-05\n",
            "Epoch 67/100\n",
            "5817/5817 [==============================] - 28s 5ms/step - loss: 4.9680e-06 - val_loss: 6.0552e-06\n",
            "Epoch 68/100\n",
            "5817/5817 [==============================] - 28s 5ms/step - loss: 4.8616e-06 - val_loss: 8.6321e-06\n",
            "Epoch 69/100\n",
            "5817/5817 [==============================] - 28s 5ms/step - loss: 4.8845e-06 - val_loss: 3.2931e-06\n",
            "Epoch 70/100\n",
            "5817/5817 [==============================] - 29s 5ms/step - loss: 4.8668e-06 - val_loss: 2.5235e-05\n",
            "Epoch 71/100\n",
            "5817/5817 [==============================] - 28s 5ms/step - loss: 4.8851e-06 - val_loss: 2.7615e-06\n",
            "Epoch 72/100\n",
            "5817/5817 [==============================] - 28s 5ms/step - loss: 5.2726e-06 - val_loss: 6.5994e-06\n",
            "Epoch 73/100\n",
            "5817/5817 [==============================] - 28s 5ms/step - loss: 4.8814e-06 - val_loss: 3.2038e-06\n",
            "Epoch 74/100\n",
            "5817/5817 [==============================] - 28s 5ms/step - loss: 5.0527e-06 - val_loss: 4.0769e-06\n",
            "Epoch 75/100\n",
            "5817/5817 [==============================] - 28s 5ms/step - loss: 4.7705e-06 - val_loss: 6.0150e-06\n",
            "Epoch 76/100\n",
            "5817/5817 [==============================] - 28s 5ms/step - loss: 4.7845e-06 - val_loss: 4.0513e-06\n",
            "Epoch 77/100\n",
            "5817/5817 [==============================] - 28s 5ms/step - loss: 4.7528e-06 - val_loss: 6.3721e-06\n",
            "Epoch 78/100\n",
            "5817/5817 [==============================] - 28s 5ms/step - loss: 5.0309e-06 - val_loss: 1.2026e-05\n",
            "Epoch 79/100\n",
            "5817/5817 [==============================] - 28s 5ms/step - loss: 4.7254e-06 - val_loss: 1.3258e-05\n",
            "Epoch 80/100\n",
            "5817/5817 [==============================] - 28s 5ms/step - loss: 5.0039e-06 - val_loss: 1.4565e-05\n",
            "Epoch 81/100\n",
            "5817/5817 [==============================] - 28s 5ms/step - loss: 4.9530e-06 - val_loss: 7.1704e-06\n",
            "Epoch 82/100\n",
            "5817/5817 [==============================] - 28s 5ms/step - loss: 4.9469e-06 - val_loss: 3.1903e-06\n",
            "Epoch 83/100\n",
            "5817/5817 [==============================] - 28s 5ms/step - loss: 4.6452e-06 - val_loss: 8.7980e-06\n",
            "Epoch 84/100\n",
            "5817/5817 [==============================] - 29s 5ms/step - loss: 4.6150e-06 - val_loss: 2.8746e-06\n",
            "Epoch 85/100\n",
            "5817/5817 [==============================] - 28s 5ms/step - loss: 4.8625e-06 - val_loss: 4.2613e-06\n",
            "Epoch 86/100\n",
            "5817/5817 [==============================] - 29s 5ms/step - loss: 4.7553e-06 - val_loss: 1.6610e-05\n",
            "Epoch 87/100\n",
            "5817/5817 [==============================] - 29s 5ms/step - loss: 4.6805e-06 - val_loss: 6.0132e-06\n",
            "Epoch 88/100\n",
            "5817/5817 [==============================] - 29s 5ms/step - loss: 4.9165e-06 - val_loss: 1.0146e-05\n",
            "Epoch 89/100\n",
            "5817/5817 [==============================] - 29s 5ms/step - loss: 4.6292e-06 - val_loss: 7.1020e-06\n",
            "Epoch 90/100\n",
            "5817/5817 [==============================] - 28s 5ms/step - loss: 4.7025e-06 - val_loss: 2.9135e-06\n",
            "Epoch 91/100\n",
            "5817/5817 [==============================] - 28s 5ms/step - loss: 4.7215e-06 - val_loss: 3.6042e-06\n",
            "Epoch 92/100\n",
            "5817/5817 [==============================] - 28s 5ms/step - loss: 4.7196e-06 - val_loss: 1.1980e-05\n",
            "Epoch 93/100\n",
            "5817/5817 [==============================] - 28s 5ms/step - loss: 4.5856e-06 - val_loss: 2.3410e-06\n",
            "Epoch 94/100\n",
            "5817/5817 [==============================] - 28s 5ms/step - loss: 4.8093e-06 - val_loss: 2.2650e-06\n",
            "Epoch 95/100\n",
            "5817/5817 [==============================] - 29s 5ms/step - loss: 4.9384e-06 - val_loss: 2.4491e-06\n",
            "Epoch 96/100\n",
            "5817/5817 [==============================] - 29s 5ms/step - loss: 4.7953e-06 - val_loss: 4.4102e-06\n",
            "Epoch 97/100\n",
            "5817/5817 [==============================] - 29s 5ms/step - loss: 4.6351e-06 - val_loss: 6.6174e-06\n",
            "Epoch 98/100\n",
            "5817/5817 [==============================] - 29s 5ms/step - loss: 4.6073e-06 - val_loss: 4.4293e-06\n",
            "Epoch 99/100\n",
            "5817/5817 [==============================] - 29s 5ms/step - loss: 4.6943e-06 - val_loss: 1.5359e-05\n",
            "Epoch 100/100\n",
            "5817/5817 [==============================] - 29s 5ms/step - loss: 4.6751e-06 - val_loss: 5.1176e-06\n"
          ],
          "name": "stdout"
        }
      ]
    },
    {
      "cell_type": "code",
      "metadata": {
        "colab": {
          "base_uri": "https://localhost:8080/",
          "height": 279
        },
        "id": "QdTs4FtnOrsI",
        "outputId": "9e878e40-2d3b-43da-a473-35c446f8d45a"
      },
      "source": [
        "# Plot loss\n",
        "plt.figure(figsize=(12, 4))\n",
        "plt.plot(history.history['loss'], label='Training', linewidth=2)\n",
        "plt.plot(history.history['val_loss'], label='Validation', linewidth=2)\n",
        "plt.legend()\n",
        "plt.xlabel('Epoch')\n",
        "plt.ylabel('Loss')\n",
        "plt.grid(True)\n",
        "plt.show()"
      ],
      "id": "QdTs4FtnOrsI",
      "execution_count": null,
      "outputs": [
        {
          "output_type": "display_data",
          "data": {
            "image/png": "[encoded data removed]",
            "text/plain": [
              "<Figure size 864x288 with 1 Axes>"
            ]
          },
          "metadata": {
            "tags": [],
            "needs_background": "light"
          }
        }
      ]
    },
    {
      "cell_type": "code",
      "metadata": {
        "colab": {
          "base_uri": "https://localhost:8080/"
        },
        "id": "vvHTn3-Z7AEq",
        "outputId": "51ee5282-b3e1-452a-8897-b7df929cb7c2"
      },
      "source": [
        "# Predict on training and test sets\n",
        "y_train_hat = rnn_model.predict(x_train)\n",
        "y_test_hat = rnn_model.predict(x_test)\n",
        "print(y_train_hat.shape)\n",
        "print(y_test_hat.shape)"
      ],
      "id": "vvHTn3-Z7AEq",
      "execution_count": null,
      "outputs": [
        {
          "output_type": "stream",
          "text": [
            "(1654529, 1)\n",
            "(413630, 1)\n"
          ],
          "name": "stdout"
        }
      ]
    },
    {
      "cell_type": "code",
      "metadata": {
        "colab": {
          "base_uri": "https://localhost:8080/",
          "height": 279
        },
        "id": "CJ9Gs7JO7Stg",
        "outputId": "35f76e3d-8ff4-4574-b21b-2158b6bb7f9a"
      },
      "source": [
        "# Plot y_train, y_train_hat, y_test and y_test_hat\n",
        "x_ticks = np.arange(len(y_train) + len(y_test)) # Para poder imprimir test delante de train\n",
        "\n",
        "plt.figure(figsize=(12, 4))\n",
        "plt.plot(x_ticks[:len(y_train)], y_train)\n",
        "plt.plot(x_ticks[:len(y_train)], y_train_hat)\n",
        "plt.plot(x_ticks[len(y_train):], y_test)\n",
        "plt.plot(x_ticks[len(y_train):], y_test_hat)\n",
        "plt.ylabel('IAQ')\n",
        "plt.xlabel('Days')\n",
        "plt.legend(['y_train', '$\\hat{y}$_train', 'y_test', '$\\hat{y}$_test'], loc='upper left')\n",
        "plt.grid()\n",
        "plt.show()"
      ],
      "id": "CJ9Gs7JO7Stg",
      "execution_count": 22,
      "outputs": [
        {
          "output_type": "display_data",
          "data": {
            "image/png": "[encoded data removed]",
            "text/plain": [
              "<Figure size 864x288 with 1 Axes>"
            ]
          },
          "metadata": {
            "tags": [],
            "needs_background": "light"
          }
        }
      ]
    },
    {
      "cell_type": "code",
      "metadata": {
        "colab": {
          "base_uri": "https://localhost:8080/"
        },
        "id": "w3hvKaSFdEZN",
        "outputId": "b864e55c-2330-4db4-82f6-5f08d6f8c0d8"
      },
      "source": [
        "print(x_test)"
      ],
      "id": "w3hvKaSFdEZN",
      "execution_count": 21,
      "outputs": [
        {
          "output_type": "stream",
          "text": [
            "[[[0.66666667 0.67723343 0.42649341 ... 0.0896     1.         0.86956522]\n",
            "  [0.66666667 0.68011527 0.42629946 ... 0.0886     1.         0.86956522]\n",
            "  [0.66523297 0.67723343 0.42707525 ... 0.089      1.         0.86956522]\n",
            "  [0.66523297 0.68011527 0.42707525 ... 0.0898     1.         0.86956522]]\n",
            "\n",
            " [[0.66666667 0.68011527 0.42629946 ... 0.0886     1.         0.86956522]\n",
            "  [0.66523297 0.67723343 0.42707525 ... 0.089      1.         0.86956522]\n",
            "  [0.66523297 0.68011527 0.42707525 ... 0.0898     1.         0.86956522]\n",
            "  [0.66379928 0.6815562  0.428045   ... 0.0902     1.         0.86956522]]\n",
            "\n",
            " [[0.66523297 0.67723343 0.42707525 ... 0.089      1.         0.86956522]\n",
            "  [0.66523297 0.68011527 0.42707525 ... 0.0898     1.         0.86956522]\n",
            "  [0.66379928 0.6815562  0.428045   ... 0.0902     1.         0.86956522]\n",
            "  [0.66379928 0.68011527 0.42823894 ... 0.0914     1.         0.86956522]]\n",
            "\n",
            " ...\n",
            "\n",
            " [[0.82437276 0.48270893 0.46179209 ... 0.206      1.         0.17391304]\n",
            "  [0.82437276 0.48270893 0.45965865 ... 0.2042     1.         0.17391304]\n",
            "  [0.82293907 0.48270893 0.46043445 ... 0.2058     1.         0.17391304]\n",
            "  [0.82150538 0.48126801 0.46004655 ... 0.2054     1.         0.17391304]]\n",
            "\n",
            " [[0.82437276 0.48270893 0.45965865 ... 0.2042     1.         0.17391304]\n",
            "  [0.82293907 0.48270893 0.46043445 ... 0.2058     1.         0.17391304]\n",
            "  [0.82150538 0.48126801 0.46004655 ... 0.2054     1.         0.17391304]\n",
            "  [0.82078853 0.48126801 0.45927075 ... 0.2042     1.         0.17391304]]\n",
            "\n",
            " [[0.82293907 0.48270893 0.46043445 ... 0.2058     1.         0.17391304]\n",
            "  [0.82150538 0.48126801 0.46004655 ... 0.2054     1.         0.17391304]\n",
            "  [0.82078853 0.48126801 0.45927075 ... 0.2042     1.         0.17391304]\n",
            "  [0.82078853 0.48126801 0.45888285 ... 0.2062     1.         0.17391304]]]\n"
          ],
          "name": "stdout"
        }
      ]
    }
  ]
}