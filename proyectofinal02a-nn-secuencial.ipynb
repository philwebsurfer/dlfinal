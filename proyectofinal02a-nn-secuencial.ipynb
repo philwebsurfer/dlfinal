{
 "cells": [
  {
   "cell_type": "markdown",
   "id": "rocky-hamilton",
   "metadata": {},
   "source": [
    "# Proyecto Final: Redes Neuronales. Datos del Sensor: como Secuencia.\n",
    "\n",
    "Tenemos ya los datos sin faltantes con las imputaciones que se han realizado en preparación para tomar estos datos como secuenciales.\n",
    "\n",
    "Estos datos son una serie de tiempo de:"
   ]
  },
  {
   "cell_type": "code",
   "execution_count": 1,
   "id": "forward-phase",
   "metadata": {},
   "outputs": [],
   "source": [
    "import pandas as pd\n",
    "from plotnine import *\n",
    "import numpy as np\n",
    "from IPython.display import display, Markdown"
   ]
  },
  {
   "cell_type": "code",
   "execution_count": 24,
   "id": "verbal-broadway",
   "metadata": {},
   "outputs": [],
   "source": [
    "airdata = pd.read_pickle(\"data/airdata/air-imputated.pickle.gz\")"
   ]
  },
  {
   "cell_type": "code",
   "execution_count": 26,
   "id": "loved-desktop",
   "metadata": {},
   "outputs": [
    {
     "data": {
      "text/markdown": [
       "Estso datos son una serie de tiempo de 71 días. Con 2,068,354 observaciones"
      ],
      "text/plain": [
       "<IPython.core.display.Markdown object>"
      ]
     },
     "execution_count": 26,
     "metadata": {},
     "output_type": "execute_result"
    }
   ],
   "source": [
    "Markdown(f\"Estso datos son una serie de tiempo de \\\n",
    "{(airdata['datetime'].tail(1).iloc[0] - airdata['datetime'].head(1).iloc[0]).days}\\\n",
    " días. Con {airdata.shape[0]:3,} observaciones.\")"
   ]
  },
  {
   "cell_type": "code",
   "execution_count": 30,
   "id": "universal-content",
   "metadata": {},
   "outputs": [
    {
     "data": {
      "text/markdown": [
       "Dichas observaciones fueron 2021-02-12 06:05:35.846304417 al 2021-04-24 22:16:20.885603666."
      ],
      "text/plain": [
       "<IPython.core.display.Markdown object>"
      ]
     },
     "execution_count": 30,
     "metadata": {},
     "output_type": "execute_result"
    }
   ],
   "source": [
    "Markdown(f\"Dichas observaciones fueron \\\n",
    "{airdata['datetime'].head(1).iloc[0]} \\\n",
    "al {airdata['datetime'].tail(1).iloc[0]}.\")"
   ]
  }
 ],
 "metadata": {
  "kernelspec": {
   "display_name": "cuda",
   "language": "python",
   "name": "cuda"
  },
  "language_info": {
   "codemirror_mode": {
    "name": "ipython",
    "version": 3
   },
   "file_extension": ".py",
   "mimetype": "text/x-python",
   "name": "python",
   "nbconvert_exporter": "python",
   "pygments_lexer": "ipython3",
   "version": "3.7.9"
  }
 },
 "nbformat": 4,
 "nbformat_minor": 5
}
